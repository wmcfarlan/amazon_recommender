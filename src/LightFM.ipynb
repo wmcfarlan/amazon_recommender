{
 "cells": [
  {
   "cell_type": "code",
   "execution_count": 56,
   "id": "persistent-premiere",
   "metadata": {},
   "outputs": [
    {
     "name": "stdout",
     "output_type": "stream",
     "text": [
      "The autoreload extension is already loaded. To reload it, use:\n",
      "  %reload_ext autoreload\n"
     ]
    },
    {
     "data": {
      "text/html": [
       "        <script type=\"text/javascript\">\n",
       "        window.PlotlyConfig = {MathJaxConfig: 'local'};\n",
       "        if (window.MathJax) {MathJax.Hub.Config({SVG: {font: \"STIX-Web\"}});}\n",
       "        if (typeof require !== 'undefined') {\n",
       "        require.undef(\"plotly\");\n",
       "        requirejs.config({\n",
       "            paths: {\n",
       "                'plotly': ['https://cdn.plot.ly/plotly-latest.min']\n",
       "            }\n",
       "        });\n",
       "        require(['plotly'], function(Plotly) {\n",
       "            window._Plotly = Plotly;\n",
       "        });\n",
       "        }\n",
       "        </script>\n",
       "        "
      ]
     },
     "metadata": {},
     "output_type": "display_data"
    }
   ],
   "source": [
    "import pandas as pd\n",
    "import numpy as np\n",
    "import itertools\n",
    "import pickle\n",
    "\n",
    "# display options\n",
    "pd.set_option('display.max_rows', 500)\n",
    "pd.set_option('display.max_columns', 500)\n",
    "pd.set_option('display.width', 1000)\n",
    "\n",
    "# visualization libraries\n",
    "import matplotlib.pyplot as plt\n",
    "import seaborn as sns\n",
    "import plotly.express as px\n",
    "import plotly.graph_objects as go\n",
    "\n",
    "# custom helper functions\n",
    "%load_ext autoreload\n",
    "%autoreload 2\n",
    "from helper.general_helper import *\n",
    "\n",
    "# lightfm\n",
    "from lightfm.data import Dataset\n",
    "from lightfm import LightFM\n",
    "from lightfm.cross_validation import random_train_test_split\n",
    "from lightfm.evaluation import auc_score\n",
    "\n",
    "\n",
    "# view plotly in jupyter \n",
    "from plotly.offline import download_plotlyjs, init_notebook_mode, plot, iplot\n",
    "init_notebook_mode(connected=True)\n",
    "\n",
    "# ignore warnings\n",
    "import warnings\n",
    "warnings.filterwarnings(\"ignore\")"
   ]
  },
  {
   "cell_type": "code",
   "execution_count": 2,
   "id": "integral-memory",
   "metadata": {},
   "outputs": [],
   "source": [
    "df = pd.read_csv('../../merged_df.csv')"
   ]
  },
  {
   "cell_type": "code",
   "execution_count": 60,
   "id": "animated-hudson",
   "metadata": {},
   "outputs": [
    {
     "data": {
      "text/html": [
       "<div>\n",
       "<style scoped>\n",
       "    .dataframe tbody tr th:only-of-type {\n",
       "        vertical-align: middle;\n",
       "    }\n",
       "\n",
       "    .dataframe tbody tr th {\n",
       "        vertical-align: top;\n",
       "    }\n",
       "\n",
       "    .dataframe thead th {\n",
       "        text-align: right;\n",
       "    }\n",
       "</style>\n",
       "<table border=\"1\" class=\"dataframe\">\n",
       "  <thead>\n",
       "    <tr style=\"text-align: right;\">\n",
       "      <th></th>\n",
       "      <th>reviewerID</th>\n",
       "      <th>asin</th>\n",
       "      <th>reviewerName</th>\n",
       "      <th>helpful</th>\n",
       "      <th>reviewText</th>\n",
       "      <th>overall</th>\n",
       "      <th>summary</th>\n",
       "      <th>unixReviewTime</th>\n",
       "      <th>reviewTime</th>\n",
       "      <th>description</th>\n",
       "      <th>title</th>\n",
       "      <th>imUrl</th>\n",
       "      <th>related</th>\n",
       "      <th>salesRank</th>\n",
       "      <th>categories</th>\n",
       "      <th>price</th>\n",
       "      <th>brand</th>\n",
       "      <th>prod_review_counts</th>\n",
       "    </tr>\n",
       "  </thead>\n",
       "  <tbody>\n",
       "    <tr>\n",
       "      <th>0</th>\n",
       "      <td>ALC5GH8CAMAI7</td>\n",
       "      <td>159985130X</td>\n",
       "      <td>AnnN</td>\n",
       "      <td>[1, 1]</td>\n",
       "      <td>This is a great little gadget to have around. ...</td>\n",
       "      <td>5.0</td>\n",
       "      <td>Handy little gadget</td>\n",
       "      <td>1294185600</td>\n",
       "      <td>01 5, 2011</td>\n",
       "      <td>The Pocket Magnifier is so popular, we are hav...</td>\n",
       "      <td>lightwedge-lighted-pocket-magnifier,-plum</td>\n",
       "      <td>http://ecx.images-amazon.com/images/I/31eVZtZ%...</td>\n",
       "      <td>{'also_bought': ['B002DGPUM2', 'B00524H8MC', '...</td>\n",
       "      <td>0.0</td>\n",
       "      <td>Medical Supplies &amp; Equipment Daily Living Aids...</td>\n",
       "      <td>24.95</td>\n",
       "      <td>misc</td>\n",
       "      <td>medium</td>\n",
       "    </tr>\n",
       "    <tr>\n",
       "      <th>1</th>\n",
       "      <td>AHKSURW85PJUE</td>\n",
       "      <td>159985130X</td>\n",
       "      <td>AZ buyer \"AZ buyer\"</td>\n",
       "      <td>[1, 1]</td>\n",
       "      <td>I would recommend this for a travel magnifier ...</td>\n",
       "      <td>4.0</td>\n",
       "      <td>Small &amp; may need to encourage battery</td>\n",
       "      <td>1329523200</td>\n",
       "      <td>02 18, 2012</td>\n",
       "      <td>The Pocket Magnifier is so popular, we are hav...</td>\n",
       "      <td>lightwedge-lighted-pocket-magnifier,-plum</td>\n",
       "      <td>http://ecx.images-amazon.com/images/I/31eVZtZ%...</td>\n",
       "      <td>{'also_bought': ['B002DGPUM2', 'B00524H8MC', '...</td>\n",
       "      <td>0.0</td>\n",
       "      <td>Medical Supplies &amp; Equipment Daily Living Aids...</td>\n",
       "      <td>24.95</td>\n",
       "      <td>misc</td>\n",
       "      <td>medium</td>\n",
       "    </tr>\n",
       "    <tr>\n",
       "      <th>2</th>\n",
       "      <td>A38RMU1Y5TDP9</td>\n",
       "      <td>159985130X</td>\n",
       "      <td>Bob Tobias \"Robert Tobias\"</td>\n",
       "      <td>[75, 77]</td>\n",
       "      <td>What I liked was the quality of the lens and t...</td>\n",
       "      <td>4.0</td>\n",
       "      <td>Very good but not great</td>\n",
       "      <td>1275955200</td>\n",
       "      <td>06 8, 2010</td>\n",
       "      <td>The Pocket Magnifier is so popular, we are hav...</td>\n",
       "      <td>lightwedge-lighted-pocket-magnifier,-plum</td>\n",
       "      <td>http://ecx.images-amazon.com/images/I/31eVZtZ%...</td>\n",
       "      <td>{'also_bought': ['B002DGPUM2', 'B00524H8MC', '...</td>\n",
       "      <td>0.0</td>\n",
       "      <td>Medical Supplies &amp; Equipment Daily Living Aids...</td>\n",
       "      <td>24.95</td>\n",
       "      <td>misc</td>\n",
       "      <td>medium</td>\n",
       "    </tr>\n",
       "    <tr>\n",
       "      <th>3</th>\n",
       "      <td>A1XZUG7DFXXOS4</td>\n",
       "      <td>159985130X</td>\n",
       "      <td>Cat lover</td>\n",
       "      <td>[56, 60]</td>\n",
       "      <td>Love the Great point light pocket magnifier!  ...</td>\n",
       "      <td>4.0</td>\n",
       "      <td>great addition to your purse</td>\n",
       "      <td>1202428800</td>\n",
       "      <td>02 8, 2008</td>\n",
       "      <td>The Pocket Magnifier is so popular, we are hav...</td>\n",
       "      <td>lightwedge-lighted-pocket-magnifier,-plum</td>\n",
       "      <td>http://ecx.images-amazon.com/images/I/31eVZtZ%...</td>\n",
       "      <td>{'also_bought': ['B002DGPUM2', 'B00524H8MC', '...</td>\n",
       "      <td>0.0</td>\n",
       "      <td>Medical Supplies &amp; Equipment Daily Living Aids...</td>\n",
       "      <td>24.95</td>\n",
       "      <td>misc</td>\n",
       "      <td>medium</td>\n",
       "    </tr>\n",
       "    <tr>\n",
       "      <th>4</th>\n",
       "      <td>A1MS3M7M7AM13X</td>\n",
       "      <td>159985130X</td>\n",
       "      <td>Cricketoes</td>\n",
       "      <td>[1, 1]</td>\n",
       "      <td>This is very nice. You pull out on the magnifi...</td>\n",
       "      <td>5.0</td>\n",
       "      <td>Very nice and convenient.</td>\n",
       "      <td>1313452800</td>\n",
       "      <td>08 16, 2011</td>\n",
       "      <td>The Pocket Magnifier is so popular, we are hav...</td>\n",
       "      <td>lightwedge-lighted-pocket-magnifier,-plum</td>\n",
       "      <td>http://ecx.images-amazon.com/images/I/31eVZtZ%...</td>\n",
       "      <td>{'also_bought': ['B002DGPUM2', 'B00524H8MC', '...</td>\n",
       "      <td>0.0</td>\n",
       "      <td>Medical Supplies &amp; Equipment Daily Living Aids...</td>\n",
       "      <td>24.95</td>\n",
       "      <td>misc</td>\n",
       "      <td>medium</td>\n",
       "    </tr>\n",
       "  </tbody>\n",
       "</table>\n",
       "</div>"
      ],
      "text/plain": [
       "       reviewerID        asin                reviewerName   helpful                                         reviewText  overall                                summary  unixReviewTime   reviewTime                                        description                                      title                                              imUrl                                            related  salesRank                                         categories  price brand prod_review_counts\n",
       "0   ALC5GH8CAMAI7  159985130X                        AnnN    [1, 1]  This is a great little gadget to have around. ...      5.0                    Handy little gadget      1294185600   01 5, 2011  The Pocket Magnifier is so popular, we are hav...  lightwedge-lighted-pocket-magnifier,-plum  http://ecx.images-amazon.com/images/I/31eVZtZ%...  {'also_bought': ['B002DGPUM2', 'B00524H8MC', '...        0.0  Medical Supplies & Equipment Daily Living Aids...  24.95  misc             medium\n",
       "1   AHKSURW85PJUE  159985130X         AZ buyer \"AZ buyer\"    [1, 1]  I would recommend this for a travel magnifier ...      4.0  Small & may need to encourage battery      1329523200  02 18, 2012  The Pocket Magnifier is so popular, we are hav...  lightwedge-lighted-pocket-magnifier,-plum  http://ecx.images-amazon.com/images/I/31eVZtZ%...  {'also_bought': ['B002DGPUM2', 'B00524H8MC', '...        0.0  Medical Supplies & Equipment Daily Living Aids...  24.95  misc             medium\n",
       "2   A38RMU1Y5TDP9  159985130X  Bob Tobias \"Robert Tobias\"  [75, 77]  What I liked was the quality of the lens and t...      4.0                Very good but not great      1275955200   06 8, 2010  The Pocket Magnifier is so popular, we are hav...  lightwedge-lighted-pocket-magnifier,-plum  http://ecx.images-amazon.com/images/I/31eVZtZ%...  {'also_bought': ['B002DGPUM2', 'B00524H8MC', '...        0.0  Medical Supplies & Equipment Daily Living Aids...  24.95  misc             medium\n",
       "3  A1XZUG7DFXXOS4  159985130X                   Cat lover  [56, 60]  Love the Great point light pocket magnifier!  ...      4.0           great addition to your purse      1202428800   02 8, 2008  The Pocket Magnifier is so popular, we are hav...  lightwedge-lighted-pocket-magnifier,-plum  http://ecx.images-amazon.com/images/I/31eVZtZ%...  {'also_bought': ['B002DGPUM2', 'B00524H8MC', '...        0.0  Medical Supplies & Equipment Daily Living Aids...  24.95  misc             medium\n",
       "4  A1MS3M7M7AM13X  159985130X                  Cricketoes    [1, 1]  This is very nice. You pull out on the magnifi...      5.0              Very nice and convenient.      1313452800  08 16, 2011  The Pocket Magnifier is so popular, we are hav...  lightwedge-lighted-pocket-magnifier,-plum  http://ecx.images-amazon.com/images/I/31eVZtZ%...  {'also_bought': ['B002DGPUM2', 'B00524H8MC', '...        0.0  Medical Supplies & Equipment Daily Living Aids...  24.95  misc             medium"
      ]
     },
     "execution_count": 60,
     "metadata": {},
     "output_type": "execute_result"
    }
   ],
   "source": [
    "df.head()"
   ]
  },
  {
   "cell_type": "code",
   "execution_count": 3,
   "id": "quick-healing",
   "metadata": {},
   "outputs": [
    {
     "data": {
      "text/plain": [
       "misc                     77372\n",
       "now-foods                 8660\n",
       "jarrow                    7604\n",
       "philips                   5672\n",
       "panasonic                 3183\n",
       "                         ...  \n",
       "shamtastic                   5\n",
       "sundesa-blenderbottle        5\n",
       "pure-touch-skin-care         5\n",
       "fc2                          5\n",
       "laerdal                      5\n",
       "Name: brand, Length: 3825, dtype: int64"
      ]
     },
     "execution_count": 3,
     "metadata": {},
     "output_type": "execute_result"
    }
   ],
   "source": [
    "df.brand.fillna(value='misc', inplace=True)\n",
    "df.brand = df.brand.apply(lambda x: \"-\".join(x.lower().split()))\n",
    "df.brand.value_counts()"
   ]
  },
  {
   "cell_type": "markdown",
   "id": "brave-nutrition",
   "metadata": {},
   "source": [
    "##### Create Usier/Item/Review dataset plus item dataset"
   ]
  },
  {
   "cell_type": "code",
   "execution_count": 4,
   "id": "referenced-measure",
   "metadata": {},
   "outputs": [],
   "source": [
    "cut_down = df.groupby('reviewerID').filter(lambda x: len(x) >= 10)"
   ]
  },
  {
   "cell_type": "code",
   "execution_count": 6,
   "id": "proper-aggregate",
   "metadata": {},
   "outputs": [],
   "source": [
    "df_uir = cut_down[['reviewerID', 'asin', 'overall']]"
   ]
  },
  {
   "cell_type": "code",
   "execution_count": 7,
   "id": "extra-jersey",
   "metadata": {},
   "outputs": [
    {
     "data": {
      "text/html": [
       "<div>\n",
       "<style scoped>\n",
       "    .dataframe tbody tr th:only-of-type {\n",
       "        vertical-align: middle;\n",
       "    }\n",
       "\n",
       "    .dataframe tbody tr th {\n",
       "        vertical-align: top;\n",
       "    }\n",
       "\n",
       "    .dataframe thead th {\n",
       "        text-align: right;\n",
       "    }\n",
       "</style>\n",
       "<table border=\"1\" class=\"dataframe\">\n",
       "  <thead>\n",
       "    <tr style=\"text-align: right;\">\n",
       "      <th></th>\n",
       "      <th>reviewerID</th>\n",
       "      <th>asin</th>\n",
       "      <th>overall</th>\n",
       "    </tr>\n",
       "  </thead>\n",
       "  <tbody>\n",
       "    <tr>\n",
       "      <th>2</th>\n",
       "      <td>A38RMU1Y5TDP9</td>\n",
       "      <td>159985130X</td>\n",
       "      <td>4.0</td>\n",
       "    </tr>\n",
       "    <tr>\n",
       "      <th>5</th>\n",
       "      <td>AXO4PQU0XG3TG</td>\n",
       "      <td>159985130X</td>\n",
       "      <td>5.0</td>\n",
       "    </tr>\n",
       "    <tr>\n",
       "      <th>6</th>\n",
       "      <td>A28X0LT2100RL1</td>\n",
       "      <td>159985130X</td>\n",
       "      <td>4.0</td>\n",
       "    </tr>\n",
       "    <tr>\n",
       "      <th>8</th>\n",
       "      <td>A1JQDCX4LDKBZ3</td>\n",
       "      <td>159985130X</td>\n",
       "      <td>3.0</td>\n",
       "    </tr>\n",
       "    <tr>\n",
       "      <th>9</th>\n",
       "      <td>A3RNRXOM5J2C93</td>\n",
       "      <td>159985130X</td>\n",
       "      <td>4.0</td>\n",
       "    </tr>\n",
       "  </tbody>\n",
       "</table>\n",
       "</div>"
      ],
      "text/plain": [
       "       reviewerID        asin  overall\n",
       "2   A38RMU1Y5TDP9  159985130X      4.0\n",
       "5   AXO4PQU0XG3TG  159985130X      5.0\n",
       "6  A28X0LT2100RL1  159985130X      4.0\n",
       "8  A1JQDCX4LDKBZ3  159985130X      3.0\n",
       "9  A3RNRXOM5J2C93  159985130X      4.0"
      ]
     },
     "execution_count": 7,
     "metadata": {},
     "output_type": "execute_result"
    }
   ],
   "source": [
    "df_uir.head()"
   ]
  },
  {
   "cell_type": "code",
   "execution_count": 8,
   "id": "unlike-niger",
   "metadata": {},
   "outputs": [],
   "source": [
    "df_if =  cut_down[['asin', 'price', 'prod_review_counts', 'categories', 'brand']]"
   ]
  },
  {
   "cell_type": "code",
   "execution_count": 9,
   "id": "excess-treasury",
   "metadata": {},
   "outputs": [
    {
     "data": {
      "text/html": [
       "<div>\n",
       "<style scoped>\n",
       "    .dataframe tbody tr th:only-of-type {\n",
       "        vertical-align: middle;\n",
       "    }\n",
       "\n",
       "    .dataframe tbody tr th {\n",
       "        vertical-align: top;\n",
       "    }\n",
       "\n",
       "    .dataframe thead th {\n",
       "        text-align: right;\n",
       "    }\n",
       "</style>\n",
       "<table border=\"1\" class=\"dataframe\">\n",
       "  <thead>\n",
       "    <tr style=\"text-align: right;\">\n",
       "      <th></th>\n",
       "      <th>asin</th>\n",
       "      <th>price</th>\n",
       "      <th>prod_review_counts</th>\n",
       "      <th>categories</th>\n",
       "      <th>brand</th>\n",
       "    </tr>\n",
       "  </thead>\n",
       "  <tbody>\n",
       "    <tr>\n",
       "      <th>2</th>\n",
       "      <td>159985130X</td>\n",
       "      <td>24.95</td>\n",
       "      <td>medium</td>\n",
       "      <td>Medical Supplies &amp; Equipment Daily Living Aids...</td>\n",
       "      <td>misc</td>\n",
       "    </tr>\n",
       "    <tr>\n",
       "      <th>5</th>\n",
       "      <td>159985130X</td>\n",
       "      <td>24.95</td>\n",
       "      <td>medium</td>\n",
       "      <td>Medical Supplies &amp; Equipment Daily Living Aids...</td>\n",
       "      <td>misc</td>\n",
       "    </tr>\n",
       "    <tr>\n",
       "      <th>6</th>\n",
       "      <td>159985130X</td>\n",
       "      <td>24.95</td>\n",
       "      <td>medium</td>\n",
       "      <td>Medical Supplies &amp; Equipment Daily Living Aids...</td>\n",
       "      <td>misc</td>\n",
       "    </tr>\n",
       "    <tr>\n",
       "      <th>8</th>\n",
       "      <td>159985130X</td>\n",
       "      <td>24.95</td>\n",
       "      <td>medium</td>\n",
       "      <td>Medical Supplies &amp; Equipment Daily Living Aids...</td>\n",
       "      <td>misc</td>\n",
       "    </tr>\n",
       "    <tr>\n",
       "      <th>9</th>\n",
       "      <td>159985130X</td>\n",
       "      <td>24.95</td>\n",
       "      <td>medium</td>\n",
       "      <td>Medical Supplies &amp; Equipment Daily Living Aids...</td>\n",
       "      <td>misc</td>\n",
       "    </tr>\n",
       "  </tbody>\n",
       "</table>\n",
       "</div>"
      ],
      "text/plain": [
       "         asin  price prod_review_counts                                         categories brand\n",
       "2  159985130X  24.95             medium  Medical Supplies & Equipment Daily Living Aids...  misc\n",
       "5  159985130X  24.95             medium  Medical Supplies & Equipment Daily Living Aids...  misc\n",
       "6  159985130X  24.95             medium  Medical Supplies & Equipment Daily Living Aids...  misc\n",
       "8  159985130X  24.95             medium  Medical Supplies & Equipment Daily Living Aids...  misc\n",
       "9  159985130X  24.95             medium  Medical Supplies & Equipment Daily Living Aids...  misc"
      ]
     },
     "execution_count": 9,
     "metadata": {},
     "output_type": "execute_result"
    }
   ],
   "source": [
    "df_if.head()"
   ]
  },
  {
   "cell_type": "markdown",
   "id": "overall-arkansas",
   "metadata": {},
   "source": [
    "##### generating feature to unique values lists"
   ]
  },
  {
   "cell_type": "code",
   "execution_count": 24,
   "id": "strong-installation",
   "metadata": {},
   "outputs": [],
   "source": [
    "feature_list = []\n",
    "\n",
    "# format should be 'feature:value'\n",
    "\n",
    "# selecting unique values\n",
    "# price_lst = [f\"price:{val}\" for val in df_if.price.unique()]\n",
    "sales_lst = [f\"prod_review_counts:{cat}\" for cat in df_if.prod_review_counts.unique()]\n",
    "cat_lst = [f\"categories:{cat}\" for cat in df_if.categories.unique()]\n",
    "brand_lst = [f\"brand:{brand}\" for brand in df_if.brand.unique()]\n",
    "\n",
    "# appending list\n",
    "# for price in price_lst:\n",
    "#     feature_list.append(price)\n",
    "for sales in sales_lst:\n",
    "    feature_list.append(sales)\n",
    "for cat in cat_lst:\n",
    "    feature_list.append(cat)\n",
    "for brand in brand_lst:\n",
    "    feature_list.append(brand)\n",
    "    \n"
   ]
  },
  {
   "cell_type": "markdown",
   "id": "consolidated-trauma",
   "metadata": {},
   "source": [
    "##### setting LightFM dataset correctly"
   ]
  },
  {
   "cell_type": "code",
   "execution_count": 39,
   "id": "neutral-picnic",
   "metadata": {},
   "outputs": [],
   "source": [
    "dataset = Dataset()\n",
    "dataset.fit(cut_down['reviewerID'].unique(),\n",
    "             cut_down['asin'].unique(),\n",
    "             item_features = feature_list)"
   ]
  },
  {
   "cell_type": "code",
   "execution_count": 40,
   "id": "elder-posting",
   "metadata": {},
   "outputs": [],
   "source": [
    "(interactions, weights) = dataset.build_interactions([(x[0], x[1], x[2]) for x in df_uir.values])"
   ]
  },
  {
   "cell_type": "markdown",
   "id": "amber-cricket",
   "metadata": {},
   "source": [
    "##### building interactions"
   ]
  },
  {
   "cell_type": "code",
   "execution_count": 48,
   "id": "grave-maria",
   "metadata": {},
   "outputs": [
    {
     "name": "stdout",
     "output_type": "stream",
     "text": [
      "Final output: [['price:24.95', 'prod_review_counts:medium', 'categories:Medical Supplies & Equipment Daily Living Aids Visual Impairment Aids Magnifiers', 'brand:misc'], ['price:24.95', 'prod_review_counts:medium', 'categories:Medical Supplies & Equipment Daily Living Aids Visual Impairment Aids Magnifiers', 'brand:misc'], ['price:24.95', 'prod_review_counts:medium', 'categories:Medical Supplies & Equipment Daily Living Aids Visual Impairment Aids Magnifiers', 'brand:misc'], ['price:24.95', 'prod_review_counts:medium', 'categories:Medical Supplies & Equipment Daily Living Aids Visual Impairment Aids Magnifiers', 'brand:misc'], ['price:24.95', 'prod_review_counts:medium', 'categories:Medical Supplies & Equipment Daily Living Aids Visual Impairment Aids Magnifiers', 'brand:misc'], ['price:24.95', 'prod_review_counts:medium', 'categories:Medical Supplies & Equipment Daily Living Aids Visual Impairment Aids Magnifiers', 'brand:misc'], ['price:24.95', 'prod_review_counts:medium', 'categories:Medical Supplies & Equipment Daily Living Aids Visual Impairment Aids Magnifiers', 'brand:misc'], ['price:24.95', 'prod_review_counts:medium', 'categories:Medical Supplies & Equipment Daily Living Aids Visual Impairment Aids Magnifiers', 'brand:misc'], ['price:24.95', 'prod_review_counts:medium', 'categories:Medical Supplies & Equipment Daily Living Aids Visual Impairment Aids Magnifiers', 'brand:misc'], ['price:7.93', 'prod_review_counts:low', 'categories:Medical Supplies & Equipment Daily Living Aids Visual Impairment Aids Magnifiers', 'brand:mighty-bright']]\n"
     ]
    }
   ],
   "source": [
    "# map each item category and values to app\n",
    "ad_subset = df_if[['prod_review_counts', 'categories', 'brand']] \n",
    "ad_list = [list(x) for x in ad_subset.values]\n",
    "\n",
    "\n",
    "feature_list = []\n",
    "for item in ad_list:\n",
    "    feature_list.append(feature_colon_value(item))\n",
    "print(f'Final output: {feature_list[:10]}')"
   ]
  },
  {
   "cell_type": "code",
   "execution_count": 49,
   "id": "fundamental-monitor",
   "metadata": {},
   "outputs": [],
   "source": [
    "# combining product with each distinct feature subset\n",
    "item_tuple = list(zip(df_if.asin, feature_list))\n",
    "item_features = dataset.build_item_features(item_tuple, normalize=False)"
   ]
  },
  {
   "cell_type": "markdown",
   "id": "valid-tuning",
   "metadata": {},
   "source": [
    "##### model validation with hyperparameter tuning"
   ]
  },
  {
   "cell_type": "code",
   "execution_count": 50,
   "id": "oriented-talent",
   "metadata": {},
   "outputs": [],
   "source": [
    "train, test = random_train_test_split(interactions)"
   ]
  },
  {
   "cell_type": "code",
   "execution_count": 51,
   "id": "nervous-wedding",
   "metadata": {},
   "outputs": [],
   "source": [
    "def sample_hyperparameters():\n",
    "    \"\"\"\n",
    "    Yield possible hyperparameter choices.\n",
    "    \"\"\"\n",
    "\n",
    "    while True:\n",
    "        yield {\n",
    "            \"no_components\": np.random.randint(16, 100),\n",
    "            \"learning_schedule\": np.random.choice([\"adagrad\", \"adadelta\"]),\n",
    "            \"loss\": np.random.choice([\"bpr\", \"warp\", \"warp-kos\"]),\n",
    "            \"learning_rate\": np.random.exponential(0.05),\n",
    "            \"item_alpha\": np.random.exponential(1e-8),\n",
    "            \"max_sampled\": np.random.randint(5, 15),\n",
    "            \"num_epochs\": np.random.randint(5, 100),\n",
    "        }\n",
    "        \n",
    "def random_search(train, test, num_samples=10):\n",
    "    \"\"\"\n",
    "    Sample random hyperparameters, fit a LightFM model, and evaluate it\n",
    "    on the test set.\n",
    "\n",
    "    Parameters\n",
    "    ----------\n",
    "\n",
    "    train: np.float32 coo_matrix of shape [n_users, n_items]\n",
    "        Training data.\n",
    "    test: np.float32 coo_matrix of shape [n_users, n_items]\n",
    "        Test data.\n",
    "    num_samples: int, optional\n",
    "        Number of hyperparameter choices to evaluate.\n",
    "\n",
    "\n",
    "    Returns\n",
    "    -------\n",
    "\n",
    "    generator of (auc_score, hyperparameter dict, fitted model)\n",
    "\n",
    "    \"\"\"\n",
    "\n",
    "    for hyperparams in itertools.islice(sample_hyperparameters(), num_samples):\n",
    "        num_epochs = hyperparams.pop(\"num_epochs\")\n",
    "\n",
    "        model = LightFM(**hyperparams)\n",
    "        model.fit(train, epochs=num_epochs, item_features= item_features)\n",
    "\n",
    "        score = auc_score(model,\n",
    "                      test, train_interactions=train,\n",
    "                      item_features=item_features\n",
    "                     ).mean()\n",
    "\n",
    "        hyperparams[\"num_epochs\"] = num_epochs\n",
    "\n",
    "        yield (score, hyperparams, model)"
   ]
  },
  {
   "cell_type": "code",
   "execution_count": 52,
   "id": "wicked-abuse",
   "metadata": {},
   "outputs": [],
   "source": [
    "(score, hyperparams, model) = max(random_search(train, test), key=lambda x: x[0])"
   ]
  },
  {
   "cell_type": "code",
   "execution_count": 54,
   "id": "commercial-spare",
   "metadata": {},
   "outputs": [
    {
     "name": "stdout",
     "output_type": "stream",
     "text": [
      "optimized auc: 0.7297078967094421\n",
      "hyperparameters: {'no_components': 16, 'learning_schedule': 'adadelta', 'loss': 'warp', 'learning_rate': 0.004692430910889622, 'item_alpha': 1.0857673877772748e-08, 'max_sampled': 10, 'num_epochs': 25}\n"
     ]
    }
   ],
   "source": [
    "print(f\"optimized auc: {score}\")\n",
    "print(f\"hyperparameters: {hyperparams}\")"
   ]
  },
  {
   "cell_type": "code",
   "execution_count": null,
   "id": "sixth-method",
   "metadata": {},
   "outputs": [],
   "source": [
    "optimized auc: 0.7297078967094421\n",
    "hyperparameters: {'no_components': 16, 'learning_schedule': 'adadelta', 'loss': 'warp', 'learning_rate': 0.004692430910889622, 'item_alpha': 1.0857673877772748e-08, 'max_sampled': 10, 'num_epochs': 25"
   ]
  },
  {
   "cell_type": "code",
   "execution_count": 57,
   "id": "formed-vegetable",
   "metadata": {},
   "outputs": [],
   "source": [
    "# with open('../../lightfm_cut.pickle', 'wb') as fle:\n",
    "#     pickle.dump(model, fle)"
   ]
  },
  {
   "cell_type": "code",
   "execution_count": null,
   "id": "intense-chambers",
   "metadata": {},
   "outputs": [],
   "source": []
  },
  {
   "cell_type": "markdown",
   "id": "clear-proxy",
   "metadata": {},
   "source": [
    "##### Known User Prediction"
   ]
  },
  {
   "cell_type": "code",
   "execution_count": null,
   "id": "extended-probe",
   "metadata": {},
   "outputs": [],
   "source": [
    "user_x = user_id_map['u3']\n",
    "n_users, n_items = interactions.shape # no of users * no of items\n",
    "model.predict(user_x, np.arange(n_items)) # means predict for all"
   ]
  },
  {
   "cell_type": "markdown",
   "id": "descending-muscle",
   "metadata": {},
   "source": [
    "##### Unknown Users"
   ]
  },
  {
   "cell_type": "code",
   "execution_count": null,
   "id": "spanish-wheel",
   "metadata": {},
   "outputs": [],
   "source": [
    "user_feature_list = ['f1:1', 'f2:1', 'f3:0', 'loc:del']\n",
    "\n",
    "from scipy import sparse\n",
    "def format_newuser_input(user_feature_map, user_feature_list):\n",
    "  num_features = len(user_feature_list)\n",
    "  normalised_val = 1.0 \n",
    "  target_indices = []\n",
    "  for feature in user_feature_list:\n",
    "    try:\n",
    "        target_indices.append(user_feature_map[feature])\n",
    "    except KeyError:\n",
    "        print(\"new user feature encountered '{}'\".format(feature))\n",
    "        pass\n",
    "\n",
    "  new_user_features = np.zeros(len(user_feature_map.keys()))\n",
    "  for i in target_indices:\n",
    "    new_user_features[i] = normalised_val\n",
    "  new_user_features = sparse.csr_matrix(new_user_features)\n",
    "  return(new_user_features\n",
    "         \n",
    "\n",
    "new_user_features = format_newuser_input(user_feature_map, user_feature_list)\n",
    "model.predict(0, np.arange(n_items), user_features=new_user_features)"
   ]
  }
 ],
 "metadata": {
  "kernelspec": {
   "display_name": "Python 3",
   "language": "python",
   "name": "python3"
  },
  "language_info": {
   "codemirror_mode": {
    "name": "ipython",
    "version": 3
   },
   "file_extension": ".py",
   "mimetype": "text/x-python",
   "name": "python",
   "nbconvert_exporter": "python",
   "pygments_lexer": "ipython3",
   "version": "3.8.5"
  }
 },
 "nbformat": 4,
 "nbformat_minor": 5
}
