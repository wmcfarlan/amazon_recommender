{
 "cells": [
  {
   "cell_type": "code",
   "execution_count": 28,
   "id": "concerned-daisy",
   "metadata": {},
   "outputs": [
    {
     "name": "stdout",
     "output_type": "stream",
     "text": [
      "The autoreload extension is already loaded. To reload it, use:\n",
      "  %reload_ext autoreload\n"
     ]
    },
    {
     "data": {
      "text/html": [
       "        <script type=\"text/javascript\">\n",
       "        window.PlotlyConfig = {MathJaxConfig: 'local'};\n",
       "        if (window.MathJax) {MathJax.Hub.Config({SVG: {font: \"STIX-Web\"}});}\n",
       "        if (typeof require !== 'undefined') {\n",
       "        require.undef(\"plotly\");\n",
       "        requirejs.config({\n",
       "            paths: {\n",
       "                'plotly': ['https://cdn.plot.ly/plotly-latest.min']\n",
       "            }\n",
       "        });\n",
       "        require(['plotly'], function(Plotly) {\n",
       "            window._Plotly = Plotly;\n",
       "        });\n",
       "        }\n",
       "        </script>\n",
       "        "
      ]
     },
     "metadata": {},
     "output_type": "display_data"
    }
   ],
   "source": [
    "import pandas as pd\n",
    "import numpy as np\n",
    "import itertools\n",
    "import sklearn.model_selection\n",
    "from collections import defaultdict\n",
    "\n",
    "# display options\n",
    "pd.set_option('display.max_rows', 500)\n",
    "pd.set_option('display.max_columns', 500)\n",
    "pd.set_option('display.width', 1000)\n",
    "\n",
    "# visualization libraries\n",
    "import matplotlib.pyplot as plt\n",
    "import seaborn as sns\n",
    "import plotly.express as px\n",
    "import plotly.graph_objects as go\n",
    "\n",
    "# custom helper functions\n",
    "%load_ext autoreload\n",
    "%autoreload 2\n",
    "from helper.general_helper import *\n",
    "\n",
    "# sklearn\n",
    "from sklearn.feature_extraction.text import TfidfVectorizer,  CountVectorizer\n",
    "from sklearn.metrics.pairwise import cosine_similarity\n",
    "\n",
    "# view plotly in jupyter \n",
    "from plotly.offline import download_plotlyjs, init_notebook_mode, plot, iplot\n",
    "init_notebook_mode(connected=True)\n",
    "\n",
    "# ignore warnings\n",
    "import warnings\n",
    "warnings.filterwarnings(\"ignore\")"
   ]
  },
  {
   "cell_type": "code",
   "execution_count": 6,
   "id": "isolated-cabin",
   "metadata": {},
   "outputs": [],
   "source": [
    "df = pd.read_csv('../../merged_df.csv')\n",
    "df = df[df['title'].notna()]"
   ]
  },
  {
   "cell_type": "code",
   "execution_count": 8,
   "id": "intellectual-target",
   "metadata": {},
   "outputs": [],
   "source": [
    "df.index = df.asin"
   ]
  },
  {
   "cell_type": "code",
   "execution_count": 9,
   "id": "caroline-editing",
   "metadata": {},
   "outputs": [],
   "source": [
    "asin_title = dict(df[['title']].drop_duplicates()['title'])"
   ]
  },
  {
   "cell_type": "code",
   "execution_count": 33,
   "id": "herbal-brisbane",
   "metadata": {},
   "outputs": [],
   "source": [
    "desc_df = df[['description']].drop_duplicates()"
   ]
  },
  {
   "cell_type": "code",
   "execution_count": 34,
   "id": "nominated-inclusion",
   "metadata": {},
   "outputs": [],
   "source": [
    "desc_df = desc_df[desc_df['description'].notna()]"
   ]
  },
  {
   "cell_type": "code",
   "execution_count": 35,
   "id": "adapted-samba",
   "metadata": {},
   "outputs": [],
   "source": [
    "tfidf = TfidfVectorizer(stop_words='english')\n",
    "\n",
    "matrix = tfidf.fit_transform(desc_df['description'])"
   ]
  },
  {
   "cell_type": "code",
   "execution_count": 36,
   "id": "mobile-enterprise",
   "metadata": {},
   "outputs": [
    {
     "data": {
      "text/plain": [
       "<15575x41124 sparse matrix of type '<class 'numpy.float64'>'\n",
       "\twith 700192 stored elements in Compressed Sparse Row format>"
      ]
     },
     "execution_count": 36,
     "metadata": {},
     "output_type": "execute_result"
    }
   ],
   "source": [
    "matrix"
   ]
  },
  {
   "cell_type": "code",
   "execution_count": 37,
   "id": "legendary-blowing",
   "metadata": {},
   "outputs": [],
   "source": [
    "cosine_sim = cosine_similarity(matrix, matrix)"
   ]
  },
  {
   "cell_type": "code",
   "execution_count": 38,
   "id": "embedded-integer",
   "metadata": {},
   "outputs": [
    {
     "data": {
      "text/plain": [
       "(15575, 15575)"
      ]
     },
     "execution_count": 38,
     "metadata": {},
     "output_type": "execute_result"
    }
   ],
   "source": [
    "cosine_sim.shape"
   ]
  },
  {
   "cell_type": "code",
   "execution_count": null,
   "id": "formed-payday",
   "metadata": {},
   "outputs": [],
   "source": [
    "def recommend_products(product, data, combine, transform)"
   ]
  }
 ],
 "metadata": {
  "kernelspec": {
   "display_name": "Python 3",
   "language": "python",
   "name": "python3"
  },
  "language_info": {
   "codemirror_mode": {
    "name": "ipython",
    "version": 3
   },
   "file_extension": ".py",
   "mimetype": "text/x-python",
   "name": "python",
   "nbconvert_exporter": "python",
   "pygments_lexer": "ipython3",
   "version": "3.8.5"
  }
 },
 "nbformat": 4,
 "nbformat_minor": 5
}
