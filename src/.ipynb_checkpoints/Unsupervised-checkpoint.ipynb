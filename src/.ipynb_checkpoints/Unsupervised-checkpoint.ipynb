{
 "cells": [
  {
   "cell_type": "code",
   "execution_count": null,
   "id": "awful-worship",
   "metadata": {},
   "outputs": [],
   "source": [
    "import pandas as pd\n",
    "import numpy as np\n",
    "import itertools\n",
    "from collections import defaultdict\n",
    "\n",
    "# display options\n",
    "pd.set_option('display.max_rows', 500)\n",
    "pd.set_option('display.max_columns', 500)\n",
    "pd.set_option('display.width', 1000)\n",
    "\n",
    "# visualization libraries\n",
    "import matplotlib.pyplot as plt\n",
    "import seaborn as sns\n",
    "import plotly.express as px\n",
    "import plotly.graph_objects as go\n",
    "\n",
    "# custom helper functions\n",
    "%load_ext autoreload\n",
    "%autoreload 2\n",
    "from helper.general_helper import *\n",
    "\n",
    "# sklearn\n",
    "from sklearn.model_selection import train_test_split\n",
    "from sklearn.cluster import KMeans\n",
    "from sklearn.metrics import mean_squared_error\n",
    "from sklearn.cluster import AgglomerativeClustering\n",
    "from sklearn.feature_extraction.text import TfidfVectorizer\n",
    "\n",
    "# view plotly in jupyter \n",
    "from plotly.offline import download_plotlyjs, init_notebook_mode, plot, iplot\n",
    "init_notebook_mode(connected=True)\n",
    "\n",
    "# ignore warnings\n",
    "import warnings\n",
    "warnings.filterwarnings(\"ignore\")"
   ]
  },
  {
   "cell_type": "code",
   "execution_count": 9,
   "id": "academic-explorer",
   "metadata": {},
   "outputs": [],
   "source": [
    "df = pd.read_csv('../../merged_df.csv')"
   ]
  },
  {
   "cell_type": "markdown",
   "id": "increased-unemployment",
   "metadata": {},
   "source": [
    "#### Reduce Sparcity"
   ]
  },
  {
   "cell_type": "code",
   "execution_count": 10,
   "id": "liquid-force",
   "metadata": {},
   "outputs": [],
   "source": [
    "df = df[df['title'].notna()]\n",
    "\n",
    "# select reviewer and product values\n",
    "customers = df['reviewerID'].value_counts()\n",
    "products = df['asin'].value_counts()\n",
    "\n",
    "# filter by 10 reviews per product per customer, products with 20 or more reviews\n",
    "customers = customers[customers >= 10]\n",
    "products = products[products >= 20]\n",
    "\n",
    "# merge dataframe\n",
    "df = df.merge(pd.DataFrame({'reviewerID': customers.index})).merge(pd.DataFrame({'asin': products.index}))"
   ]
  },
  {
   "cell_type": "markdown",
   "id": "sealed-spain",
   "metadata": {},
   "source": [
    "#### Recommending off KMeans"
   ]
  },
  {
   "cell_type": "code",
   "execution_count": 11,
   "id": "furnished-joshua",
   "metadata": {},
   "outputs": [],
   "source": [
    "pivot_df = df.pivot_table(index='reviewerID', columns='asin', values='overall', fill_value=0)"
   ]
  },
  {
   "cell_type": "code",
   "execution_count": 63,
   "id": "laughing-distributor",
   "metadata": {},
   "outputs": [],
   "source": [
    "kmeans = KMeans(n_clusters=100, random_state=0).fit(pivot_df)"
   ]
  },
  {
   "cell_type": "code",
   "execution_count": 64,
   "id": "realistic-budapest",
   "metadata": {},
   "outputs": [],
   "source": [
    "preds = kmeans.predict(pivot_df)"
   ]
  },
  {
   "cell_type": "code",
   "execution_count": 65,
   "id": "modified-storm",
   "metadata": {},
   "outputs": [],
   "source": [
    "user_pred_dict = defaultdict(int)\n",
    "for user, pred in zip(pivot_df.index, preds):\n",
    "    user_pred_dict[user] = pred"
   ]
  },
  {
   "cell_type": "code",
   "execution_count": 66,
   "id": "urban-clinton",
   "metadata": {},
   "outputs": [],
   "source": [
    "df['class'] = df.reviewerID.apply(lambda x: user_pred_dict[x])"
   ]
  },
  {
   "cell_type": "code",
   "execution_count": 84,
   "id": "gross-democracy",
   "metadata": {},
   "outputs": [],
   "source": [
    "pred_dict = dict(df.groupby('class').mean().overall)"
   ]
  },
  {
   "cell_type": "code",
   "execution_count": 85,
   "id": "strategic-triangle",
   "metadata": {},
   "outputs": [],
   "source": [
    "df['preds'] = df['class'].apply(lambda x: pred_dict[x])"
   ]
  },
  {
   "cell_type": "code",
   "execution_count": 86,
   "id": "distributed-pricing",
   "metadata": {},
   "outputs": [],
   "source": [
    "test_values = df[['overall', 'preds']]"
   ]
  },
  {
   "cell_type": "code",
   "execution_count": 87,
   "id": "confidential-teach",
   "metadata": {},
   "outputs": [
    {
     "data": {
      "text/html": [
       "<div>\n",
       "<style scoped>\n",
       "    .dataframe tbody tr th:only-of-type {\n",
       "        vertical-align: middle;\n",
       "    }\n",
       "\n",
       "    .dataframe tbody tr th {\n",
       "        vertical-align: top;\n",
       "    }\n",
       "\n",
       "    .dataframe thead th {\n",
       "        text-align: right;\n",
       "    }\n",
       "</style>\n",
       "<table border=\"1\" class=\"dataframe\">\n",
       "  <thead>\n",
       "    <tr style=\"text-align: right;\">\n",
       "      <th></th>\n",
       "      <th>overall</th>\n",
       "      <th>preds</th>\n",
       "    </tr>\n",
       "  </thead>\n",
       "  <tbody>\n",
       "    <tr>\n",
       "      <th>0</th>\n",
       "      <td>4.0</td>\n",
       "      <td>4.104526</td>\n",
       "    </tr>\n",
       "    <tr>\n",
       "      <th>1</th>\n",
       "      <td>5.0</td>\n",
       "      <td>4.253490</td>\n",
       "    </tr>\n",
       "    <tr>\n",
       "      <th>2</th>\n",
       "      <td>4.0</td>\n",
       "      <td>4.253490</td>\n",
       "    </tr>\n",
       "    <tr>\n",
       "      <th>3</th>\n",
       "      <td>3.0</td>\n",
       "      <td>4.168515</td>\n",
       "    </tr>\n",
       "    <tr>\n",
       "      <th>4</th>\n",
       "      <td>4.0</td>\n",
       "      <td>4.253490</td>\n",
       "    </tr>\n",
       "    <tr>\n",
       "      <th>...</th>\n",
       "      <td>...</td>\n",
       "      <td>...</td>\n",
       "    </tr>\n",
       "    <tr>\n",
       "      <th>112905</th>\n",
       "      <td>4.0</td>\n",
       "      <td>4.971429</td>\n",
       "    </tr>\n",
       "    <tr>\n",
       "      <th>112906</th>\n",
       "      <td>4.0</td>\n",
       "      <td>4.962963</td>\n",
       "    </tr>\n",
       "    <tr>\n",
       "      <th>112907</th>\n",
       "      <td>5.0</td>\n",
       "      <td>4.971429</td>\n",
       "    </tr>\n",
       "    <tr>\n",
       "      <th>112908</th>\n",
       "      <td>5.0</td>\n",
       "      <td>4.971429</td>\n",
       "    </tr>\n",
       "    <tr>\n",
       "      <th>112909</th>\n",
       "      <td>1.0</td>\n",
       "      <td>4.971429</td>\n",
       "    </tr>\n",
       "  </tbody>\n",
       "</table>\n",
       "<p>112910 rows × 2 columns</p>\n",
       "</div>"
      ],
      "text/plain": [
       "        overall     preds\n",
       "0           4.0  4.104526\n",
       "1           5.0  4.253490\n",
       "2           4.0  4.253490\n",
       "3           3.0  4.168515\n",
       "4           4.0  4.253490\n",
       "...         ...       ...\n",
       "112905      4.0  4.971429\n",
       "112906      4.0  4.962963\n",
       "112907      5.0  4.971429\n",
       "112908      5.0  4.971429\n",
       "112909      1.0  4.971429\n",
       "\n",
       "[112910 rows x 2 columns]"
      ]
     },
     "execution_count": 87,
     "metadata": {},
     "output_type": "execute_result"
    }
   ],
   "source": [
    "test_values"
   ]
  },
  {
   "cell_type": "code",
   "execution_count": 88,
   "id": "consistent-acoustic",
   "metadata": {},
   "outputs": [
    {
     "data": {
      "text/plain": [
       "1.0403417066684297"
      ]
     },
     "execution_count": 88,
     "metadata": {},
     "output_type": "execute_result"
    }
   ],
   "source": [
    "rmse = np.sqrt(mean_squared_error(test_values['overall'], test_values['preds']))\n",
    "rmse"
   ]
  },
  {
   "cell_type": "code",
   "execution_count": 89,
   "id": "pharmaceutical-guatemala",
   "metadata": {},
   "outputs": [],
   "source": [
    "error = abs(df['overall'] - df['preds'])"
   ]
  },
  {
   "cell_type": "code",
   "execution_count": 95,
   "id": "comic-insulin",
   "metadata": {},
   "outputs": [
    {
     "data": {
      "image/png": "[encoded data removed]",
      "text/plain": [
       "<Figure size 842.4x595.44 with 1 Axes>"
      ]
     },
     "metadata": {},
     "output_type": "display_data"
    }
   ],
   "source": [
    "figure = sns.distplot(error, kde=True)\n",
    "plt.axvline(np.median(error),color='r', linestyle='--')\n",
    "plt.title('Distribution of Error: KMeans', fontsize=18)\n",
    "sns.set(rc={'figure.figsize':(11.7,8.27)})\n",
    "plt.xlabel('Error', fontsize=16)\n",
    "plt.ylabel('Count', fontsize=16)\n",
    "# plt.savefig(r\"../images/kmeans_error\");"
   ]
  },
  {
   "cell_type": "code",
   "execution_count": 108,
   "id": "tamil-valve",
   "metadata": {},
   "outputs": [],
   "source": [
    "alg = AgglomerativeClustering(n_clusters=20)\n",
    "preds = alg.fit_predict(pivot_df)"
   ]
  },
  {
   "cell_type": "code",
   "execution_count": 109,
   "id": "analyzed-istanbul",
   "metadata": {},
   "outputs": [],
   "source": [
    "user_pred_dict = defaultdict(int)\n",
    "for user, pred in zip(pivot_df.index, preds):\n",
    "    user_pred_dict[user] = pred"
   ]
  },
  {
   "cell_type": "code",
   "execution_count": 110,
   "id": "dominant-commerce",
   "metadata": {},
   "outputs": [],
   "source": [
    "df['class'] = df.reviewerID.apply(lambda x: user_pred_dict[x])"
   ]
  },
  {
   "cell_type": "code",
   "execution_count": 116,
   "id": "ethical-harris",
   "metadata": {},
   "outputs": [],
   "source": [
    "pred_dict = dict(df.groupby('review').mean().overall)"
   ]
  },
  {
   "cell_type": "code",
   "execution_count": 117,
   "id": "balanced-certificate",
   "metadata": {},
   "outputs": [],
   "source": [
    "df['preds'] = df['class'].apply(lambda x: pred_dict[x])"
   ]
  },
  {
   "cell_type": "code",
   "execution_count": 118,
   "id": "intensive-aruba",
   "metadata": {},
   "outputs": [],
   "source": [
    "test_values = df[['overall', 'preds']]"
   ]
  },
  {
   "cell_type": "code",
   "execution_count": 119,
   "id": "disabled-enforcement",
   "metadata": {},
   "outputs": [
    {
     "data": {
      "text/html": [
       "<div>\n",
       "<style scoped>\n",
       "    .dataframe tbody tr th:only-of-type {\n",
       "        vertical-align: middle;\n",
       "    }\n",
       "\n",
       "    .dataframe tbody tr th {\n",
       "        vertical-align: top;\n",
       "    }\n",
       "\n",
       "    .dataframe thead th {\n",
       "        text-align: right;\n",
       "    }\n",
       "</style>\n",
       "<table border=\"1\" class=\"dataframe\">\n",
       "  <thead>\n",
       "    <tr style=\"text-align: right;\">\n",
       "      <th></th>\n",
       "      <th>overall</th>\n",
       "      <th>preds</th>\n",
       "    </tr>\n",
       "  </thead>\n",
       "  <tbody>\n",
       "    <tr>\n",
       "      <th>0</th>\n",
       "      <td>4.0</td>\n",
       "      <td>3.964286</td>\n",
       "    </tr>\n",
       "    <tr>\n",
       "      <th>1</th>\n",
       "      <td>5.0</td>\n",
       "      <td>3.000000</td>\n",
       "    </tr>\n",
       "    <tr>\n",
       "      <th>2</th>\n",
       "      <td>4.0</td>\n",
       "      <td>4.666667</td>\n",
       "    </tr>\n",
       "    <tr>\n",
       "      <th>3</th>\n",
       "      <td>3.0</td>\n",
       "      <td>3.857143</td>\n",
       "    </tr>\n",
       "    <tr>\n",
       "      <th>4</th>\n",
       "      <td>4.0</td>\n",
       "      <td>4.571429</td>\n",
       "    </tr>\n",
       "    <tr>\n",
       "      <th>...</th>\n",
       "      <td>...</td>\n",
       "      <td>...</td>\n",
       "    </tr>\n",
       "    <tr>\n",
       "      <th>112905</th>\n",
       "      <td>4.0</td>\n",
       "      <td>4.900000</td>\n",
       "    </tr>\n",
       "    <tr>\n",
       "      <th>112906</th>\n",
       "      <td>4.0</td>\n",
       "      <td>4.888889</td>\n",
       "    </tr>\n",
       "    <tr>\n",
       "      <th>112907</th>\n",
       "      <td>5.0</td>\n",
       "      <td>5.000000</td>\n",
       "    </tr>\n",
       "    <tr>\n",
       "      <th>112908</th>\n",
       "      <td>5.0</td>\n",
       "      <td>5.000000</td>\n",
       "    </tr>\n",
       "    <tr>\n",
       "      <th>112909</th>\n",
       "      <td>1.0</td>\n",
       "      <td>4.200000</td>\n",
       "    </tr>\n",
       "  </tbody>\n",
       "</table>\n",
       "<p>112910 rows × 2 columns</p>\n",
       "</div>"
      ],
      "text/plain": [
       "        overall     preds\n",
       "0           4.0  3.964286\n",
       "1           5.0  3.000000\n",
       "2           4.0  4.666667\n",
       "3           3.0  3.857143\n",
       "4           4.0  4.571429\n",
       "...         ...       ...\n",
       "112905      4.0  4.900000\n",
       "112906      4.0  4.888889\n",
       "112907      5.0  5.000000\n",
       "112908      5.0  5.000000\n",
       "112909      1.0  4.200000\n",
       "\n",
       "[112910 rows x 2 columns]"
      ]
     },
     "execution_count": 119,
     "metadata": {},
     "output_type": "execute_result"
    }
   ],
   "source": [
    "test_values"
   ]
  },
  {
   "cell_type": "code",
   "execution_count": 120,
   "id": "intelligent-mapping",
   "metadata": {},
   "outputs": [
    {
     "data": {
      "text/plain": [
       "0.9266664511741903"
      ]
     },
     "execution_count": 120,
     "metadata": {},
     "output_type": "execute_result"
    }
   ],
   "source": [
    "rmse = np.sqrt(mean_squared_error(test_values['overall'], test_values['preds']))\n",
    "rmse"
   ]
  },
  {
   "cell_type": "code",
   "execution_count": 107,
   "id": "beginning-belfast",
   "metadata": {},
   "outputs": [
    {
     "data": {
      "image/png": "[encoded data removed]",
      "text/plain": [
       "<Figure size 842.4x595.44 with 1 Axes>"
      ]
     },
     "metadata": {},
     "output_type": "display_data"
    }
   ],
   "source": [
    "error = abs(df['overall'] - df['preds'])\n",
    "\n",
    "figure = sns.distplot(error, kde=True)\n",
    "plt.axvline(np.median(error),color='r', linestyle='--')\n",
    "plt.title('Distribution of Error: Agglomerative Clustering', fontsize=18)\n",
    "sns.set(rc={'figure.figsize':(11.7,8.27)})\n",
    "plt.xlabel('Error', fontsize=16)\n",
    "plt.ylabel('Count', fontsize=16)\n",
    "# plt.savefig(r\"../images/kmeans_error\");"
   ]
  },
  {
   "cell_type": "code",
   "execution_count": 1,
   "id": "sublime-basis",
   "metadata": {},
   "outputs": [
    {
     "name": "stdout",
     "output_type": "stream",
     "text": [
      "WARN: OMP_NUM_THREADS=None =>\n",
      "... If you are using openblas if you are using openblas set OMP_NUM_THREADS=1 or risk subprocess calls hanging indefinitely\n"
     ]
    }
   ],
   "source": [
    "from sklearn.datasets import make_classification\n",
    "from sklearn.model_selection import train_test_split\n",
    "from hpsklearn import HyperoptEstimator\n",
    "from hpsklearn import any_classifier\n",
    "from hpsklearn import any_preprocessing\n",
    "from hyperopt import tpe\n",
    "#dataset\n",
    "X, y = make_classification(n_samples=100, n_features=10, n_informative=5, n_redundant=5, random_state=5)\n",
    "\n",
    "X_train, X_test, y_train, y_test = train_test_split(X, y, test_size=0.33, random_state=1)"
   ]
  },
  {
   "cell_type": "code",
   "execution_count": 2,
   "id": "precise-waterproof",
   "metadata": {},
   "outputs": [
    {
     "name": "stdout",
     "output_type": "stream",
     "text": [
      "100%|██████████| 1/1 [00:03<00:00,  3.43s/trial, best loss: 0.2142857142857143]\n",
      "100%|██████████| 2/2 [00:03<00:00,  3.48s/trial, best loss: 0.2142857142857143]\n",
      "100%|██████████| 3/3 [00:03<00:00,  3.28s/trial, best loss: 0.2142857142857143]\n",
      "100%|██████████| 4/4 [00:03<00:00,  3.68s/trial, best loss: 0.2142857142857143]\n",
      "100%|██████████| 5/5 [00:03<00:00,  3.49s/trial, best loss: 0.2142857142857143]\n",
      "100%|██████████| 6/6 [00:03<00:00,  3.28s/trial, best loss: 0.2142857142857143]\n",
      "100%|██████████| 7/7 [00:03<00:00,  3.30s/trial, best loss: 0.2142857142857143]\n",
      "100%|██████████| 8/8 [00:03<00:00,  3.29s/trial, best loss: 0.2142857142857143]\n",
      "100%|██████████| 9/9 [00:03<00:00,  3.26s/trial, best loss: 0.2142857142857143]\n",
      "100%|██████████| 10/10 [00:03<00:00,  3.32s/trial, best loss: 0.0714285714285714]\n",
      "100%|██████████| 11/11 [00:03<00:00,  3.20s/trial, best loss: 0.0714285714285714]\n",
      "100%|██████████| 12/12 [00:03<00:00,  3.70s/trial, best loss: 0.0714285714285714]\n",
      "100%|██████████| 13/13 [00:03<00:00,  3.20s/trial, best loss: 0.0714285714285714]\n",
      "100%|██████████| 14/14 [00:03<00:00,  3.86s/trial, best loss: 0.0714285714285714]\n",
      "100%|██████████| 15/15 [00:03<00:00,  3.29s/trial, best loss: 0.0714285714285714]\n",
      "100%|██████████| 16/16 [00:03<00:00,  3.33s/trial, best loss: 0.0714285714285714]\n",
      "100%|██████████| 17/17 [00:03<00:00,  3.22s/trial, best loss: 0.0714285714285714]\n",
      "100%|██████████| 18/18 [00:03<00:00,  3.34s/trial, best loss: 0.0714285714285714]\n",
      "100%|██████████| 19/19 [00:03<00:00,  3.27s/trial, best loss: 0.0714285714285714]\n",
      "100%|██████████| 20/20 [00:03<00:00,  3.19s/trial, best loss: 0.0714285714285714]\n",
      "100%|██████████| 21/21 [00:03<00:00,  3.37s/trial, best loss: 0.0714285714285714]\n",
      "100%|██████████| 22/22 [00:03<00:00,  3.28s/trial, best loss: 0.0714285714285714]\n",
      "100%|██████████| 23/23 [00:03<00:00,  3.27s/trial, best loss: 0.0714285714285714]\n",
      "100%|██████████| 24/24 [00:03<00:00,  3.24s/trial, best loss: 0.0714285714285714]\n",
      "100%|██████████| 25/25 [00:03<00:00,  3.29s/trial, best loss: 0.0714285714285714]\n",
      "100%|██████████| 26/26 [00:03<00:00,  3.26s/trial, best loss: 0.0714285714285714]\n",
      "100%|██████████| 27/27 [00:03<00:00,  3.34s/trial, best loss: 0.0714285714285714]\n",
      "100%|██████████| 28/28 [00:03<00:00,  3.26s/trial, best loss: 0.0714285714285714]\n",
      "100%|██████████| 29/29 [00:03<00:00,  3.27s/trial, best loss: 0.0714285714285714]\n",
      "100%|██████████| 30/30 [00:03<00:00,  3.31s/trial, best loss: 0.0714285714285714]\n",
      "100%|██████████| 31/31 [00:04<00:00,  4.17s/trial, best loss: 0.0714285714285714]\n",
      "100%|██████████| 32/32 [00:04<00:00,  4.08s/trial, best loss: 0.0714285714285714]\n",
      "100%|██████████| 33/33 [00:03<00:00,  3.39s/trial, best loss: 0.0714285714285714]\n",
      "100%|██████████| 34/34 [00:04<00:00,  4.08s/trial, best loss: 0.0714285714285714]\n",
      "100%|██████████| 35/35 [00:03<00:00,  3.33s/trial, best loss: 0.0714285714285714]\n",
      "100%|██████████| 36/36 [00:03<00:00,  3.55s/trial, best loss: 0.0714285714285714]\n",
      "100%|██████████| 37/37 [00:03<00:00,  3.24s/trial, best loss: 0.0714285714285714]\n",
      "100%|██████████| 38/38 [00:03<00:00,  3.35s/trial, best loss: 0.0714285714285714]\n",
      "100%|██████████| 39/39 [00:03<00:00,  3.88s/trial, best loss: 0.0714285714285714]\n",
      "100%|██████████| 40/40 [00:03<00:00,  3.39s/trial, best loss: 0.0714285714285714]\n",
      "100%|██████████| 41/41 [00:03<00:00,  3.30s/trial, best loss: 0.0714285714285714]\n",
      "100%|██████████| 42/42 [00:03<00:00,  3.24s/trial, best loss: 0.0714285714285714]\n",
      "100%|██████████| 43/43 [00:03<00:00,  3.39s/trial, best loss: 0.0714285714285714]\n",
      "100%|██████████| 44/44 [00:03<00:00,  3.70s/trial, best loss: 0.0714285714285714]\n",
      "100%|██████████| 45/45 [00:06<00:00,  6.15s/trial, best loss: 0.0714285714285714]\n",
      "100%|██████████| 46/46 [00:03<00:00,  3.24s/trial, best loss: 0.0714285714285714]\n",
      "100%|██████████| 47/47 [00:03<00:00,  3.35s/trial, best loss: 0.0714285714285714]\n",
      "100%|██████████| 48/48 [00:03<00:00,  3.49s/trial, best loss: 0.0714285714285714]\n",
      "100%|██████████| 49/49 [00:03<00:00,  3.35s/trial, best loss: 0.0714285714285714]\n",
      "100%|██████████| 50/50 [00:05<00:00,  5.15s/trial, best loss: 0.0714285714285714]\n"
     ]
    }
   ],
   "source": [
    "model = HyperoptEstimator(classifier=any_classifier('cla'), preprocessing=any_preprocessing('pre'), algo=tpe.suggest, max_evals=50, trial_timeout=30)\n",
    "#perform the search\n",
    "model.fit(X_train, y_train)"
   ]
  },
  {
   "cell_type": "code",
   "execution_count": 3,
   "id": "annual-calvin",
   "metadata": {},
   "outputs": [],
   "source": [
    "acc = model.score(X_test, y_test)"
   ]
  },
  {
   "cell_type": "code",
   "execution_count": 4,
   "id": "cordless-bangkok",
   "metadata": {},
   "outputs": [
    {
     "data": {
      "text/plain": [
       "0.9393939393939394"
      ]
     },
     "execution_count": 4,
     "metadata": {},
     "output_type": "execute_result"
    }
   ],
   "source": [
    "acc"
   ]
  },
  {
   "cell_type": "code",
   "execution_count": 5,
   "id": "automatic-arrival",
   "metadata": {},
   "outputs": [
    {
     "data": {
      "text/plain": [
       "{'learner': KNeighborsClassifier(metric='euclidean', n_jobs=1, n_neighbors=1),\n",
       " 'preprocs': (PCA(n_components=10, whiten=True),),\n",
       " 'ex_preprocs': ()}"
      ]
     },
     "execution_count": 5,
     "metadata": {},
     "output_type": "execute_result"
    }
   ],
   "source": [
    "model.best_model()"
   ]
  },
  {
   "cell_type": "code",
   "execution_count": 7,
   "id": "stuck-samuel",
   "metadata": {},
   "outputs": [
    {
     "data": {
      "text/plain": [
       "hpsklearn.estimator.hyperopt_estimator"
      ]
     },
     "execution_count": 7,
     "metadata": {},
     "output_type": "execute_result"
    }
   ],
   "source": [
    "type(model)"
   ]
  },
  {
   "cell_type": "code",
   "execution_count": null,
   "id": "changed-chemistry",
   "metadata": {},
   "outputs": [],
   "source": [
    "# nmf to get cats for products and people\n",
    "# select a person and see what category they belong to.\n",
    "# what are the top 10 products in this cat?\n",
    "# filter by bought\n"
   ]
  },
  {
   "cell_type": "code",
   "execution_count": null,
   "id": "proof-design",
   "metadata": {},
   "outputs": [],
   "source": []
  },
  {
   "cell_type": "markdown",
   "id": "flush-order",
   "metadata": {},
   "source": [
    "#### cos sim for items"
   ]
  },
  {
   "cell_type": "code",
   "execution_count": 18,
   "id": "minimal-shadow",
   "metadata": {},
   "outputs": [
    {
     "data": {
      "text/html": [
       "<div>\n",
       "<style scoped>\n",
       "    .dataframe tbody tr th:only-of-type {\n",
       "        vertical-align: middle;\n",
       "    }\n",
       "\n",
       "    .dataframe tbody tr th {\n",
       "        vertical-align: top;\n",
       "    }\n",
       "\n",
       "    .dataframe thead th {\n",
       "        text-align: right;\n",
       "    }\n",
       "</style>\n",
       "<table border=\"1\" class=\"dataframe\">\n",
       "  <thead>\n",
       "    <tr style=\"text-align: right;\">\n",
       "      <th></th>\n",
       "      <th>reviewerID</th>\n",
       "      <th>asin</th>\n",
       "      <th>reviewerName</th>\n",
       "      <th>helpful</th>\n",
       "      <th>reviewText</th>\n",
       "      <th>overall</th>\n",
       "      <th>summary</th>\n",
       "      <th>unixReviewTime</th>\n",
       "      <th>reviewTime</th>\n",
       "      <th>description</th>\n",
       "      <th>title</th>\n",
       "      <th>imUrl</th>\n",
       "      <th>related</th>\n",
       "      <th>salesRank</th>\n",
       "      <th>categories</th>\n",
       "      <th>price</th>\n",
       "      <th>brand</th>\n",
       "      <th>prod_review_counts</th>\n",
       "      <th>review_count</th>\n",
       "      <th>reviewer_cat</th>\n",
       "    </tr>\n",
       "  </thead>\n",
       "  <tbody>\n",
       "    <tr>\n",
       "      <th>0</th>\n",
       "      <td>A38RMU1Y5TDP9</td>\n",
       "      <td>159985130X</td>\n",
       "      <td>Bob Tobias \"Robert Tobias\"</td>\n",
       "      <td>[75, 77]</td>\n",
       "      <td>What I liked was the quality of the lens and t...</td>\n",
       "      <td>4.0</td>\n",
       "      <td>Very good but not great</td>\n",
       "      <td>1275955200</td>\n",
       "      <td>06 8, 2010</td>\n",
       "      <td>The Pocket Magnifier is so popular, we are hav...</td>\n",
       "      <td>Lightwedge Lighted Pocket Magnifier, Plum</td>\n",
       "      <td>http://ecx.images-amazon.com/images/I/31eVZtZ%...</td>\n",
       "      <td>{'also_bought': ['B002DGPUM2', 'B00524H8MC', '...</td>\n",
       "      <td>0.0</td>\n",
       "      <td>living-equipment-aids-supplies-visual-impairme...</td>\n",
       "      <td>24.95</td>\n",
       "      <td>NaN</td>\n",
       "      <td>medium</td>\n",
       "      <td>1</td>\n",
       "      <td>scale</td>\n",
       "    </tr>\n",
       "    <tr>\n",
       "      <th>1</th>\n",
       "      <td>AXO4PQU0XG3TG</td>\n",
       "      <td>159985130X</td>\n",
       "      <td>Dwight</td>\n",
       "      <td>[2, 3]</td>\n",
       "      <td>The light comes on when the item is pulled.  T...</td>\n",
       "      <td>5.0</td>\n",
       "      <td>$9.99, pretty and cute</td>\n",
       "      <td>1172275200</td>\n",
       "      <td>02 24, 2007</td>\n",
       "      <td>The Pocket Magnifier is so popular, we are hav...</td>\n",
       "      <td>Lightwedge Lighted Pocket Magnifier, Plum</td>\n",
       "      <td>http://ecx.images-amazon.com/images/I/31eVZtZ%...</td>\n",
       "      <td>{'also_bought': ['B002DGPUM2', 'B00524H8MC', '...</td>\n",
       "      <td>0.0</td>\n",
       "      <td>living-equipment-aids-supplies-visual-impairme...</td>\n",
       "      <td>24.95</td>\n",
       "      <td>NaN</td>\n",
       "      <td>medium</td>\n",
       "      <td>1</td>\n",
       "      <td>alergy</td>\n",
       "    </tr>\n",
       "    <tr>\n",
       "      <th>2</th>\n",
       "      <td>A28X0LT2100RL1</td>\n",
       "      <td>159985130X</td>\n",
       "      <td>Eusebius</td>\n",
       "      <td>[0, 0]</td>\n",
       "      <td>These are lightweight and efficient and have s...</td>\n",
       "      <td>4.0</td>\n",
       "      <td>Lightweight and efficient</td>\n",
       "      <td>1404604800</td>\n",
       "      <td>07 6, 2014</td>\n",
       "      <td>The Pocket Magnifier is so popular, we are hav...</td>\n",
       "      <td>Lightwedge Lighted Pocket Magnifier, Plum</td>\n",
       "      <td>http://ecx.images-amazon.com/images/I/31eVZtZ%...</td>\n",
       "      <td>{'also_bought': ['B002DGPUM2', 'B00524H8MC', '...</td>\n",
       "      <td>0.0</td>\n",
       "      <td>living-equipment-aids-supplies-visual-impairme...</td>\n",
       "      <td>24.95</td>\n",
       "      <td>NaN</td>\n",
       "      <td>medium</td>\n",
       "      <td>1</td>\n",
       "      <td>shaving</td>\n",
       "    </tr>\n",
       "    <tr>\n",
       "      <th>3</th>\n",
       "      <td>A1JQDCX4LDKBZ3</td>\n",
       "      <td>159985130X</td>\n",
       "      <td>guru</td>\n",
       "      <td>[1, 1]</td>\n",
       "      <td>The screen of the magnifier is small. If you'r...</td>\n",
       "      <td>3.0</td>\n",
       "      <td>Okay</td>\n",
       "      <td>1358985600</td>\n",
       "      <td>01 24, 2013</td>\n",
       "      <td>The Pocket Magnifier is so popular, we are hav...</td>\n",
       "      <td>Lightwedge Lighted Pocket Magnifier, Plum</td>\n",
       "      <td>http://ecx.images-amazon.com/images/I/31eVZtZ%...</td>\n",
       "      <td>{'also_bought': ['B002DGPUM2', 'B00524H8MC', '...</td>\n",
       "      <td>0.0</td>\n",
       "      <td>living-equipment-aids-supplies-visual-impairme...</td>\n",
       "      <td>24.95</td>\n",
       "      <td>NaN</td>\n",
       "      <td>medium</td>\n",
       "      <td>1</td>\n",
       "      <td>prenatal</td>\n",
       "    </tr>\n",
       "    <tr>\n",
       "      <th>4</th>\n",
       "      <td>A3RNRXOM5J2C93</td>\n",
       "      <td>159985130X</td>\n",
       "      <td>Jeffrey E. Cornett</td>\n",
       "      <td>[1, 1]</td>\n",
       "      <td>This pocket magnifier is nice and compact.  Th...</td>\n",
       "      <td>4.0</td>\n",
       "      <td>Pocket magnifier</td>\n",
       "      <td>1338595200</td>\n",
       "      <td>06 2, 2012</td>\n",
       "      <td>The Pocket Magnifier is so popular, we are hav...</td>\n",
       "      <td>Lightwedge Lighted Pocket Magnifier, Plum</td>\n",
       "      <td>http://ecx.images-amazon.com/images/I/31eVZtZ%...</td>\n",
       "      <td>{'also_bought': ['B002DGPUM2', 'B00524H8MC', '...</td>\n",
       "      <td>0.0</td>\n",
       "      <td>living-equipment-aids-supplies-visual-impairme...</td>\n",
       "      <td>24.95</td>\n",
       "      <td>NaN</td>\n",
       "      <td>medium</td>\n",
       "      <td>1</td>\n",
       "      <td>alergy</td>\n",
       "    </tr>\n",
       "  </tbody>\n",
       "</table>\n",
       "</div>"
      ],
      "text/plain": [
       "       reviewerID        asin                reviewerName   helpful                                         reviewText  overall                    summary  unixReviewTime   reviewTime                                        description                                      title                                              imUrl                                            related  salesRank                                         categories  price brand prod_review_counts  review_count reviewer_cat\n",
       "0   A38RMU1Y5TDP9  159985130X  Bob Tobias \"Robert Tobias\"  [75, 77]  What I liked was the quality of the lens and t...      4.0    Very good but not great      1275955200   06 8, 2010  The Pocket Magnifier is so popular, we are hav...  Lightwedge Lighted Pocket Magnifier, Plum  http://ecx.images-amazon.com/images/I/31eVZtZ%...  {'also_bought': ['B002DGPUM2', 'B00524H8MC', '...        0.0  living-equipment-aids-supplies-visual-impairme...  24.95   NaN             medium             1        scale\n",
       "1   AXO4PQU0XG3TG  159985130X                      Dwight    [2, 3]  The light comes on when the item is pulled.  T...      5.0     $9.99, pretty and cute      1172275200  02 24, 2007  The Pocket Magnifier is so popular, we are hav...  Lightwedge Lighted Pocket Magnifier, Plum  http://ecx.images-amazon.com/images/I/31eVZtZ%...  {'also_bought': ['B002DGPUM2', 'B00524H8MC', '...        0.0  living-equipment-aids-supplies-visual-impairme...  24.95   NaN             medium             1       alergy\n",
       "2  A28X0LT2100RL1  159985130X                    Eusebius    [0, 0]  These are lightweight and efficient and have s...      4.0  Lightweight and efficient      1404604800   07 6, 2014  The Pocket Magnifier is so popular, we are hav...  Lightwedge Lighted Pocket Magnifier, Plum  http://ecx.images-amazon.com/images/I/31eVZtZ%...  {'also_bought': ['B002DGPUM2', 'B00524H8MC', '...        0.0  living-equipment-aids-supplies-visual-impairme...  24.95   NaN             medium             1      shaving\n",
       "3  A1JQDCX4LDKBZ3  159985130X                        guru    [1, 1]  The screen of the magnifier is small. If you'r...      3.0                       Okay      1358985600  01 24, 2013  The Pocket Magnifier is so popular, we are hav...  Lightwedge Lighted Pocket Magnifier, Plum  http://ecx.images-amazon.com/images/I/31eVZtZ%...  {'also_bought': ['B002DGPUM2', 'B00524H8MC', '...        0.0  living-equipment-aids-supplies-visual-impairme...  24.95   NaN             medium             1     prenatal\n",
       "4  A3RNRXOM5J2C93  159985130X          Jeffrey E. Cornett    [1, 1]  This pocket magnifier is nice and compact.  Th...      4.0           Pocket magnifier      1338595200   06 2, 2012  The Pocket Magnifier is so popular, we are hav...  Lightwedge Lighted Pocket Magnifier, Plum  http://ecx.images-amazon.com/images/I/31eVZtZ%...  {'also_bought': ['B002DGPUM2', 'B00524H8MC', '...        0.0  living-equipment-aids-supplies-visual-impairme...  24.95   NaN             medium             1       alergy"
      ]
     },
     "execution_count": 18,
     "metadata": {},
     "output_type": "execute_result"
    }
   ],
   "source": [
    "df.head()"
   ]
  },
  {
   "cell_type": "code",
   "execution_count": 25,
   "id": "monthly-bulgaria",
   "metadata": {},
   "outputs": [],
   "source": [
    "# set nlp dict with list\n",
    "nlp_dict = defaultdict(list)\n",
    "\n",
    "# get unique IDs\n",
    "unique_asin = df['asin'].unique()\n",
    "\n",
    "# popupate dictionary with keys\n",
    "for asin in unique_asin:\n",
    "    nlp_dict[asin]\n",
    "    \n",
    "\n",
    "# populate dictionary with reviewText, summary, description and title\n",
    "for idx, text in zip(df['asin'], df['reviewText']):\n",
    "    nlp_dict[idx].append(text)\n",
    "    \n",
    "for idx, text in zip(df['asin'], df['summary']):\n",
    "    nlp_dict[idx].append(text)\n",
    "    \n",
    "# get unique descriptions and titles and dedupe\n",
    "desc_title = df[['asin', 'description', 'title']].drop_duplicates()\n",
    "    \n",
    "    \n",
    "for idx, text_1, text_2 in zip(desc_title['asin'], desc_title['description'], desc_title['title']):\n",
    "    nlp_dict[idx].append(text_1)\n",
    "    nlp_dict[idx].append(text_2)\n",
    "    "
   ]
  },
  {
   "cell_type": "code",
   "execution_count": 29,
   "id": "written-summer",
   "metadata": {},
   "outputs": [],
   "source": [
    "asin_df = df[['asin']].drop_duplicates()"
   ]
  },
  {
   "cell_type": "code",
   "execution_count": 31,
   "id": "approved-threat",
   "metadata": {},
   "outputs": [],
   "source": [
    "asin_df['text'] = asin_df['asin'].apply(lambda x: nlp_dict[x])"
   ]
  },
  {
   "cell_type": "code",
   "execution_count": 53,
   "id": "residential-ordinance",
   "metadata": {},
   "outputs": [],
   "source": [
    "import nltk\n",
    "from nltk.tokenize import RegexpTokenizer\n",
    "from nltk.stem import WordNetLemmatizer,PorterStemmer\n",
    "from nltk.corpus import stopwords\n",
    "import re\n",
    "lemmatizer = WordNetLemmatizer()\n",
    "stemmer = PorterStemmer() \n",
    "\n",
    "def preprocess(sentence):\n",
    "    sentence = \" \".join(sentence)\n",
    "    sentence=str(sentence)\n",
    "    sentence = sentence.lower()\n",
    "    sentence=sentence.replace('{html}',\"\") \n",
    "    cleanr = re.compile('<.*?>')\n",
    "    cleantext = re.sub(cleanr, '', sentence)\n",
    "    rem_url=re.sub(r'http\\S+', '',cleantext)\n",
    "    rem_num = re.sub('[0-9]+', '', rem_url)\n",
    "    tokenizer = RegexpTokenizer(r'\\w+')\n",
    "    tokens = tokenizer.tokenize(rem_num)  \n",
    "    filtered_words = [w for w in tokens if len(w) > 2 if not w in stopwords.words('english')]\n",
    "    stem_words=[stemmer.stem(w) for w in filtered_words]\n",
    "    lemma_words=[lemmatizer.lemmatize(w) for w in stem_words]\n",
    "    return \" \".join(filtered_words)\n",
    "\n",
    "\n",
    "# df['cleanText']=df['Text'].map(lambda s:preprocess(s)) "
   ]
  },
  {
   "cell_type": "code",
   "execution_count": 56,
   "id": "heard-portal",
   "metadata": {},
   "outputs": [],
   "source": [
    "asin_df.index = asin_df['asin']\n",
    "asin_df.drop('asin', axis=1, inplace=True)"
   ]
  },
  {
   "cell_type": "code",
   "execution_count": 58,
   "id": "critical-entry",
   "metadata": {},
   "outputs": [
    {
     "ename": "KeyboardInterrupt",
     "evalue": "",
     "output_type": "error",
     "traceback": [
      "\u001b[1;31m---------------------------------------------------------------------------\u001b[0m",
      "\u001b[1;31mKeyboardInterrupt\u001b[0m                         Traceback (most recent call last)",
      "\u001b[1;32m<ipython-input-58-5c1bc114d631>\u001b[0m in \u001b[0;36m<module>\u001b[1;34m\u001b[0m\n\u001b[1;32m----> 1\u001b[1;33m \u001b[0masin_df\u001b[0m\u001b[1;33m[\u001b[0m\u001b[1;34m'clean'\u001b[0m\u001b[1;33m]\u001b[0m \u001b[1;33m=\u001b[0m \u001b[0masin_df\u001b[0m\u001b[1;33m[\u001b[0m\u001b[1;34m'text'\u001b[0m\u001b[1;33m]\u001b[0m\u001b[1;33m.\u001b[0m\u001b[0mmap\u001b[0m\u001b[1;33m(\u001b[0m\u001b[1;32mlambda\u001b[0m \u001b[0mx\u001b[0m\u001b[1;33m:\u001b[0m \u001b[0mpreprocess\u001b[0m\u001b[1;33m(\u001b[0m\u001b[0mx\u001b[0m\u001b[1;33m)\u001b[0m\u001b[1;33m)\u001b[0m\u001b[1;33m\u001b[0m\u001b[1;33m\u001b[0m\u001b[0m\n\u001b[0m",
      "\u001b[1;32m~\\anaconda3\\lib\\site-packages\\pandas\\core\\series.py\u001b[0m in \u001b[0;36mmap\u001b[1;34m(self, arg, na_action)\u001b[0m\n\u001b[0;32m   3877\u001b[0m         \u001b[0mdtype\u001b[0m\u001b[1;33m:\u001b[0m \u001b[0mobject\u001b[0m\u001b[1;33m\u001b[0m\u001b[1;33m\u001b[0m\u001b[0m\n\u001b[0;32m   3878\u001b[0m         \"\"\"\n\u001b[1;32m-> 3879\u001b[1;33m         \u001b[0mnew_values\u001b[0m \u001b[1;33m=\u001b[0m \u001b[0msuper\u001b[0m\u001b[1;33m(\u001b[0m\u001b[1;33m)\u001b[0m\u001b[1;33m.\u001b[0m\u001b[0m_map_values\u001b[0m\u001b[1;33m(\u001b[0m\u001b[0marg\u001b[0m\u001b[1;33m,\u001b[0m \u001b[0mna_action\u001b[0m\u001b[1;33m=\u001b[0m\u001b[0mna_action\u001b[0m\u001b[1;33m)\u001b[0m\u001b[1;33m\u001b[0m\u001b[1;33m\u001b[0m\u001b[0m\n\u001b[0m\u001b[0;32m   3880\u001b[0m         return self._constructor(new_values, index=self.index).__finalize__(\n\u001b[0;32m   3881\u001b[0m             \u001b[0mself\u001b[0m\u001b[1;33m,\u001b[0m \u001b[0mmethod\u001b[0m\u001b[1;33m=\u001b[0m\u001b[1;34m\"map\"\u001b[0m\u001b[1;33m\u001b[0m\u001b[1;33m\u001b[0m\u001b[0m\n",
      "\u001b[1;32m~\\anaconda3\\lib\\site-packages\\pandas\\core\\base.py\u001b[0m in \u001b[0;36m_map_values\u001b[1;34m(self, mapper, na_action)\u001b[0m\n\u001b[0;32m    935\u001b[0m \u001b[1;33m\u001b[0m\u001b[0m\n\u001b[0;32m    936\u001b[0m         \u001b[1;31m# mapper is a function\u001b[0m\u001b[1;33m\u001b[0m\u001b[1;33m\u001b[0m\u001b[1;33m\u001b[0m\u001b[0m\n\u001b[1;32m--> 937\u001b[1;33m         \u001b[0mnew_values\u001b[0m \u001b[1;33m=\u001b[0m \u001b[0mmap_f\u001b[0m\u001b[1;33m(\u001b[0m\u001b[0mvalues\u001b[0m\u001b[1;33m,\u001b[0m \u001b[0mmapper\u001b[0m\u001b[1;33m)\u001b[0m\u001b[1;33m\u001b[0m\u001b[1;33m\u001b[0m\u001b[0m\n\u001b[0m\u001b[0;32m    938\u001b[0m \u001b[1;33m\u001b[0m\u001b[0m\n\u001b[0;32m    939\u001b[0m         \u001b[1;32mreturn\u001b[0m \u001b[0mnew_values\u001b[0m\u001b[1;33m\u001b[0m\u001b[1;33m\u001b[0m\u001b[0m\n",
      "\u001b[1;32mpandas\\_libs\\lib.pyx\u001b[0m in \u001b[0;36mpandas._libs.lib.map_infer\u001b[1;34m()\u001b[0m\n",
      "\u001b[1;32m<ipython-input-58-5c1bc114d631>\u001b[0m in \u001b[0;36m<lambda>\u001b[1;34m(x)\u001b[0m\n\u001b[1;32m----> 1\u001b[1;33m \u001b[0masin_df\u001b[0m\u001b[1;33m[\u001b[0m\u001b[1;34m'clean'\u001b[0m\u001b[1;33m]\u001b[0m \u001b[1;33m=\u001b[0m \u001b[0masin_df\u001b[0m\u001b[1;33m[\u001b[0m\u001b[1;34m'text'\u001b[0m\u001b[1;33m]\u001b[0m\u001b[1;33m.\u001b[0m\u001b[0mmap\u001b[0m\u001b[1;33m(\u001b[0m\u001b[1;32mlambda\u001b[0m \u001b[0mx\u001b[0m\u001b[1;33m:\u001b[0m \u001b[0mpreprocess\u001b[0m\u001b[1;33m(\u001b[0m\u001b[0mx\u001b[0m\u001b[1;33m)\u001b[0m\u001b[1;33m)\u001b[0m\u001b[1;33m\u001b[0m\u001b[1;33m\u001b[0m\u001b[0m\n\u001b[0m",
      "\u001b[1;32m<ipython-input-53-c79ab28757a3>\u001b[0m in \u001b[0;36mpreprocess\u001b[1;34m(sentence)\u001b[0m\n\u001b[0;32m     17\u001b[0m     \u001b[0mtokenizer\u001b[0m \u001b[1;33m=\u001b[0m \u001b[0mRegexpTokenizer\u001b[0m\u001b[1;33m(\u001b[0m\u001b[1;34mr'\\w+'\u001b[0m\u001b[1;33m)\u001b[0m\u001b[1;33m\u001b[0m\u001b[1;33m\u001b[0m\u001b[0m\n\u001b[0;32m     18\u001b[0m     \u001b[0mtokens\u001b[0m \u001b[1;33m=\u001b[0m \u001b[0mtokenizer\u001b[0m\u001b[1;33m.\u001b[0m\u001b[0mtokenize\u001b[0m\u001b[1;33m(\u001b[0m\u001b[0mrem_num\u001b[0m\u001b[1;33m)\u001b[0m\u001b[1;33m\u001b[0m\u001b[1;33m\u001b[0m\u001b[0m\n\u001b[1;32m---> 19\u001b[1;33m     \u001b[0mfiltered_words\u001b[0m \u001b[1;33m=\u001b[0m \u001b[1;33m[\u001b[0m\u001b[0mw\u001b[0m \u001b[1;32mfor\u001b[0m \u001b[0mw\u001b[0m \u001b[1;32min\u001b[0m \u001b[0mtokens\u001b[0m \u001b[1;32mif\u001b[0m \u001b[0mlen\u001b[0m\u001b[1;33m(\u001b[0m\u001b[0mw\u001b[0m\u001b[1;33m)\u001b[0m \u001b[1;33m>\u001b[0m \u001b[1;36m2\u001b[0m \u001b[1;32mif\u001b[0m \u001b[1;32mnot\u001b[0m \u001b[0mw\u001b[0m \u001b[1;32min\u001b[0m \u001b[0mstopwords\u001b[0m\u001b[1;33m.\u001b[0m\u001b[0mwords\u001b[0m\u001b[1;33m(\u001b[0m\u001b[1;34m'english'\u001b[0m\u001b[1;33m)\u001b[0m\u001b[1;33m]\u001b[0m\u001b[1;33m\u001b[0m\u001b[1;33m\u001b[0m\u001b[0m\n\u001b[0m\u001b[0;32m     20\u001b[0m     \u001b[0mstem_words\u001b[0m\u001b[1;33m=\u001b[0m\u001b[1;33m[\u001b[0m\u001b[0mstemmer\u001b[0m\u001b[1;33m.\u001b[0m\u001b[0mstem\u001b[0m\u001b[1;33m(\u001b[0m\u001b[0mw\u001b[0m\u001b[1;33m)\u001b[0m \u001b[1;32mfor\u001b[0m \u001b[0mw\u001b[0m \u001b[1;32min\u001b[0m \u001b[0mfiltered_words\u001b[0m\u001b[1;33m]\u001b[0m\u001b[1;33m\u001b[0m\u001b[1;33m\u001b[0m\u001b[0m\n\u001b[0;32m     21\u001b[0m     \u001b[0mlemma_words\u001b[0m\u001b[1;33m=\u001b[0m\u001b[1;33m[\u001b[0m\u001b[0mlemmatizer\u001b[0m\u001b[1;33m.\u001b[0m\u001b[0mlemmatize\u001b[0m\u001b[1;33m(\u001b[0m\u001b[0mw\u001b[0m\u001b[1;33m)\u001b[0m \u001b[1;32mfor\u001b[0m \u001b[0mw\u001b[0m \u001b[1;32min\u001b[0m \u001b[0mstem_words\u001b[0m\u001b[1;33m]\u001b[0m\u001b[1;33m\u001b[0m\u001b[1;33m\u001b[0m\u001b[0m\n",
      "\u001b[1;32m<ipython-input-53-c79ab28757a3>\u001b[0m in \u001b[0;36m<listcomp>\u001b[1;34m(.0)\u001b[0m\n\u001b[0;32m     17\u001b[0m     \u001b[0mtokenizer\u001b[0m \u001b[1;33m=\u001b[0m \u001b[0mRegexpTokenizer\u001b[0m\u001b[1;33m(\u001b[0m\u001b[1;34mr'\\w+'\u001b[0m\u001b[1;33m)\u001b[0m\u001b[1;33m\u001b[0m\u001b[1;33m\u001b[0m\u001b[0m\n\u001b[0;32m     18\u001b[0m     \u001b[0mtokens\u001b[0m \u001b[1;33m=\u001b[0m \u001b[0mtokenizer\u001b[0m\u001b[1;33m.\u001b[0m\u001b[0mtokenize\u001b[0m\u001b[1;33m(\u001b[0m\u001b[0mrem_num\u001b[0m\u001b[1;33m)\u001b[0m\u001b[1;33m\u001b[0m\u001b[1;33m\u001b[0m\u001b[0m\n\u001b[1;32m---> 19\u001b[1;33m     \u001b[0mfiltered_words\u001b[0m \u001b[1;33m=\u001b[0m \u001b[1;33m[\u001b[0m\u001b[0mw\u001b[0m \u001b[1;32mfor\u001b[0m \u001b[0mw\u001b[0m \u001b[1;32min\u001b[0m \u001b[0mtokens\u001b[0m \u001b[1;32mif\u001b[0m \u001b[0mlen\u001b[0m\u001b[1;33m(\u001b[0m\u001b[0mw\u001b[0m\u001b[1;33m)\u001b[0m \u001b[1;33m>\u001b[0m \u001b[1;36m2\u001b[0m \u001b[1;32mif\u001b[0m \u001b[1;32mnot\u001b[0m \u001b[0mw\u001b[0m \u001b[1;32min\u001b[0m \u001b[0mstopwords\u001b[0m\u001b[1;33m.\u001b[0m\u001b[0mwords\u001b[0m\u001b[1;33m(\u001b[0m\u001b[1;34m'english'\u001b[0m\u001b[1;33m)\u001b[0m\u001b[1;33m]\u001b[0m\u001b[1;33m\u001b[0m\u001b[1;33m\u001b[0m\u001b[0m\n\u001b[0m\u001b[0;32m     20\u001b[0m     \u001b[0mstem_words\u001b[0m\u001b[1;33m=\u001b[0m\u001b[1;33m[\u001b[0m\u001b[0mstemmer\u001b[0m\u001b[1;33m.\u001b[0m\u001b[0mstem\u001b[0m\u001b[1;33m(\u001b[0m\u001b[0mw\u001b[0m\u001b[1;33m)\u001b[0m \u001b[1;32mfor\u001b[0m \u001b[0mw\u001b[0m \u001b[1;32min\u001b[0m \u001b[0mfiltered_words\u001b[0m\u001b[1;33m]\u001b[0m\u001b[1;33m\u001b[0m\u001b[1;33m\u001b[0m\u001b[0m\n\u001b[0;32m     21\u001b[0m     \u001b[0mlemma_words\u001b[0m\u001b[1;33m=\u001b[0m\u001b[1;33m[\u001b[0m\u001b[0mlemmatizer\u001b[0m\u001b[1;33m.\u001b[0m\u001b[0mlemmatize\u001b[0m\u001b[1;33m(\u001b[0m\u001b[0mw\u001b[0m\u001b[1;33m)\u001b[0m \u001b[1;32mfor\u001b[0m \u001b[0mw\u001b[0m \u001b[1;32min\u001b[0m \u001b[0mstem_words\u001b[0m\u001b[1;33m]\u001b[0m\u001b[1;33m\u001b[0m\u001b[1;33m\u001b[0m\u001b[0m\n",
      "\u001b[1;32m~\\anaconda3\\lib\\site-packages\\nltk\\corpus\\reader\\wordlist.py\u001b[0m in \u001b[0;36mwords\u001b[1;34m(self, fileids, ignore_lines_startswith)\u001b[0m\n\u001b[0;32m     21\u001b[0m         return [\n\u001b[0;32m     22\u001b[0m             \u001b[0mline\u001b[0m\u001b[1;33m\u001b[0m\u001b[1;33m\u001b[0m\u001b[0m\n\u001b[1;32m---> 23\u001b[1;33m             \u001b[1;32mfor\u001b[0m \u001b[0mline\u001b[0m \u001b[1;32min\u001b[0m \u001b[0mline_tokenize\u001b[0m\u001b[1;33m(\u001b[0m\u001b[0mself\u001b[0m\u001b[1;33m.\u001b[0m\u001b[0mraw\u001b[0m\u001b[1;33m(\u001b[0m\u001b[0mfileids\u001b[0m\u001b[1;33m)\u001b[0m\u001b[1;33m)\u001b[0m\u001b[1;33m\u001b[0m\u001b[1;33m\u001b[0m\u001b[0m\n\u001b[0m\u001b[0;32m     24\u001b[0m             \u001b[1;32mif\u001b[0m \u001b[1;32mnot\u001b[0m \u001b[0mline\u001b[0m\u001b[1;33m.\u001b[0m\u001b[0mstartswith\u001b[0m\u001b[1;33m(\u001b[0m\u001b[0mignore_lines_startswith\u001b[0m\u001b[1;33m)\u001b[0m\u001b[1;33m\u001b[0m\u001b[1;33m\u001b[0m\u001b[0m\n\u001b[0;32m     25\u001b[0m         ]\n",
      "\u001b[1;32m~\\anaconda3\\lib\\site-packages\\nltk\\corpus\\reader\\wordlist.py\u001b[0m in \u001b[0;36mraw\u001b[1;34m(self, fileids)\u001b[0m\n\u001b[0;32m     30\u001b[0m         \u001b[1;32melif\u001b[0m \u001b[0misinstance\u001b[0m\u001b[1;33m(\u001b[0m\u001b[0mfileids\u001b[0m\u001b[1;33m,\u001b[0m \u001b[0mstr\u001b[0m\u001b[1;33m)\u001b[0m\u001b[1;33m:\u001b[0m\u001b[1;33m\u001b[0m\u001b[1;33m\u001b[0m\u001b[0m\n\u001b[0;32m     31\u001b[0m             \u001b[0mfileids\u001b[0m \u001b[1;33m=\u001b[0m \u001b[1;33m[\u001b[0m\u001b[0mfileids\u001b[0m\u001b[1;33m]\u001b[0m\u001b[1;33m\u001b[0m\u001b[1;33m\u001b[0m\u001b[0m\n\u001b[1;32m---> 32\u001b[1;33m         \u001b[1;32mreturn\u001b[0m \u001b[0mconcat\u001b[0m\u001b[1;33m(\u001b[0m\u001b[1;33m[\u001b[0m\u001b[0mself\u001b[0m\u001b[1;33m.\u001b[0m\u001b[0mopen\u001b[0m\u001b[1;33m(\u001b[0m\u001b[0mf\u001b[0m\u001b[1;33m)\u001b[0m\u001b[1;33m.\u001b[0m\u001b[0mread\u001b[0m\u001b[1;33m(\u001b[0m\u001b[1;33m)\u001b[0m \u001b[1;32mfor\u001b[0m \u001b[0mf\u001b[0m \u001b[1;32min\u001b[0m \u001b[0mfileids\u001b[0m\u001b[1;33m]\u001b[0m\u001b[1;33m)\u001b[0m\u001b[1;33m\u001b[0m\u001b[1;33m\u001b[0m\u001b[0m\n\u001b[0m\u001b[0;32m     33\u001b[0m \u001b[1;33m\u001b[0m\u001b[0m\n\u001b[0;32m     34\u001b[0m \u001b[1;33m\u001b[0m\u001b[0m\n",
      "\u001b[1;32m~\\anaconda3\\lib\\site-packages\\nltk\\corpus\\reader\\wordlist.py\u001b[0m in \u001b[0;36m<listcomp>\u001b[1;34m(.0)\u001b[0m\n\u001b[0;32m     30\u001b[0m         \u001b[1;32melif\u001b[0m \u001b[0misinstance\u001b[0m\u001b[1;33m(\u001b[0m\u001b[0mfileids\u001b[0m\u001b[1;33m,\u001b[0m \u001b[0mstr\u001b[0m\u001b[1;33m)\u001b[0m\u001b[1;33m:\u001b[0m\u001b[1;33m\u001b[0m\u001b[1;33m\u001b[0m\u001b[0m\n\u001b[0;32m     31\u001b[0m             \u001b[0mfileids\u001b[0m \u001b[1;33m=\u001b[0m \u001b[1;33m[\u001b[0m\u001b[0mfileids\u001b[0m\u001b[1;33m]\u001b[0m\u001b[1;33m\u001b[0m\u001b[1;33m\u001b[0m\u001b[0m\n\u001b[1;32m---> 32\u001b[1;33m         \u001b[1;32mreturn\u001b[0m \u001b[0mconcat\u001b[0m\u001b[1;33m(\u001b[0m\u001b[1;33m[\u001b[0m\u001b[0mself\u001b[0m\u001b[1;33m.\u001b[0m\u001b[0mopen\u001b[0m\u001b[1;33m(\u001b[0m\u001b[0mf\u001b[0m\u001b[1;33m)\u001b[0m\u001b[1;33m.\u001b[0m\u001b[0mread\u001b[0m\u001b[1;33m(\u001b[0m\u001b[1;33m)\u001b[0m \u001b[1;32mfor\u001b[0m \u001b[0mf\u001b[0m \u001b[1;32min\u001b[0m \u001b[0mfileids\u001b[0m\u001b[1;33m]\u001b[0m\u001b[1;33m)\u001b[0m\u001b[1;33m\u001b[0m\u001b[1;33m\u001b[0m\u001b[0m\n\u001b[0m\u001b[0;32m     33\u001b[0m \u001b[1;33m\u001b[0m\u001b[0m\n\u001b[0;32m     34\u001b[0m \u001b[1;33m\u001b[0m\u001b[0m\n",
      "\u001b[1;32m~\\anaconda3\\lib\\site-packages\\nltk\\data.py\u001b[0m in \u001b[0;36mread\u001b[1;34m(self, size)\u001b[0m\n\u001b[0;32m   1054\u001b[0m         \u001b[1;33m:\u001b[0m\u001b[0mrtype\u001b[0m\u001b[1;33m:\u001b[0m \u001b[0municode\u001b[0m\u001b[1;33m\u001b[0m\u001b[1;33m\u001b[0m\u001b[0m\n\u001b[0;32m   1055\u001b[0m         \"\"\"\n\u001b[1;32m-> 1056\u001b[1;33m         \u001b[0mchars\u001b[0m \u001b[1;33m=\u001b[0m \u001b[0mself\u001b[0m\u001b[1;33m.\u001b[0m\u001b[0m_read\u001b[0m\u001b[1;33m(\u001b[0m\u001b[0msize\u001b[0m\u001b[1;33m)\u001b[0m\u001b[1;33m\u001b[0m\u001b[1;33m\u001b[0m\u001b[0m\n\u001b[0m\u001b[0;32m   1057\u001b[0m \u001b[1;33m\u001b[0m\u001b[0m\n\u001b[0;32m   1058\u001b[0m         \u001b[1;31m# If linebuffer is not empty, then include it in the result\u001b[0m\u001b[1;33m\u001b[0m\u001b[1;33m\u001b[0m\u001b[1;33m\u001b[0m\u001b[0m\n",
      "\u001b[1;32m~\\anaconda3\\lib\\site-packages\\nltk\\data.py\u001b[0m in \u001b[0;36m_read\u001b[1;34m(self, size)\u001b[0m\n\u001b[0;32m   1331\u001b[0m         \u001b[1;31m# Read the requested number of bytes.\u001b[0m\u001b[1;33m\u001b[0m\u001b[1;33m\u001b[0m\u001b[1;33m\u001b[0m\u001b[0m\n\u001b[0;32m   1332\u001b[0m         \u001b[1;32mif\u001b[0m \u001b[0msize\u001b[0m \u001b[1;32mis\u001b[0m \u001b[1;32mNone\u001b[0m\u001b[1;33m:\u001b[0m\u001b[1;33m\u001b[0m\u001b[1;33m\u001b[0m\u001b[0m\n\u001b[1;32m-> 1333\u001b[1;33m             \u001b[0mnew_bytes\u001b[0m \u001b[1;33m=\u001b[0m \u001b[0mself\u001b[0m\u001b[1;33m.\u001b[0m\u001b[0mstream\u001b[0m\u001b[1;33m.\u001b[0m\u001b[0mread\u001b[0m\u001b[1;33m(\u001b[0m\u001b[1;33m)\u001b[0m\u001b[1;33m\u001b[0m\u001b[1;33m\u001b[0m\u001b[0m\n\u001b[0m\u001b[0;32m   1334\u001b[0m         \u001b[1;32melse\u001b[0m\u001b[1;33m:\u001b[0m\u001b[1;33m\u001b[0m\u001b[1;33m\u001b[0m\u001b[0m\n\u001b[0;32m   1335\u001b[0m             \u001b[0mnew_bytes\u001b[0m \u001b[1;33m=\u001b[0m \u001b[0mself\u001b[0m\u001b[1;33m.\u001b[0m\u001b[0mstream\u001b[0m\u001b[1;33m.\u001b[0m\u001b[0mread\u001b[0m\u001b[1;33m(\u001b[0m\u001b[0msize\u001b[0m\u001b[1;33m)\u001b[0m\u001b[1;33m\u001b[0m\u001b[1;33m\u001b[0m\u001b[0m\n",
      "\u001b[1;31mKeyboardInterrupt\u001b[0m: "
     ]
    }
   ],
   "source": [
    "asin_df['clean'] = asin_df['text'].map(lambda x: preprocess(x))"
   ]
  },
  {
   "cell_type": "code",
   "execution_count": null,
   "id": "competent-indonesian",
   "metadata": {},
   "outputs": [],
   "source": [
    "asin_df.drop('text', axis=1, inplace=True)"
   ]
  },
  {
   "cell_type": "code",
   "execution_count": null,
   "id": "informal-marine",
   "metadata": {},
   "outputs": [],
   "source": [
    "# asin_df.to_csv('asin_nlp.csv', index=False)"
   ]
  },
  {
   "cell_type": "code",
   "execution_count": null,
   "id": "specific-interaction",
   "metadata": {},
   "outputs": [],
   "source": [
    "index_list = asin_df.index.tolist()"
   ]
  },
  {
   "cell_type": "code",
   "execution_count": null,
   "id": "interesting-attempt",
   "metadata": {},
   "outputs": [],
   "source": [
    "tfidf = TfidfVectorizer()\n",
    "tfidf_df = tfidf.fit_transform(asin_df['clean'])\n",
    "tfidf_df.todense()"
   ]
  },
  {
   "cell_type": "code",
   "execution_count": null,
   "id": "further-browse",
   "metadata": {},
   "outputs": [],
   "source": [
    "tfidf_df = pd.concat([tfidf_df, asin_df.index])"
   ]
  },
  {
   "cell_type": "code",
   "execution_count": null,
   "id": "governmental-wilderness",
   "metadata": {},
   "outputs": [],
   "source": [
    "# tfidf_df.to_csv('asin_nlp.csv', index=False)"
   ]
  },
  {
   "cell_type": "code",
   "execution_count": null,
   "id": "anticipated-cable",
   "metadata": {},
   "outputs": [],
   "source": []
  },
  {
   "cell_type": "code",
   "execution_count": null,
   "id": "boolean-arrow",
   "metadata": {},
   "outputs": [],
   "source": [
    "nmf = NMF(n_components=2)\n",
    "nmf.fit(M)\n",
    "W = nmf.transform(M)\n",
    "H = nmf.components_\n",
    "print('RSS = %.2f' % nmf.reconstruction_err_)"
   ]
  },
  {
   "cell_type": "code",
   "execution_count": null,
   "id": "whole-sheriff",
   "metadata": {},
   "outputs": [],
   "source": [
    "W, H = (np.around(x,2) for x in (W,H))\n",
    "W = pd.DataFrame(W,index=pivot_df.index)\n",
    "H = pd.DataFrame(H,columns=pivot_df.columns)\n",
    "\n",
    "display(W) \n",
    "display(H)"
   ]
  }
 ],
 "metadata": {
  "kernelspec": {
   "display_name": "Python 3",
   "language": "python",
   "name": "python3"
  },
  "language_info": {
   "codemirror_mode": {
    "name": "ipython",
    "version": 3
   },
   "file_extension": ".py",
   "mimetype": "text/x-python",
   "name": "python",
   "nbconvert_exporter": "python",
   "pygments_lexer": "ipython3",
   "version": "3.8.5"
  }
 },
 "nbformat": 4,
 "nbformat_minor": 5
}
