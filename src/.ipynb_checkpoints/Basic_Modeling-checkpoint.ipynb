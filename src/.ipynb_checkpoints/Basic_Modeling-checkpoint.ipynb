{
 "cells": [
  {
   "cell_type": "code",
   "execution_count": 2,
   "id": "persistent-gothic",
   "metadata": {},
   "outputs": [
    {
     "name": "stderr",
     "output_type": "stream",
     "text": [
      "C:\\Users\\walke\\anaconda3\\lib\\site-packages\\lightfm\\_lightfm_fast.py:9: UserWarning: LightFM was compiled without OpenMP support. Only a single thread will be used.\n",
      "  warnings.warn(\n"
     ]
    },
    {
     "data": {
      "text/html": [
       "        <script type=\"text/javascript\">\n",
       "        window.PlotlyConfig = {MathJaxConfig: 'local'};\n",
       "        if (window.MathJax) {MathJax.Hub.Config({SVG: {font: \"STIX-Web\"}});}\n",
       "        if (typeof require !== 'undefined') {\n",
       "        require.undef(\"plotly\");\n",
       "        requirejs.config({\n",
       "            paths: {\n",
       "                'plotly': ['https://cdn.plot.ly/plotly-latest.min']\n",
       "            }\n",
       "        });\n",
       "        require(['plotly'], function(Plotly) {\n",
       "            window._Plotly = Plotly;\n",
       "        });\n",
       "        }\n",
       "        </script>\n",
       "        "
      ]
     },
     "metadata": {},
     "output_type": "display_data"
    }
   ],
   "source": [
    "# general imports\n",
    "import pandas as pd\n",
    "import numpy as np\n",
    "import itertools\n",
    "from collections import defaultdict\n",
    "\n",
    "# display options\n",
    "pd.set_option('display.max_rows', 500)\n",
    "pd.set_option('display.max_columns', 500)\n",
    "pd.set_option('display.width', 1000)\n",
    "\n",
    "# visualization libraries\n",
    "import matplotlib.pyplot as plt\n",
    "import seaborn as sns\n",
    "import plotly.express as px\n",
    "import plotly.graph_objects as go\n",
    "\n",
    "# custom helper functions\n",
    "%load_ext autoreload\n",
    "%autoreload 2\n",
    "from helper.general_helper import *\n",
    "from helper.preprocess import *\n",
    "from custom_recommender import *\n",
    "\n",
    "# keras\n",
    "from keras import Input, Model\n",
    "from keras.layers import Embedding, Reshape, Dot\n",
    "\n",
    "\n",
    "# sklearn\n",
    "from sklearn.metrics import mean_squared_error\n",
    "from sklearn.feature_extraction.text import TfidfVectorizer\n",
    "from sklearn.decomposition import NMF\n",
    "from sklearn.model_selection import train_test_split\n",
    "from sklearn.preprocessing import LabelEncoder\n",
    "from sklearn.ensemble import RandomForestRegressor\n",
    "\n",
    "# view plotly in jupyter \n",
    "from plotly.offline import download_plotlyjs, init_notebook_mode, plot, iplot\n",
    "init_notebook_mode(connected=True)\n",
    "\n",
    "# ignore warnings\n",
    "import warnings\n",
    "warnings.filterwarnings(\"ignore\")"
   ]
  },
  {
   "cell_type": "code",
   "execution_count": null,
   "id": "peaceful-subcommittee",
   "metadata": {},
   "outputs": [],
   "source": [
    "# select test size\n",
    "n = 39601\n",
    "\n",
    "# shuffle dataframe\n",
    "df = df.sample(frac=1).reset_index(drop=True)\n",
    "\n",
    "# split into train and test set\n",
    "df_train = df[:-n]\n",
    "df_test = df[-n:]"
   ]
  },
  {
   "cell_type": "code",
   "execution_count": 2,
   "id": "integrated-sound",
   "metadata": {},
   "outputs": [],
   "source": [
    "df = pd.read_csv('../../merged_df.csv')"
   ]
  },
  {
   "cell_type": "code",
   "execution_count": 3,
   "id": "protecting-chuck",
   "metadata": {},
   "outputs": [],
   "source": [
    "# drop where title is na\n",
    "df = df[df['title'].notna()]"
   ]
  },
  {
   "cell_type": "code",
   "execution_count": 4,
   "id": "political-entrepreneur",
   "metadata": {},
   "outputs": [],
   "source": [
    "# set meta dataframe for reference later\n",
    "meta = df[['reviewerID', 'asin', 'overall', 'title']]"
   ]
  },
  {
   "cell_type": "markdown",
   "id": "nutritional-recruitment",
   "metadata": {},
   "source": [
    "##### reduce sparcisty"
   ]
  },
  {
   "cell_type": "code",
   "execution_count": 6,
   "id": "downtown-maria",
   "metadata": {},
   "outputs": [],
   "source": [
    "# select reviewer and product values\n",
    "customers = df['reviewerID'].value_counts()\n",
    "products = df['asin'].value_counts()\n",
    "\n",
    "# filter by 10 reviews per product per customer, products with 20 or more reviews\n",
    "customers = customers[customers >= 10]\n",
    "products = products[products >= 20]\n",
    "\n",
    "# merge dataframe\n",
    "df = df.merge(pd.DataFrame({'reviewerID': customers.index})).merge(pd.DataFrame({'asin': products.index}))"
   ]
  },
  {
   "cell_type": "code",
   "execution_count": 7,
   "id": "coastal-feelings",
   "metadata": {},
   "outputs": [],
   "source": [
    "# select test size\n",
    "n = 39601\n",
    "\n",
    "# shuffle dataframe\n",
    "df = df.sample(frac=1).reset_index(drop=True)\n",
    "\n",
    "# split into train and test set\n",
    "df_train = df[:-n]\n",
    "df_test = df[-n:]"
   ]
  },
  {
   "cell_type": "markdown",
   "id": "existing-research",
   "metadata": {},
   "source": [
    "##### train test split and set pivot table "
   ]
  },
  {
   "cell_type": "code",
   "execution_count": 9,
   "id": "subsequent-imaging",
   "metadata": {},
   "outputs": [
    {
     "data": {
      "text/plain": [
       "(8620, 4334)"
      ]
     },
     "execution_count": 9,
     "metadata": {},
     "output_type": "execute_result"
    }
   ],
   "source": [
    "# create pivot table for correct reviewers and products\n",
    "pivot_df = df_train.pivot_table(index='reviewerID', columns='asin', values='overall')\n",
    "\n",
    "pivot_df.shape"
   ]
  },
  {
   "cell_type": "markdown",
   "id": "geographic-chosen",
   "metadata": {},
   "source": [
    "#### Recomender based on weighted averages\n",
    "* This will be the baseline predictive model"
   ]
  },
  {
   "cell_type": "code",
   "execution_count": 10,
   "id": "broken-salmon",
   "metadata": {},
   "outputs": [],
   "source": [
    "# https://math.stackexchange.com/questions/169032/understanding-the-imdb-weighted-rating-function-for-usage-on-my-own-website\n",
    "# min number of votes for weight (regularization)\n",
    "M = 50\n",
    "\n",
    "# mean ratings of all products\n",
    "C = pivot_df.stack().mean()\n",
    "\n",
    "# mean rating per product\n",
    "R = pivot_df.mean(axis=0).values\n",
    "\n",
    "# rating cout for all products\n",
    "V = pivot_df.count().values\n",
    "\n",
    "\n",
    "weighted_score = (V / (V + M) * R) + (M / (V + M) * C) "
   ]
  },
  {
   "cell_type": "code",
   "execution_count": 11,
   "id": "included-plaintiff",
   "metadata": {},
   "outputs": [
    {
     "data": {
      "text/plain": [
       "array([1184, 3998, 2890, ..., 3637,  725, 2463], dtype=int64)"
      ]
     },
     "execution_count": 11,
     "metadata": {},
     "output_type": "execute_result"
    }
   ],
   "source": [
    "weighted_rankings = np.argsort(weighted_score)[::-1]\n",
    "weighted_rankings"
   ]
  },
  {
   "cell_type": "code",
   "execution_count": 12,
   "id": "multiple-database",
   "metadata": {},
   "outputs": [
    {
     "data": {
      "text/plain": [
       "array([4.63898836, 4.60118654, 4.5761371 , ..., 3.40779329, 3.34441083,\n",
       "       3.24704889])"
      ]
     },
     "execution_count": 12,
     "metadata": {},
     "output_type": "execute_result"
    }
   ],
   "source": [
    "weighted_score = np.sort(weighted_score)[::-1]\n",
    "weighted_score"
   ]
  },
  {
   "cell_type": "code",
   "execution_count": 13,
   "id": "driving-quest",
   "metadata": {},
   "outputs": [],
   "source": [
    "weighted_product_ids = pivot_df.columns[weighted_rankings]"
   ]
  },
  {
   "cell_type": "code",
   "execution_count": 14,
   "id": "critical-problem",
   "metadata": {},
   "outputs": [],
   "source": [
    "df_preds = df_test.set_index('asin').join(pd.DataFrame(\n",
    "    weighted_score, index=weighted_product_ids , columns=['Prediction'])\n",
    "                                         )[['overall', 'Prediction']]"
   ]
  },
  {
   "cell_type": "code",
   "execution_count": 15,
   "id": "minimal-involvement",
   "metadata": {},
   "outputs": [
    {
     "data": {
      "text/html": [
       "<div>\n",
       "<style scoped>\n",
       "    .dataframe tbody tr th:only-of-type {\n",
       "        vertical-align: middle;\n",
       "    }\n",
       "\n",
       "    .dataframe tbody tr th {\n",
       "        vertical-align: top;\n",
       "    }\n",
       "\n",
       "    .dataframe thead th {\n",
       "        text-align: right;\n",
       "    }\n",
       "</style>\n",
       "<table border=\"1\" class=\"dataframe\">\n",
       "  <thead>\n",
       "    <tr style=\"text-align: right;\">\n",
       "      <th></th>\n",
       "      <th>overall</th>\n",
       "      <th>Prediction</th>\n",
       "    </tr>\n",
       "    <tr>\n",
       "      <th>asin</th>\n",
       "      <th></th>\n",
       "      <th></th>\n",
       "    </tr>\n",
       "  </thead>\n",
       "  <tbody>\n",
       "    <tr>\n",
       "      <th>159985130X</th>\n",
       "      <td>5.0</td>\n",
       "      <td>4.192346</td>\n",
       "    </tr>\n",
       "    <tr>\n",
       "      <th>159985130X</th>\n",
       "      <td>5.0</td>\n",
       "      <td>4.192346</td>\n",
       "    </tr>\n",
       "    <tr>\n",
       "      <th>7884890364</th>\n",
       "      <td>4.0</td>\n",
       "      <td>4.344202</td>\n",
       "    </tr>\n",
       "    <tr>\n",
       "      <th>7884890364</th>\n",
       "      <td>5.0</td>\n",
       "      <td>4.344202</td>\n",
       "    </tr>\n",
       "    <tr>\n",
       "      <th>7884890364</th>\n",
       "      <td>5.0</td>\n",
       "      <td>4.344202</td>\n",
       "    </tr>\n",
       "    <tr>\n",
       "      <th>...</th>\n",
       "      <td>...</td>\n",
       "      <td>...</td>\n",
       "    </tr>\n",
       "    <tr>\n",
       "      <th>B00L1H4I0Y</th>\n",
       "      <td>5.0</td>\n",
       "      <td>4.390058</td>\n",
       "    </tr>\n",
       "    <tr>\n",
       "      <th>B00LFB2ENY</th>\n",
       "      <td>5.0</td>\n",
       "      <td>4.366062</td>\n",
       "    </tr>\n",
       "    <tr>\n",
       "      <th>B00LIASY0Y</th>\n",
       "      <td>5.0</td>\n",
       "      <td>4.317632</td>\n",
       "    </tr>\n",
       "    <tr>\n",
       "      <th>B00LIASY0Y</th>\n",
       "      <td>5.0</td>\n",
       "      <td>4.317632</td>\n",
       "    </tr>\n",
       "    <tr>\n",
       "      <th>B00LIASY0Y</th>\n",
       "      <td>4.0</td>\n",
       "      <td>4.317632</td>\n",
       "    </tr>\n",
       "  </tbody>\n",
       "</table>\n",
       "<p>39601 rows × 2 columns</p>\n",
       "</div>"
      ],
      "text/plain": [
       "            overall  Prediction\n",
       "asin                           \n",
       "159985130X      5.0    4.192346\n",
       "159985130X      5.0    4.192346\n",
       "7884890364      4.0    4.344202\n",
       "7884890364      5.0    4.344202\n",
       "7884890364      5.0    4.344202\n",
       "...             ...         ...\n",
       "B00L1H4I0Y      5.0    4.390058\n",
       "B00LFB2ENY      5.0    4.366062\n",
       "B00LIASY0Y      5.0    4.317632\n",
       "B00LIASY0Y      5.0    4.317632\n",
       "B00LIASY0Y      4.0    4.317632\n",
       "\n",
       "[39601 rows x 2 columns]"
      ]
     },
     "execution_count": 15,
     "metadata": {},
     "output_type": "execute_result"
    }
   ],
   "source": [
    "df_preds"
   ]
  },
  {
   "cell_type": "code",
   "execution_count": 16,
   "id": "freelance-detective",
   "metadata": {},
   "outputs": [],
   "source": [
    "y_true = df_preds['overall']\n",
    "y_pred = df_preds['Prediction']\n",
    "\n",
    "y_pred.fillna(value=1, inplace=True)"
   ]
  },
  {
   "cell_type": "code",
   "execution_count": 17,
   "id": "opposite-moore",
   "metadata": {},
   "outputs": [
    {
     "data": {
      "text/plain": [
       "1.0065541170737398"
      ]
     },
     "execution_count": 17,
     "metadata": {},
     "output_type": "execute_result"
    }
   ],
   "source": [
    "rmse = np.sqrt(mean_squared_error(y_true, y_pred))\n",
    "rmse"
   ]
  },
  {
   "cell_type": "code",
   "execution_count": 18,
   "id": "adequate-custom",
   "metadata": {},
   "outputs": [],
   "source": [
    "# lets look at the distribution of error\n",
    "error = abs(df_preds['overall'] - df_preds['Prediction'])"
   ]
  },
  {
   "cell_type": "code",
   "execution_count": 20,
   "id": "opened-uruguay",
   "metadata": {},
   "outputs": [
    {
     "data": {
      "text/plain": [
       "Text(0, 0.5, 'Count')"
      ]
     },
     "execution_count": 20,
     "metadata": {},
     "output_type": "execute_result"
    },
    {
     "data": {
      "image/png": "[encoded data removed]",
      "text/plain": [
       "<Figure size 842.4x595.44 with 1 Axes>"
      ]
     },
     "metadata": {},
     "output_type": "display_data"
    }
   ],
   "source": [
    "figure = sns.distplot(error, kde=True)\n",
    "plt.axvline(np.median(error),color='r', linestyle='--')\n",
    "plt.title('Distribution of Error: Weighted Averages', fontsize=18)\n",
    "sns.set(rc={'figure.figsize':(11.7,8.27)})\n",
    "plt.xlabel('Error', fontsize=16)\n",
    "plt.ylabel('Count', fontsize=16)\n",
    "# plt.savefig(r\"../images/weighted_average_error\");"
   ]
  },
  {
   "cell_type": "markdown",
   "id": "relative-springfield",
   "metadata": {},
   "source": [
    "##### Random Forest Recommender"
   ]
  },
  {
   "cell_type": "code",
   "execution_count": 25,
   "id": "fitting-taiwan",
   "metadata": {},
   "outputs": [],
   "source": [
    "pivot_df.fillna(0, inplace=True)"
   ]
  },
  {
   "cell_type": "code",
   "execution_count": 87,
   "id": "moved-functionality",
   "metadata": {},
   "outputs": [],
   "source": [
    "# fill a dictionary with user reviews and summary\n",
    "nlp_dict = defaultdict(list)\n",
    "\n",
    "# get all unique IDs\n",
    "unique_ids = df_train.reviewerID.unique()\n",
    "\n",
    "# populate dictionary\n",
    "for id in unique_ids:\n",
    "    nlp_dict[id]"
   ]
  },
  {
   "cell_type": "code",
   "execution_count": 88,
   "id": "necessary-recording",
   "metadata": {},
   "outputs": [],
   "source": [
    "# df_train.index = df_train.reviewerID\n",
    "# for index, review in zip(df_train.index, df_train.reviewText):\n",
    "#     nlp_dict[index].append(review)\n",
    "\n",
    "# select summary for nlp\n",
    "for index, summary in zip(df_train.index, df_train.summary):\n",
    "    nlp_dict[index].append(summary)"
   ]
  },
  {
   "cell_type": "code",
   "execution_count": 128,
   "id": "nuclear-subscriber",
   "metadata": {},
   "outputs": [],
   "source": [
    "target =  pivot_df"
   ]
  },
  {
   "cell_type": "code",
   "execution_count": 105,
   "id": "forward-diving",
   "metadata": {},
   "outputs": [],
   "source": [
    "# create a dataset with the summary as a single column\n",
    "nlp_dataset = pd.DataFrame(list(nlp_dict.items()), columns = ['user','summary'])\n",
    "\n",
    "# reset index as user id\n",
    "nlp_dataset.index= nlp_dataset.user\n",
    "nlp_dataset.drop('user', axis=1, inplace=True)\n",
    "\n",
    "# unpack lists into strings\n",
    "nlp_dataset.summary = nlp_dataset.summary.apply(lambda x: \" \".join(x))\n",
    "\n"
   ]
  },
  {
   "cell_type": "code",
   "execution_count": 107,
   "id": "competent-administration",
   "metadata": {},
   "outputs": [],
   "source": [
    "# tfidf the summary strings\n",
    "vectorizer = TfidfVectorizer(stop_words='english')\n",
    "X = vectorizer.fit_transform(nlp_dataset.summary)"
   ]
  },
  {
   "cell_type": "code",
   "execution_count": 111,
   "id": "cloudy-adjustment",
   "metadata": {},
   "outputs": [],
   "source": [
    "# create dataframe to merge\n",
    "vect_df = pd.DataFrame(data=X.todense(), index=nlp_dataset.index, columns=vectorizer.get_feature_names())"
   ]
  },
  {
   "cell_type": "code",
   "execution_count": 113,
   "id": "guilty-saint",
   "metadata": {},
   "outputs": [],
   "source": [
    "# final merge with target\n",
    "nlp_dataset_full = vect_df.merge(target, left_index=True, right_index=True)"
   ]
  },
  {
   "cell_type": "code",
   "execution_count": 137,
   "id": "loving-dylan",
   "metadata": {},
   "outputs": [],
   "source": [
    "# lets select only data with a rating\n",
    "data = nlp_dataset_full[nlp_dataset_full['159985130X'] != 0]\n",
    "\n",
    "\n",
    "trained_index = data.index.tolist()\n",
    "\n",
    "X = data.iloc[:, :-1]\n",
    "y = data.iloc[:, -1]"
   ]
  },
  {
   "cell_type": "code",
   "execution_count": 135,
   "id": "executive-biotechnology",
   "metadata": {},
   "outputs": [
    {
     "data": {
      "text/plain": [
       "RandomForestRegressor(max_depth=2)"
      ]
     },
     "execution_count": 135,
     "metadata": {},
     "output_type": "execute_result"
    }
   ],
   "source": [
    "model = RandomForestRegressor(max_depth=2)\n",
    "\n",
    "model.fit(X, y)"
   ]
  },
  {
   "cell_type": "code",
   "execution_count": 139,
   "id": "blind-george",
   "metadata": {},
   "outputs": [],
   "source": [
    "nlp_dataset_full = nlp_dataset_full.iloc[:, :-1]"
   ]
  },
  {
   "cell_type": "code",
   "execution_count": 140,
   "id": "experienced-copying",
   "metadata": {},
   "outputs": [
    {
     "data": {
      "text/plain": [
       "array([3.848     , 3.74133333, 3.82133333, ..., 3.58133333, 3.848     ,\n",
       "       3.848     ])"
      ]
     },
     "execution_count": 140,
     "metadata": {},
     "output_type": "execute_result"
    }
   ],
   "source": [
    "model.predict(nlp_dataset_full)"
   ]
  },
  {
   "cell_type": "code",
   "execution_count": null,
   "id": "sought-prevention",
   "metadata": {},
   "outputs": [],
   "source": []
  },
  {
   "cell_type": "code",
   "execution_count": 104,
   "id": "under-feeding",
   "metadata": {},
   "outputs": [
    {
     "data": {
      "text/plain": [
       "reviewerID\n",
       "A38RMU1Y5TDP9     159985130X\n",
       "AXO4PQU0XG3TG     159985130X\n",
       "A28X0LT2100RL1    159985130X\n",
       "A1JQDCX4LDKBZ3    159985130X\n",
       "A3RNRXOM5J2C93    159985130X\n",
       "                     ...    \n",
       "A2D5129GY6KDUP    B00LIASY0Y\n",
       "A30WU937PCLEG1    B00LIASY0Y\n",
       "A5ZCBF46DNM1B     B00LIASY0Y\n",
       "A3I4RA9J9VGASL    B00LIASY0Y\n",
       "A2SU4KPIV2URZV    B00LIASY0Y\n",
       "Name: asin, Length: 112910, dtype: object"
      ]
     },
     "execution_count": 104,
     "metadata": {},
     "output_type": "execute_result"
    }
   ],
   "source": [
    "df.loc[:, 'asin']"
   ]
  },
  {
   "cell_type": "code",
   "execution_count": 3,
   "id": "organic-mistake",
   "metadata": {},
   "outputs": [],
   "source": [
    "df = pd.read_csv('../../merged_df.csv')"
   ]
  },
  {
   "cell_type": "code",
   "execution_count": 4,
   "id": "naval-serbia",
   "metadata": {},
   "outputs": [],
   "source": [
    "df = df[df['title'].notna()]\n",
    "\n",
    "# select reviewer and product values\n",
    "customers = df['reviewerID'].value_counts()\n",
    "products = df['asin'].value_counts()\n",
    "\n",
    "# filter by 10 reviews per product per customer, products with 20 or more reviews\n",
    "customers = customers[customers >= 10]\n",
    "products = products[products >= 20]\n",
    "\n",
    "# merge dataframe\n",
    "df = df.merge(pd.DataFrame({'reviewerID': customers.index})).merge(pd.DataFrame({'asin': products.index}))"
   ]
  },
  {
   "cell_type": "code",
   "execution_count": 5,
   "id": "suffering-building",
   "metadata": {},
   "outputs": [],
   "source": [
    "test = custom_predictor(df)"
   ]
  },
  {
   "cell_type": "code",
   "execution_count": 6,
   "id": "matched-innocent",
   "metadata": {},
   "outputs": [
    {
     "ename": "NameError",
     "evalue": "name 'RandomForestClassifier' is not defined",
     "output_type": "error",
     "traceback": [
      "\u001b[1;31m---------------------------------------------------------------------------\u001b[0m",
      "\u001b[1;31mNameError\u001b[0m                                 Traceback (most recent call last)",
      "\u001b[1;32m<ipython-input-6-80ab88cf8dd1>\u001b[0m in \u001b[0;36m<module>\u001b[1;34m\u001b[0m\n\u001b[0;32m      1\u001b[0m \u001b[0mtest\u001b[0m\u001b[1;33m.\u001b[0m\u001b[0mfit\u001b[0m\u001b[1;33m(\u001b[0m\u001b[0mtext_columns\u001b[0m \u001b[1;33m=\u001b[0m \u001b[1;33m[\u001b[0m\u001b[1;34m'summary'\u001b[0m\u001b[1;33m]\u001b[0m\u001b[1;33m)\u001b[0m\u001b[1;33m\u001b[0m\u001b[1;33m\u001b[0m\u001b[0m\n\u001b[0;32m      2\u001b[0m \u001b[1;33m\u001b[0m\u001b[0m\n\u001b[1;32m----> 3\u001b[1;33m \u001b[0mtest\u001b[0m\u001b[1;33m.\u001b[0m\u001b[0mpredict\u001b[0m\u001b[1;33m(\u001b[0m\u001b[0mRandomForestClassifier\u001b[0m\u001b[1;33m(\u001b[0m\u001b[1;33m)\u001b[0m\u001b[1;33m)\u001b[0m\u001b[1;33m\u001b[0m\u001b[1;33m\u001b[0m\u001b[0m\n\u001b[0m",
      "\u001b[1;31mNameError\u001b[0m: name 'RandomForestClassifier' is not defined"
     ]
    }
   ],
   "source": [
    "test.fit(text_columns = ['summary'])\n",
    "\n",
    "test.predict(RandomForestRegressor())"
   ]
  },
  {
   "cell_type": "code",
   "execution_count": null,
   "id": "preliminary-annotation",
   "metadata": {},
   "outputs": [],
   "source": []
  }
 ],
 "metadata": {
  "kernelspec": {
   "display_name": "Python 3",
   "language": "python",
   "name": "python3"
  },
  "language_info": {
   "codemirror_mode": {
    "name": "ipython",
    "version": 3
   },
   "file_extension": ".py",
   "mimetype": "text/x-python",
   "name": "python",
   "nbconvert_exporter": "python",
   "pygments_lexer": "ipython3",
   "version": "3.8.5"
  }
 },
 "nbformat": 4,
 "nbformat_minor": 5
}
