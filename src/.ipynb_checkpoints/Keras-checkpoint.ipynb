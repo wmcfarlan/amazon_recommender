{
 "cells": [
  {
   "cell_type": "code",
   "execution_count": 5,
   "id": "happy-cookbook",
   "metadata": {},
   "outputs": [
    {
     "name": "stdout",
     "output_type": "stream",
     "text": [
      "The autoreload extension is already loaded. To reload it, use:\n",
      "  %reload_ext autoreload\n"
     ]
    },
    {
     "data": {
      "text/html": [
       "        <script type=\"text/javascript\">\n",
       "        window.PlotlyConfig = {MathJaxConfig: 'local'};\n",
       "        if (window.MathJax) {MathJax.Hub.Config({SVG: {font: \"STIX-Web\"}});}\n",
       "        if (typeof require !== 'undefined') {\n",
       "        require.undef(\"plotly\");\n",
       "        requirejs.config({\n",
       "            paths: {\n",
       "                'plotly': ['https://cdn.plot.ly/plotly-latest.min']\n",
       "            }\n",
       "        });\n",
       "        require(['plotly'], function(Plotly) {\n",
       "            window._Plotly = Plotly;\n",
       "        });\n",
       "        }\n",
       "        </script>\n",
       "        "
      ]
     },
     "metadata": {},
     "output_type": "display_data"
    }
   ],
   "source": [
    "import pandas as pd\n",
    "import numpy as np\n",
    "import itertools\n",
    "\n",
    "# display options\n",
    "pd.set_option('display.max_rows', 500)\n",
    "pd.set_option('display.max_columns', 500)\n",
    "pd.set_option('display.width', 1000)\n",
    "\n",
    "# visualization libraries\n",
    "import matplotlib.pyplot as plt\n",
    "import seaborn as sns\n",
    "import plotly.express as px\n",
    "import plotly.graph_objects as go\n",
    "\n",
    "# custom helper functions\n",
    "%load_ext autoreload\n",
    "%autoreload 2\n",
    "from helper.general_helper import *\n",
    "\n",
    "# keras\n",
    "from keras.layers import Input, Embedding, Flatten, Dot, Dense, Concatenate\n",
    "from keras.models import Model\n",
    "\n",
    "# sklearn\n",
    "from sklearn.model_selection import train_test_split\n",
    "\n",
    "# view plotly in jupyter \n",
    "from plotly.offline import download_plotlyjs, init_notebook_mode, plot, iplot\n",
    "init_notebook_mode(connected=True)\n",
    "\n",
    "# ignore warnings\n",
    "import warnings\n",
    "warnings.filterwarnings(\"ignore\")"
   ]
  },
  {
   "cell_type": "code",
   "execution_count": 4,
   "id": "latin-guyana",
   "metadata": {},
   "outputs": [],
   "source": [
    "df = pd.read_csv('../../merged_df.csv')"
   ]
  },
  {
   "cell_type": "code",
   "execution_count": 6,
   "id": "cross-somalia",
   "metadata": {},
   "outputs": [],
   "source": [
    "# create train and test data\n",
    "df = df[['reviewerID', 'asin', 'overall']]\n",
    "\n",
    "train, test = train_test_split(df, test_size=0.2, random_state=42)"
   ]
  },
  {
   "cell_type": "markdown",
   "id": "nasty-gregory",
   "metadata": {},
   "source": [
    "##### Embedding"
   ]
  },
  {
   "cell_type": "code",
   "execution_count": null,
   "id": "remarkable-tiger",
   "metadata": {},
   "outputs": [],
   "source": [
    "n_asins = len(df.asin.unique())\n",
    "n_reviewers = len(df.reviewerID.unique())\n",
    "\n",
    "\n",
    "\n",
    "# creating asin embedding path\n",
    "asin_input = Input(shape=[1], name=\"asin-input\")\n",
    "asin_embedding = Embedding(n_asins+1, 5, name=\"asink-embedding\")(asin_input)\n",
    "asin_vec = Flatten(name=\"flatten-asin\")(asin_embedding)\n",
    "\n",
    "# creating user embedding path\n",
    "reviewer_input = Input(shape=[1], name=\"reviewer-input\")\n",
    "reviewer_embedding = Embedding(n_reviewers+1, 5, name=\"reviewer-embedding\")(reviewer_input)\n",
    "reviewer_vec = Flatten(name=\"flatten-reviewer\")(reviewer_embedding)"
   ]
  },
  {
   "cell_type": "markdown",
   "id": "human-donna",
   "metadata": {},
   "source": [
    "##### Model Creation"
   ]
  },
  {
   "cell_type": "code",
   "execution_count": null,
   "id": "oriented-convertible",
   "metadata": {},
   "outputs": [],
   "source": [
    "# model building\n",
    "conc = Concatenate()([asin_vec, reviewer_vec])\n",
    "\n",
    "layer_1 = Dense(128, activation='relu')(conc)\n",
    "layer_2 = Dense(32, activation='relu')(layer_1)\n",
    "output = Dense(1)(layer_2)\n",
    "\n",
    "model = Model([reviewer_input, asin_input], output)\n",
    "model.compile('adam', loss='mae', metrics=['rmse'])"
   ]
  },
  {
   "cell_type": "code",
   "execution_count": null,
   "id": "wooden-fruit",
   "metadata": {},
   "outputs": [],
   "source": [
    "model.save('../../basic_neural_net.h5')\n",
    "\n",
    "# load model:\n",
    "# model = load_model(../../basic_neural_net.h5)"
   ]
  },
  {
   "cell_type": "markdown",
   "id": "catholic-meditation",
   "metadata": {},
   "source": [
    "##### Model Evaluation"
   ]
  },
  {
   "cell_type": "code",
   "execution_count": null,
   "id": "wanted-underground",
   "metadata": {},
   "outputs": [],
   "source": [
    "model.evaluate([test.reviewerID, test.asin])"
   ]
  },
  {
   "cell_type": "markdown",
   "id": "sapphire-lunch",
   "metadata": {},
   "source": [
    "##### Make Predictions"
   ]
  },
  {
   "cell_type": "code",
   "execution_count": null,
   "id": "dutch-pressure",
   "metadata": {},
   "outputs": [],
   "source": [
    "# recomendations for first user\n",
    "asin_data = np.array(list(set(df.asin)))\n",
    "book_data[:5]"
   ]
  },
  {
   "cell_type": "code",
   "execution_count": null,
   "id": "growing-gospel",
   "metadata": {},
   "outputs": [],
   "source": [
    "reviewer = np.array([1 for i in range(len(asin_data))])\n",
    "reviewer[:5]"
   ]
  },
  {
   "cell_type": "code",
   "execution_count": null,
   "id": "ranking-accent",
   "metadata": {},
   "outputs": [],
   "source": [
    "preds = model.predict([reviewer, asin_data])\n",
    "preds = np.array([a[0] for a in preds])\n",
    "recommended_asin = (-preds).argsort()[:5]\n",
    "recommended_asin"
   ]
  }
 ],
 "metadata": {
  "kernelspec": {
   "display_name": "Python 3",
   "language": "python",
   "name": "python3"
  },
  "language_info": {
   "codemirror_mode": {
    "name": "ipython",
    "version": 3
   },
   "file_extension": ".py",
   "mimetype": "text/x-python",
   "name": "python",
   "nbconvert_exporter": "python",
   "pygments_lexer": "ipython3",
   "version": "3.8.5"
  }
 },
 "nbformat": 4,
 "nbformat_minor": 5
}
