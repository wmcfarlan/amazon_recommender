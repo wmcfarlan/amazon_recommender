{
 "cells": [
  {
   "cell_type": "code",
   "execution_count": 96,
   "id": "several-frontier",
   "metadata": {},
   "outputs": [
    {
     "name": "stdout",
     "output_type": "stream",
     "text": [
      "The autoreload extension is already loaded. To reload it, use:\n",
      "  %reload_ext autoreload\n"
     ]
    },
    {
     "data": {
      "text/html": [
       "        <script type=\"text/javascript\">\n",
       "        window.PlotlyConfig = {MathJaxConfig: 'local'};\n",
       "        if (window.MathJax) {MathJax.Hub.Config({SVG: {font: \"STIX-Web\"}});}\n",
       "        if (typeof require !== 'undefined') {\n",
       "        require.undef(\"plotly\");\n",
       "        requirejs.config({\n",
       "            paths: {\n",
       "                'plotly': ['https://cdn.plot.ly/plotly-latest.min']\n",
       "            }\n",
       "        });\n",
       "        require(['plotly'], function(Plotly) {\n",
       "            window._Plotly = Plotly;\n",
       "        });\n",
       "        }\n",
       "        </script>\n",
       "        "
      ]
     },
     "metadata": {},
     "output_type": "display_data"
    }
   ],
   "source": [
    "import pandas as pd\n",
    "import numpy as np\n",
    "import itertools\n",
    "from collections import defaultdict\n",
    "\n",
    "# display options\n",
    "pd.set_option('display.max_rows', 500)\n",
    "pd.set_option('display.max_columns', 500)\n",
    "pd.set_option('display.width', 1000)\n",
    "\n",
    "# visualization libraries\n",
    "import matplotlib.pyplot as plt\n",
    "import seaborn as sns\n",
    "import plotly.express as px\n",
    "import plotly.graph_objects as go\n",
    "\n",
    "# custom helper functions\n",
    "%load_ext autoreload\n",
    "%autoreload 2\n",
    "from helper.general_helper import *\n",
    "\n",
    "# sklearn\n",
    "from sklearn.model_selection import train_test_split\n",
    "from sklearn.cluster import KMeans\n",
    "from sklearn.metrics import mean_squared_error\n",
    "from sklearn.cluster import AgglomerativeClustering\n",
    "\n",
    "# view plotly in jupyter \n",
    "from plotly.offline import download_plotlyjs, init_notebook_mode, plot, iplot\n",
    "init_notebook_mode(connected=True)\n",
    "\n",
    "# ignore warnings\n",
    "import warnings\n",
    "warnings.filterwarnings(\"ignore\")"
   ]
  },
  {
   "cell_type": "code",
   "execution_count": 21,
   "id": "facial-dispute",
   "metadata": {},
   "outputs": [],
   "source": [
    "df = pd.read_csv('../../merged_df.csv')"
   ]
  },
  {
   "cell_type": "markdown",
   "id": "convertible-scope",
   "metadata": {},
   "source": [
    "#### Reduce Sparcity"
   ]
  },
  {
   "cell_type": "code",
   "execution_count": 22,
   "id": "auburn-partnership",
   "metadata": {},
   "outputs": [],
   "source": [
    "df = df[df['title'].notna()]\n",
    "\n",
    "# select reviewer and product values\n",
    "customers = df['reviewerID'].value_counts()\n",
    "products = df['asin'].value_counts()\n",
    "\n",
    "# filter by 10 reviews per product per customer, products with 20 or more reviews\n",
    "customers = customers[customers >= 10]\n",
    "products = products[products >= 20]\n",
    "\n",
    "# merge dataframe\n",
    "df = df.merge(pd.DataFrame({'reviewerID': customers.index})).merge(pd.DataFrame({'asin': products.index}))"
   ]
  },
  {
   "cell_type": "markdown",
   "id": "republican-accreditation",
   "metadata": {},
   "source": [
    "#### Recommending off KMeans"
   ]
  },
  {
   "cell_type": "code",
   "execution_count": 62,
   "id": "furnished-commission",
   "metadata": {},
   "outputs": [],
   "source": [
    "pivot_df = df.pivot_table(index='reviewerID', columns='asin', values='overall', fill_value=0)"
   ]
  },
  {
   "cell_type": "code",
   "execution_count": 63,
   "id": "proof-worth",
   "metadata": {},
   "outputs": [],
   "source": [
    "kmeans = KMeans(n_clusters=100, random_state=0).fit(pivot_df)"
   ]
  },
  {
   "cell_type": "code",
   "execution_count": 64,
   "id": "altered-engagement",
   "metadata": {},
   "outputs": [],
   "source": [
    "preds = kmeans.predict(pivot_df)"
   ]
  },
  {
   "cell_type": "code",
   "execution_count": 65,
   "id": "english-shower",
   "metadata": {},
   "outputs": [],
   "source": [
    "user_pred_dict = defaultdict(int)\n",
    "for user, pred in zip(pivot_df.index, preds):\n",
    "    user_pred_dict[user] = pred"
   ]
  },
  {
   "cell_type": "code",
   "execution_count": 66,
   "id": "seven-happiness",
   "metadata": {},
   "outputs": [],
   "source": [
    "df['class'] = df.reviewerID.apply(lambda x: user_pred_dict[x])"
   ]
  },
  {
   "cell_type": "code",
   "execution_count": 84,
   "id": "republican-remark",
   "metadata": {},
   "outputs": [],
   "source": [
    "pred_dict = dict(df.groupby('class').mean().overall)"
   ]
  },
  {
   "cell_type": "code",
   "execution_count": 85,
   "id": "macro-intensity",
   "metadata": {},
   "outputs": [],
   "source": [
    "df['preds'] = df['class'].apply(lambda x: pred_dict[x])"
   ]
  },
  {
   "cell_type": "code",
   "execution_count": 86,
   "id": "enclosed-opposition",
   "metadata": {},
   "outputs": [],
   "source": [
    "test_values = df[['overall', 'preds']]"
   ]
  },
  {
   "cell_type": "code",
   "execution_count": 87,
   "id": "honey-infection",
   "metadata": {},
   "outputs": [
    {
     "data": {
      "text/html": [
       "<div>\n",
       "<style scoped>\n",
       "    .dataframe tbody tr th:only-of-type {\n",
       "        vertical-align: middle;\n",
       "    }\n",
       "\n",
       "    .dataframe tbody tr th {\n",
       "        vertical-align: top;\n",
       "    }\n",
       "\n",
       "    .dataframe thead th {\n",
       "        text-align: right;\n",
       "    }\n",
       "</style>\n",
       "<table border=\"1\" class=\"dataframe\">\n",
       "  <thead>\n",
       "    <tr style=\"text-align: right;\">\n",
       "      <th></th>\n",
       "      <th>overall</th>\n",
       "      <th>preds</th>\n",
       "    </tr>\n",
       "  </thead>\n",
       "  <tbody>\n",
       "    <tr>\n",
       "      <th>0</th>\n",
       "      <td>4.0</td>\n",
       "      <td>4.104526</td>\n",
       "    </tr>\n",
       "    <tr>\n",
       "      <th>1</th>\n",
       "      <td>5.0</td>\n",
       "      <td>4.253490</td>\n",
       "    </tr>\n",
       "    <tr>\n",
       "      <th>2</th>\n",
       "      <td>4.0</td>\n",
       "      <td>4.253490</td>\n",
       "    </tr>\n",
       "    <tr>\n",
       "      <th>3</th>\n",
       "      <td>3.0</td>\n",
       "      <td>4.168515</td>\n",
       "    </tr>\n",
       "    <tr>\n",
       "      <th>4</th>\n",
       "      <td>4.0</td>\n",
       "      <td>4.253490</td>\n",
       "    </tr>\n",
       "    <tr>\n",
       "      <th>...</th>\n",
       "      <td>...</td>\n",
       "      <td>...</td>\n",
       "    </tr>\n",
       "    <tr>\n",
       "      <th>112905</th>\n",
       "      <td>4.0</td>\n",
       "      <td>4.971429</td>\n",
       "    </tr>\n",
       "    <tr>\n",
       "      <th>112906</th>\n",
       "      <td>4.0</td>\n",
       "      <td>4.962963</td>\n",
       "    </tr>\n",
       "    <tr>\n",
       "      <th>112907</th>\n",
       "      <td>5.0</td>\n",
       "      <td>4.971429</td>\n",
       "    </tr>\n",
       "    <tr>\n",
       "      <th>112908</th>\n",
       "      <td>5.0</td>\n",
       "      <td>4.971429</td>\n",
       "    </tr>\n",
       "    <tr>\n",
       "      <th>112909</th>\n",
       "      <td>1.0</td>\n",
       "      <td>4.971429</td>\n",
       "    </tr>\n",
       "  </tbody>\n",
       "</table>\n",
       "<p>112910 rows × 2 columns</p>\n",
       "</div>"
      ],
      "text/plain": [
       "        overall     preds\n",
       "0           4.0  4.104526\n",
       "1           5.0  4.253490\n",
       "2           4.0  4.253490\n",
       "3           3.0  4.168515\n",
       "4           4.0  4.253490\n",
       "...         ...       ...\n",
       "112905      4.0  4.971429\n",
       "112906      4.0  4.962963\n",
       "112907      5.0  4.971429\n",
       "112908      5.0  4.971429\n",
       "112909      1.0  4.971429\n",
       "\n",
       "[112910 rows x 2 columns]"
      ]
     },
     "execution_count": 87,
     "metadata": {},
     "output_type": "execute_result"
    }
   ],
   "source": [
    "test_values"
   ]
  },
  {
   "cell_type": "code",
   "execution_count": 88,
   "id": "lovely-differential",
   "metadata": {},
   "outputs": [
    {
     "data": {
      "text/plain": [
       "1.0403417066684297"
      ]
     },
     "execution_count": 88,
     "metadata": {},
     "output_type": "execute_result"
    }
   ],
   "source": [
    "rmse = np.sqrt(mean_squared_error(test_values['overall'], test_values['preds']))\n",
    "rmse"
   ]
  },
  {
   "cell_type": "code",
   "execution_count": 89,
   "id": "artistic-viewer",
   "metadata": {},
   "outputs": [],
   "source": [
    "error = abs(df['overall'] - df['preds'])"
   ]
  },
  {
   "cell_type": "code",
   "execution_count": 95,
   "id": "registered-engineer",
   "metadata": {},
   "outputs": [
    {
     "data": {
      "image/png": "[encoded data removed]",
      "text/plain": [
       "<Figure size 842.4x595.44 with 1 Axes>"
      ]
     },
     "metadata": {},
     "output_type": "display_data"
    }
   ],
   "source": [
    "figure = sns.distplot(error, kde=True)\n",
    "plt.axvline(np.median(error),color='r', linestyle='--')\n",
    "plt.title('Distribution of Error: KMeans', fontsize=18)\n",
    "sns.set(rc={'figure.figsize':(11.7,8.27)})\n",
    "plt.xlabel('Error', fontsize=16)\n",
    "plt.ylabel('Count', fontsize=16)\n",
    "# plt.savefig(r\"../images/kmeans_error\");"
   ]
  },
  {
   "cell_type": "code",
   "execution_count": null,
   "id": "optimum-finder",
   "metadata": {},
   "outputs": [],
   "source": [
    "alg = AgglomerativeClustering(n_clusters=50)\n",
    "preds = alg.fit_predict(pivot_df)"
   ]
  },
  {
   "cell_type": "code",
   "execution_count": null,
   "id": "rental-richards",
   "metadata": {},
   "outputs": [],
   "source": [
    "user_pred_dict = defaultdict(int)\n",
    "for user, pred in zip(pivot_df.index, preds):\n",
    "    user_pred_dict[user] = pred"
   ]
  },
  {
   "cell_type": "code",
   "execution_count": null,
   "id": "increasing-slave",
   "metadata": {},
   "outputs": [],
   "source": [
    "df['class'] = df.reviewerID.apply(lambda x: user_pred_dict[x])"
   ]
  },
  {
   "cell_type": "code",
   "execution_count": null,
   "id": "careful-manchester",
   "metadata": {},
   "outputs": [],
   "source": [
    "pred_dict = dict(df.groupby('class').mean().overall)"
   ]
  },
  {
   "cell_type": "code",
   "execution_count": null,
   "id": "conscious-light",
   "metadata": {},
   "outputs": [],
   "source": [
    "df['preds'] = df['class'].apply(lambda x: pred_dict[x])"
   ]
  },
  {
   "cell_type": "code",
   "execution_count": null,
   "id": "weighted-shore",
   "metadata": {},
   "outputs": [],
   "source": [
    "test_values = df[['overall', 'preds']]"
   ]
  },
  {
   "cell_type": "code",
   "execution_count": null,
   "id": "dramatic-complex",
   "metadata": {},
   "outputs": [],
   "source": [
    "test_values"
   ]
  },
  {
   "cell_type": "code",
   "execution_count": null,
   "id": "miniature-mouth",
   "metadata": {},
   "outputs": [],
   "source": [
    "rmse = np.sqrt(mean_squared_error(test_values['overall'], test_values['preds']))\n",
    "rmse"
   ]
  },
  {
   "cell_type": "code",
   "execution_count": null,
   "id": "nutritional-quebec",
   "metadata": {},
   "outputs": [],
   "source": [
    "error = abs(df['overall'] - df['preds'])\n",
    "\n",
    "figure = sns.distplot(error, kde=True)\n",
    "plt.axvline(np.median(error),color='r', linestyle='--')\n",
    "plt.title('Distribution of Error: KMeans', fontsize=18)\n",
    "sns.set(rc={'figure.figsize':(11.7,8.27)})\n",
    "plt.xlabel('Error', fontsize=16)\n",
    "plt.ylabel('Count', fontsize=16)\n",
    "# plt.savefig(r\"../images/kmeans_error\");"
   ]
  },
  {
   "cell_type": "code",
   "execution_count": null,
   "id": "desperate-discrimination",
   "metadata": {},
   "outputs": [],
   "source": []
  }
 ],
 "metadata": {
  "kernelspec": {
   "display_name": "Python 3",
   "language": "python",
   "name": "python3"
  },
  "language_info": {
   "codemirror_mode": {
    "name": "ipython",
    "version": 3
   },
   "file_extension": ".py",
   "mimetype": "text/x-python",
   "name": "python",
   "nbconvert_exporter": "python",
   "pygments_lexer": "ipython3",
   "version": "3.8.5"
  }
 },
 "nbformat": 4,
 "nbformat_minor": 5
}
