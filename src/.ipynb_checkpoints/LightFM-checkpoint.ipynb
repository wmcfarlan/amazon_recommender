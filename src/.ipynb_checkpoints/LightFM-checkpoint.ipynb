{
 "cells": [
  {
   "cell_type": "code",
   "execution_count": 1,
   "id": "vocational-snowboard",
   "metadata": {},
   "outputs": [
    {
     "name": "stderr",
     "output_type": "stream",
     "text": [
      "C:\\Users\\walke\\anaconda3\\lib\\site-packages\\lightfm\\_lightfm_fast.py:9: UserWarning: LightFM was compiled without OpenMP support. Only a single thread will be used.\n",
      "  warnings.warn(\n"
     ]
    },
    {
     "data": {
      "text/html": [
       "        <script type=\"text/javascript\">\n",
       "        window.PlotlyConfig = {MathJaxConfig: 'local'};\n",
       "        if (window.MathJax) {MathJax.Hub.Config({SVG: {font: \"STIX-Web\"}});}\n",
       "        if (typeof require !== 'undefined') {\n",
       "        require.undef(\"plotly\");\n",
       "        requirejs.config({\n",
       "            paths: {\n",
       "                'plotly': ['https://cdn.plot.ly/plotly-latest.min']\n",
       "            }\n",
       "        });\n",
       "        require(['plotly'], function(Plotly) {\n",
       "            window._Plotly = Plotly;\n",
       "        });\n",
       "        }\n",
       "        </script>\n",
       "        "
      ]
     },
     "metadata": {},
     "output_type": "display_data"
    }
   ],
   "source": [
    "import pandas as pd\n",
    "import numpy as np\n",
    "import itertools\n",
    "\n",
    "# display options\n",
    "pd.set_option('display.max_rows', 500)\n",
    "pd.set_option('display.max_columns', 500)\n",
    "pd.set_option('display.width', 1000)\n",
    "\n",
    "# visualization libraries\n",
    "import matplotlib.pyplot as plt\n",
    "import seaborn as sns\n",
    "import plotly.express as px\n",
    "import plotly.graph_objects as go\n",
    "\n",
    "# custom helper functions\n",
    "%load_ext autoreload\n",
    "%autoreload 2\n",
    "from helper.general_helper import *\n",
    "\n",
    "# lightfm\n",
    "from lightfm.data import Dataset\n",
    "from lightfm import LightFM\n",
    "from lightfm.cross_validation import random_train_test_split\n",
    "from lightfm.evaluation import auc_score\n",
    "\n",
    "\n",
    "# view plotly in jupyter \n",
    "from plotly.offline import download_plotlyjs, init_notebook_mode, plot, iplot\n",
    "init_notebook_mode(connected=True)\n",
    "\n",
    "# ignore warnings\n",
    "import warnings\n",
    "warnings.filterwarnings(\"ignore\")"
   ]
  },
  {
   "cell_type": "code",
   "execution_count": 2,
   "id": "breeding-pillow",
   "metadata": {},
   "outputs": [],
   "source": [
    "df = pd.read_csv('../../merged_df.csv')"
   ]
  },
  {
   "cell_type": "code",
   "execution_count": 3,
   "id": "welsh-integral",
   "metadata": {},
   "outputs": [
    {
     "data": {
      "text/html": [
       "<div>\n",
       "<style scoped>\n",
       "    .dataframe tbody tr th:only-of-type {\n",
       "        vertical-align: middle;\n",
       "    }\n",
       "\n",
       "    .dataframe tbody tr th {\n",
       "        vertical-align: top;\n",
       "    }\n",
       "\n",
       "    .dataframe thead th {\n",
       "        text-align: right;\n",
       "    }\n",
       "</style>\n",
       "<table border=\"1\" class=\"dataframe\">\n",
       "  <thead>\n",
       "    <tr style=\"text-align: right;\">\n",
       "      <th></th>\n",
       "      <th>reviewerID</th>\n",
       "      <th>asin</th>\n",
       "      <th>reviewerName</th>\n",
       "      <th>helpful</th>\n",
       "      <th>reviewText</th>\n",
       "      <th>overall</th>\n",
       "      <th>summary</th>\n",
       "      <th>unixReviewTime</th>\n",
       "      <th>reviewTime</th>\n",
       "      <th>related</th>\n",
       "      <th>categories</th>\n",
       "      <th>price</th>\n",
       "      <th>prod_review_counts</th>\n",
       "      <th>free</th>\n",
       "      <th>percent_helpful</th>\n",
       "    </tr>\n",
       "  </thead>\n",
       "  <tbody>\n",
       "    <tr>\n",
       "      <th>0</th>\n",
       "      <td>A1N4O8VOJZTDVB</td>\n",
       "      <td>B004A9SDD8</td>\n",
       "      <td>Annette Yancey</td>\n",
       "      <td>[1, 1]</td>\n",
       "      <td>Loves the song, so he really couldn't wait to ...</td>\n",
       "      <td>3.0</td>\n",
       "      <td>Really cute</td>\n",
       "      <td>1383350400</td>\n",
       "      <td>2013-11-02</td>\n",
       "      <td>{'also_bought': ['B006M3K874', 'B00F85SMOI', '...</td>\n",
       "      <td>Kids</td>\n",
       "      <td>0.0</td>\n",
       "      <td>medium</td>\n",
       "      <td>1</td>\n",
       "      <td>1.00</td>\n",
       "    </tr>\n",
       "    <tr>\n",
       "      <th>1</th>\n",
       "      <td>A2HQWU6HUKIEC7</td>\n",
       "      <td>B004A9SDD8</td>\n",
       "      <td>Audiobook lover \"Kathy\"</td>\n",
       "      <td>[0, 0]</td>\n",
       "      <td>Oh, how my little grandson loves this app. He'...</td>\n",
       "      <td>5.0</td>\n",
       "      <td>2-year-old loves it</td>\n",
       "      <td>1323043200</td>\n",
       "      <td>2011-12-05</td>\n",
       "      <td>{'also_bought': ['B006M3K874', 'B00F85SMOI', '...</td>\n",
       "      <td>Kids</td>\n",
       "      <td>0.0</td>\n",
       "      <td>medium</td>\n",
       "      <td>1</td>\n",
       "      <td>0.00</td>\n",
       "    </tr>\n",
       "    <tr>\n",
       "      <th>2</th>\n",
       "      <td>A1SXASF6GYG96I</td>\n",
       "      <td>B004A9SDD8</td>\n",
       "      <td>Barbara Gibbs</td>\n",
       "      <td>[0, 0]</td>\n",
       "      <td>I found this at a perfect time since my daught...</td>\n",
       "      <td>5.0</td>\n",
       "      <td>Fun game</td>\n",
       "      <td>1337558400</td>\n",
       "      <td>2012-05-21</td>\n",
       "      <td>{'also_bought': ['B006M3K874', 'B00F85SMOI', '...</td>\n",
       "      <td>Kids</td>\n",
       "      <td>0.0</td>\n",
       "      <td>medium</td>\n",
       "      <td>1</td>\n",
       "      <td>0.00</td>\n",
       "    </tr>\n",
       "    <tr>\n",
       "      <th>3</th>\n",
       "      <td>A2B54P9ZDYH167</td>\n",
       "      <td>B004A9SDD8</td>\n",
       "      <td>Brooke Greenstreet \"Babylove\"</td>\n",
       "      <td>[3, 4]</td>\n",
       "      <td>My 1 year old goes back to this game over and ...</td>\n",
       "      <td>5.0</td>\n",
       "      <td>We love our Monkeys!</td>\n",
       "      <td>1354752000</td>\n",
       "      <td>2012-12-06</td>\n",
       "      <td>{'also_bought': ['B006M3K874', 'B00F85SMOI', '...</td>\n",
       "      <td>Kids</td>\n",
       "      <td>0.0</td>\n",
       "      <td>medium</td>\n",
       "      <td>1</td>\n",
       "      <td>0.75</td>\n",
       "    </tr>\n",
       "    <tr>\n",
       "      <th>4</th>\n",
       "      <td>AFOFZDTX5UC6D</td>\n",
       "      <td>B004A9SDD8</td>\n",
       "      <td>C. Galindo</td>\n",
       "      <td>[1, 1]</td>\n",
       "      <td>There are three different versions of the song...</td>\n",
       "      <td>5.0</td>\n",
       "      <td>This is my granddaughters favorite app on my K...</td>\n",
       "      <td>1391212800</td>\n",
       "      <td>2014-02-01</td>\n",
       "      <td>{'also_bought': ['B006M3K874', 'B00F85SMOI', '...</td>\n",
       "      <td>Kids</td>\n",
       "      <td>0.0</td>\n",
       "      <td>medium</td>\n",
       "      <td>1</td>\n",
       "      <td>1.00</td>\n",
       "    </tr>\n",
       "  </tbody>\n",
       "</table>\n",
       "</div>"
      ],
      "text/plain": [
       "       reviewerID        asin                   reviewerName helpful                                         reviewText  overall                                            summary  unixReviewTime  reviewTime                                            related categories  price prod_review_counts  free  percent_helpful\n",
       "0  A1N4O8VOJZTDVB  B004A9SDD8                 Annette Yancey  [1, 1]  Loves the song, so he really couldn't wait to ...      3.0                                        Really cute      1383350400  2013-11-02  {'also_bought': ['B006M3K874', 'B00F85SMOI', '...       Kids    0.0             medium     1             1.00\n",
       "1  A2HQWU6HUKIEC7  B004A9SDD8        Audiobook lover \"Kathy\"  [0, 0]  Oh, how my little grandson loves this app. He'...      5.0                                2-year-old loves it      1323043200  2011-12-05  {'also_bought': ['B006M3K874', 'B00F85SMOI', '...       Kids    0.0             medium     1             0.00\n",
       "2  A1SXASF6GYG96I  B004A9SDD8                  Barbara Gibbs  [0, 0]  I found this at a perfect time since my daught...      5.0                                           Fun game      1337558400  2012-05-21  {'also_bought': ['B006M3K874', 'B00F85SMOI', '...       Kids    0.0             medium     1             0.00\n",
       "3  A2B54P9ZDYH167  B004A9SDD8  Brooke Greenstreet \"Babylove\"  [3, 4]  My 1 year old goes back to this game over and ...      5.0                               We love our Monkeys!      1354752000  2012-12-06  {'also_bought': ['B006M3K874', 'B00F85SMOI', '...       Kids    0.0             medium     1             0.75\n",
       "4   AFOFZDTX5UC6D  B004A9SDD8                     C. Galindo  [1, 1]  There are three different versions of the song...      5.0  This is my granddaughters favorite app on my K...      1391212800  2014-02-01  {'also_bought': ['B006M3K874', 'B00F85SMOI', '...       Kids    0.0             medium     1             1.00"
      ]
     },
     "execution_count": 3,
     "metadata": {},
     "output_type": "execute_result"
    }
   ],
   "source": [
    "df.head()"
   ]
  },
  {
   "cell_type": "markdown",
   "id": "electronic-origin",
   "metadata": {},
   "source": [
    "##### Create Usier/Item/Review dataset plus item dataset"
   ]
  },
  {
   "cell_type": "code",
   "execution_count": 4,
   "id": "radio-township",
   "metadata": {},
   "outputs": [],
   "source": [
    "df_uir = df[['reviewerID', 'asin', 'overall']]"
   ]
  },
  {
   "cell_type": "code",
   "execution_count": 5,
   "id": "assigned-kidney",
   "metadata": {},
   "outputs": [
    {
     "data": {
      "text/html": [
       "<div>\n",
       "<style scoped>\n",
       "    .dataframe tbody tr th:only-of-type {\n",
       "        vertical-align: middle;\n",
       "    }\n",
       "\n",
       "    .dataframe tbody tr th {\n",
       "        vertical-align: top;\n",
       "    }\n",
       "\n",
       "    .dataframe thead th {\n",
       "        text-align: right;\n",
       "    }\n",
       "</style>\n",
       "<table border=\"1\" class=\"dataframe\">\n",
       "  <thead>\n",
       "    <tr style=\"text-align: right;\">\n",
       "      <th></th>\n",
       "      <th>reviewerID</th>\n",
       "      <th>asin</th>\n",
       "      <th>overall</th>\n",
       "    </tr>\n",
       "  </thead>\n",
       "  <tbody>\n",
       "    <tr>\n",
       "      <th>0</th>\n",
       "      <td>A1N4O8VOJZTDVB</td>\n",
       "      <td>B004A9SDD8</td>\n",
       "      <td>3.0</td>\n",
       "    </tr>\n",
       "    <tr>\n",
       "      <th>1</th>\n",
       "      <td>A2HQWU6HUKIEC7</td>\n",
       "      <td>B004A9SDD8</td>\n",
       "      <td>5.0</td>\n",
       "    </tr>\n",
       "    <tr>\n",
       "      <th>2</th>\n",
       "      <td>A1SXASF6GYG96I</td>\n",
       "      <td>B004A9SDD8</td>\n",
       "      <td>5.0</td>\n",
       "    </tr>\n",
       "    <tr>\n",
       "      <th>3</th>\n",
       "      <td>A2B54P9ZDYH167</td>\n",
       "      <td>B004A9SDD8</td>\n",
       "      <td>5.0</td>\n",
       "    </tr>\n",
       "    <tr>\n",
       "      <th>4</th>\n",
       "      <td>AFOFZDTX5UC6D</td>\n",
       "      <td>B004A9SDD8</td>\n",
       "      <td>5.0</td>\n",
       "    </tr>\n",
       "  </tbody>\n",
       "</table>\n",
       "</div>"
      ],
      "text/plain": [
       "       reviewerID        asin  overall\n",
       "0  A1N4O8VOJZTDVB  B004A9SDD8      3.0\n",
       "1  A2HQWU6HUKIEC7  B004A9SDD8      5.0\n",
       "2  A1SXASF6GYG96I  B004A9SDD8      5.0\n",
       "3  A2B54P9ZDYH167  B004A9SDD8      5.0\n",
       "4   AFOFZDTX5UC6D  B004A9SDD8      5.0"
      ]
     },
     "execution_count": 5,
     "metadata": {},
     "output_type": "execute_result"
    }
   ],
   "source": [
    "df_uir.head()"
   ]
  },
  {
   "cell_type": "code",
   "execution_count": 6,
   "id": "nearby-appliance",
   "metadata": {},
   "outputs": [],
   "source": [
    "df_if =  df[['asin', 'free', 'prod_review_counts', 'categories']]"
   ]
  },
  {
   "cell_type": "code",
   "execution_count": 7,
   "id": "understanding-carter",
   "metadata": {},
   "outputs": [
    {
     "data": {
      "text/html": [
       "<div>\n",
       "<style scoped>\n",
       "    .dataframe tbody tr th:only-of-type {\n",
       "        vertical-align: middle;\n",
       "    }\n",
       "\n",
       "    .dataframe tbody tr th {\n",
       "        vertical-align: top;\n",
       "    }\n",
       "\n",
       "    .dataframe thead th {\n",
       "        text-align: right;\n",
       "    }\n",
       "</style>\n",
       "<table border=\"1\" class=\"dataframe\">\n",
       "  <thead>\n",
       "    <tr style=\"text-align: right;\">\n",
       "      <th></th>\n",
       "      <th>asin</th>\n",
       "      <th>free</th>\n",
       "      <th>prod_review_counts</th>\n",
       "      <th>categories</th>\n",
       "    </tr>\n",
       "  </thead>\n",
       "  <tbody>\n",
       "    <tr>\n",
       "      <th>0</th>\n",
       "      <td>B004A9SDD8</td>\n",
       "      <td>1</td>\n",
       "      <td>medium</td>\n",
       "      <td>Kids</td>\n",
       "    </tr>\n",
       "    <tr>\n",
       "      <th>1</th>\n",
       "      <td>B004A9SDD8</td>\n",
       "      <td>1</td>\n",
       "      <td>medium</td>\n",
       "      <td>Kids</td>\n",
       "    </tr>\n",
       "    <tr>\n",
       "      <th>2</th>\n",
       "      <td>B004A9SDD8</td>\n",
       "      <td>1</td>\n",
       "      <td>medium</td>\n",
       "      <td>Kids</td>\n",
       "    </tr>\n",
       "    <tr>\n",
       "      <th>3</th>\n",
       "      <td>B004A9SDD8</td>\n",
       "      <td>1</td>\n",
       "      <td>medium</td>\n",
       "      <td>Kids</td>\n",
       "    </tr>\n",
       "    <tr>\n",
       "      <th>4</th>\n",
       "      <td>B004A9SDD8</td>\n",
       "      <td>1</td>\n",
       "      <td>medium</td>\n",
       "      <td>Kids</td>\n",
       "    </tr>\n",
       "  </tbody>\n",
       "</table>\n",
       "</div>"
      ],
      "text/plain": [
       "         asin  free prod_review_counts categories\n",
       "0  B004A9SDD8     1             medium       Kids\n",
       "1  B004A9SDD8     1             medium       Kids\n",
       "2  B004A9SDD8     1             medium       Kids\n",
       "3  B004A9SDD8     1             medium       Kids\n",
       "4  B004A9SDD8     1             medium       Kids"
      ]
     },
     "execution_count": 7,
     "metadata": {},
     "output_type": "execute_result"
    }
   ],
   "source": [
    "df_if.head()"
   ]
  },
  {
   "cell_type": "markdown",
   "id": "earlier-exception",
   "metadata": {},
   "source": [
    "##### generating feature to unique values lists"
   ]
  },
  {
   "cell_type": "code",
   "execution_count": 8,
   "id": "entire-florence",
   "metadata": {},
   "outputs": [],
   "source": [
    "feature_list = []\n",
    "\n",
    "# format should be 'feature:value'\n",
    "\n",
    "# selecting unique values\n",
    "price_lst = [f\"free:{val}\" for val in df_if.free.unique()]\n",
    "sales_lst = [f\"prod_review_counts:{cat}\" for cat in df_if.prod_review_counts.unique()]\n",
    "cat_lst = [f\"categories:{cat}\" for cat in df_if.categories.unique()]\n",
    "\n",
    "# appending list\n",
    "for price in price_lst:\n",
    "    feature_list.append(price)\n",
    "for sales in sales_lst:\n",
    "    feature_list.append(sales)\n",
    "for cat in cat_lst:\n",
    "    feature_list.append(cat)"
   ]
  },
  {
   "cell_type": "markdown",
   "id": "refined-efficiency",
   "metadata": {},
   "source": [
    "##### setting LightFM dataset correctly"
   ]
  },
  {
   "cell_type": "code",
   "execution_count": 9,
   "id": "crazy-convergence",
   "metadata": {},
   "outputs": [],
   "source": [
    "dataset = Dataset()\n",
    "dataset.fit(df['reviewerID'].unique(),\n",
    "             df['asin'].unique(),\n",
    "             item_features = feature_list)"
   ]
  },
  {
   "cell_type": "code",
   "execution_count": 10,
   "id": "eligible-transsexual",
   "metadata": {},
   "outputs": [],
   "source": [
    "(interactions, weights) = dataset.build_interactions([(x[0], x[1], x[2]) for x in df_uir.values])"
   ]
  },
  {
   "cell_type": "markdown",
   "id": "secondary-requirement",
   "metadata": {},
   "source": [
    "##### building interactions"
   ]
  },
  {
   "cell_type": "code",
   "execution_count": 11,
   "id": "divided-argentina",
   "metadata": {},
   "outputs": [
    {
     "name": "stdout",
     "output_type": "stream",
     "text": [
      "Final output: [['free:1', 'prod_review_counts:medium', 'categories:Kids'], ['free:1', 'prod_review_counts:medium', 'categories:Kids'], ['free:1', 'prod_review_counts:medium', 'categories:Kids'], ['free:1', 'prod_review_counts:medium', 'categories:Kids'], ['free:1', 'prod_review_counts:medium', 'categories:Kids'], ['free:1', 'prod_review_counts:medium', 'categories:Kids'], ['free:1', 'prod_review_counts:medium', 'categories:Kids'], ['free:1', 'prod_review_counts:medium', 'categories:Kids'], ['free:1', 'prod_review_counts:medium', 'categories:Kids'], ['free:1', 'prod_review_counts:medium', 'categories:Kids']]\n"
     ]
    }
   ],
   "source": [
    "# map each item category and values to app\n",
    "ad_subset = df_if[['free','prod_review_counts', 'categories']] \n",
    "ad_list = [list(x) for x in ad_subset.values]\n",
    "\n",
    "feature_list = []\n",
    "for item in ad_list:\n",
    "    feature_list.append(feature_colon_value(item))\n",
    "print(f'Final output: {feature_list[:10]}')"
   ]
  },
  {
   "cell_type": "code",
   "execution_count": 12,
   "id": "spanish-survey",
   "metadata": {},
   "outputs": [],
   "source": [
    "# combining app with each distinct feature subset\n",
    "item_tuple = list(zip(df_if.asin, feature_list))\n",
    "item_features = dataset.build_item_features(item_tuple, normalize= False)"
   ]
  },
  {
   "cell_type": "markdown",
   "id": "rubber-viewer",
   "metadata": {},
   "source": [
    "##### model validation with hyperparameter tuning"
   ]
  },
  {
   "cell_type": "code",
   "execution_count": 13,
   "id": "graduate-amplifier",
   "metadata": {},
   "outputs": [],
   "source": [
    "train, test = random_train_test_split(interactions)"
   ]
  },
  {
   "cell_type": "code",
   "execution_count": 14,
   "id": "front-beatles",
   "metadata": {},
   "outputs": [],
   "source": [
    "def sample_hyperparameters():\n",
    "    \"\"\"\n",
    "    Yield possible hyperparameter choices.\n",
    "    \"\"\"\n",
    "\n",
    "    while True:\n",
    "        yield {\n",
    "            \"no_components\": np.random.randint(16, 100),\n",
    "            \"learning_schedule\": np.random.choice([\"adagrad\", \"adadelta\"]),\n",
    "            \"loss\": np.random.choice([\"bpr\", \"warp\", \"warp-kos\"]),\n",
    "            \"learning_rate\": np.random.exponential(0.05),\n",
    "            \"item_alpha\": np.random.exponential(1e-8),\n",
    "            \"max_sampled\": np.random.randint(5, 15),\n",
    "            \"num_epochs\": np.random.randint(5, 100),\n",
    "        }\n",
    "        \n",
    "def random_search(train, test, num_samples=10):\n",
    "    \"\"\"\n",
    "    Sample random hyperparameters, fit a LightFM model, and evaluate it\n",
    "    on the test set.\n",
    "\n",
    "    Parameters\n",
    "    ----------\n",
    "\n",
    "    train: np.float32 coo_matrix of shape [n_users, n_items]\n",
    "        Training data.\n",
    "    test: np.float32 coo_matrix of shape [n_users, n_items]\n",
    "        Test data.\n",
    "    num_samples: int, optional\n",
    "        Number of hyperparameter choices to evaluate.\n",
    "\n",
    "\n",
    "    Returns\n",
    "    -------\n",
    "\n",
    "    generator of (auc_score, hyperparameter dict, fitted model)\n",
    "\n",
    "    \"\"\"\n",
    "\n",
    "    for hyperparams in itertools.islice(sample_hyperparameters(), num_samples):\n",
    "        num_epochs = hyperparams.pop(\"num_epochs\")\n",
    "\n",
    "        model = LightFM(**hyperparams)\n",
    "        model.fit(train, epochs=num_epochs, item_features= item_features)\n",
    "\n",
    "        score = auc_score(model,\n",
    "                      test, train_interactions=train,\n",
    "                      item_features=item_features\n",
    "                     ).mean()\n",
    "\n",
    "        hyperparams[\"num_epochs\"] = num_epochs\n",
    "\n",
    "        yield (score, hyperparams, model)"
   ]
  },
  {
   "cell_type": "code",
   "execution_count": 15,
   "id": "engaging-browser",
   "metadata": {},
   "outputs": [
    {
     "ename": "KeyboardInterrupt",
     "evalue": "",
     "output_type": "error",
     "traceback": [
      "\u001b[1;31m---------------------------------------------------------------------------\u001b[0m",
      "\u001b[1;31mKeyboardInterrupt\u001b[0m                         Traceback (most recent call last)",
      "\u001b[1;32m<ipython-input-15-72767d0cdba8>\u001b[0m in \u001b[0;36m<module>\u001b[1;34m\u001b[0m\n\u001b[1;32m----> 1\u001b[1;33m \u001b[1;33m(\u001b[0m\u001b[0mscore\u001b[0m\u001b[1;33m,\u001b[0m \u001b[0mhyperparams\u001b[0m\u001b[1;33m,\u001b[0m \u001b[0mmodel\u001b[0m\u001b[1;33m)\u001b[0m \u001b[1;33m=\u001b[0m \u001b[0mmax\u001b[0m\u001b[1;33m(\u001b[0m\u001b[0mrandom_search\u001b[0m\u001b[1;33m(\u001b[0m\u001b[0mtrain\u001b[0m\u001b[1;33m,\u001b[0m \u001b[0mtest\u001b[0m\u001b[1;33m)\u001b[0m\u001b[1;33m,\u001b[0m \u001b[0mkey\u001b[0m\u001b[1;33m=\u001b[0m\u001b[1;32mlambda\u001b[0m \u001b[0mx\u001b[0m\u001b[1;33m:\u001b[0m \u001b[0mx\u001b[0m\u001b[1;33m[\u001b[0m\u001b[1;36m0\u001b[0m\u001b[1;33m]\u001b[0m\u001b[1;33m)\u001b[0m\u001b[1;33m\u001b[0m\u001b[1;33m\u001b[0m\u001b[0m\n\u001b[0m",
      "\u001b[1;32m<ipython-input-14-1007b5feae5b>\u001b[0m in \u001b[0;36mrandom_search\u001b[1;34m(train, test, num_samples)\u001b[0m\n\u001b[0;32m     42\u001b[0m \u001b[1;33m\u001b[0m\u001b[0m\n\u001b[0;32m     43\u001b[0m         \u001b[0mmodel\u001b[0m \u001b[1;33m=\u001b[0m \u001b[0mLightFM\u001b[0m\u001b[1;33m(\u001b[0m\u001b[1;33m**\u001b[0m\u001b[0mhyperparams\u001b[0m\u001b[1;33m)\u001b[0m\u001b[1;33m\u001b[0m\u001b[1;33m\u001b[0m\u001b[0m\n\u001b[1;32m---> 44\u001b[1;33m         \u001b[0mmodel\u001b[0m\u001b[1;33m.\u001b[0m\u001b[0mfit\u001b[0m\u001b[1;33m(\u001b[0m\u001b[0mtrain\u001b[0m\u001b[1;33m,\u001b[0m \u001b[0mepochs\u001b[0m\u001b[1;33m=\u001b[0m\u001b[0mnum_epochs\u001b[0m\u001b[1;33m,\u001b[0m \u001b[0mitem_features\u001b[0m\u001b[1;33m=\u001b[0m \u001b[0mitem_features\u001b[0m\u001b[1;33m)\u001b[0m\u001b[1;33m\u001b[0m\u001b[1;33m\u001b[0m\u001b[0m\n\u001b[0m\u001b[0;32m     45\u001b[0m \u001b[1;33m\u001b[0m\u001b[0m\n\u001b[0;32m     46\u001b[0m         score = auc_score(model,\n",
      "\u001b[1;32m~\\anaconda3\\lib\\site-packages\\lightfm\\lightfm.py\u001b[0m in \u001b[0;36mfit\u001b[1;34m(self, interactions, user_features, item_features, sample_weight, epochs, num_threads, verbose)\u001b[0m\n\u001b[0;32m    531\u001b[0m         \u001b[0mself\u001b[0m\u001b[1;33m.\u001b[0m\u001b[0m_reset_state\u001b[0m\u001b[1;33m(\u001b[0m\u001b[1;33m)\u001b[0m\u001b[1;33m\u001b[0m\u001b[1;33m\u001b[0m\u001b[0m\n\u001b[0;32m    532\u001b[0m \u001b[1;33m\u001b[0m\u001b[0m\n\u001b[1;32m--> 533\u001b[1;33m         return self.fit_partial(\n\u001b[0m\u001b[0;32m    534\u001b[0m             \u001b[0minteractions\u001b[0m\u001b[1;33m,\u001b[0m\u001b[1;33m\u001b[0m\u001b[1;33m\u001b[0m\u001b[0m\n\u001b[0;32m    535\u001b[0m             \u001b[0muser_features\u001b[0m\u001b[1;33m=\u001b[0m\u001b[0muser_features\u001b[0m\u001b[1;33m,\u001b[0m\u001b[1;33m\u001b[0m\u001b[1;33m\u001b[0m\u001b[0m\n",
      "\u001b[1;32m~\\anaconda3\\lib\\site-packages\\lightfm\\lightfm.py\u001b[0m in \u001b[0;36mfit_partial\u001b[1;34m(self, interactions, user_features, item_features, sample_weight, epochs, num_threads, verbose)\u001b[0m\n\u001b[0;32m    636\u001b[0m \u001b[1;33m\u001b[0m\u001b[0m\n\u001b[0;32m    637\u001b[0m         \u001b[1;32mfor\u001b[0m \u001b[0m_\u001b[0m \u001b[1;32min\u001b[0m \u001b[0mself\u001b[0m\u001b[1;33m.\u001b[0m\u001b[0m_progress\u001b[0m\u001b[1;33m(\u001b[0m\u001b[0mepochs\u001b[0m\u001b[1;33m,\u001b[0m \u001b[0mverbose\u001b[0m\u001b[1;33m=\u001b[0m\u001b[0mverbose\u001b[0m\u001b[1;33m)\u001b[0m\u001b[1;33m:\u001b[0m\u001b[1;33m\u001b[0m\u001b[1;33m\u001b[0m\u001b[0m\n\u001b[1;32m--> 638\u001b[1;33m             self._run_epoch(\n\u001b[0m\u001b[0;32m    639\u001b[0m                 \u001b[0mitem_features\u001b[0m\u001b[1;33m,\u001b[0m\u001b[1;33m\u001b[0m\u001b[1;33m\u001b[0m\u001b[0m\n\u001b[0;32m    640\u001b[0m                 \u001b[0muser_features\u001b[0m\u001b[1;33m,\u001b[0m\u001b[1;33m\u001b[0m\u001b[1;33m\u001b[0m\u001b[0m\n",
      "\u001b[1;32m~\\anaconda3\\lib\\site-packages\\lightfm\\lightfm.py\u001b[0m in \u001b[0;36m_run_epoch\u001b[1;34m(self, item_features, user_features, interactions, sample_weight, num_threads, loss)\u001b[0m\n\u001b[0;32m    694\u001b[0m             )\n\u001b[0;32m    695\u001b[0m         \u001b[1;32melif\u001b[0m \u001b[0mloss\u001b[0m \u001b[1;33m==\u001b[0m \u001b[1;34m\"bpr\"\u001b[0m\u001b[1;33m:\u001b[0m\u001b[1;33m\u001b[0m\u001b[1;33m\u001b[0m\u001b[0m\n\u001b[1;32m--> 696\u001b[1;33m             fit_bpr(\n\u001b[0m\u001b[0;32m    697\u001b[0m                 \u001b[0mCSRMatrix\u001b[0m\u001b[1;33m(\u001b[0m\u001b[0mitem_features\u001b[0m\u001b[1;33m)\u001b[0m\u001b[1;33m,\u001b[0m\u001b[1;33m\u001b[0m\u001b[1;33m\u001b[0m\u001b[0m\n\u001b[0;32m    698\u001b[0m                 \u001b[0mCSRMatrix\u001b[0m\u001b[1;33m(\u001b[0m\u001b[0muser_features\u001b[0m\u001b[1;33m)\u001b[0m\u001b[1;33m,\u001b[0m\u001b[1;33m\u001b[0m\u001b[1;33m\u001b[0m\u001b[0m\n",
      "\u001b[1;31mKeyboardInterrupt\u001b[0m: "
     ]
    }
   ],
   "source": [
    "(score, hyperparams, model) = max(random_search(train, test), key=lambda x: x[0])"
   ]
  },
  {
   "cell_type": "code",
   "execution_count": null,
   "id": "dangerous-review",
   "metadata": {},
   "outputs": [],
   "source": [
    "print(f\"optimized auc: {score}\")\n",
    "print(f\"hyperparameters: {hyperparams})"
   ]
  },
  {
   "cell_type": "markdown",
   "id": "sorted-demographic",
   "metadata": {},
   "source": [
    "##### Known User Prediction"
   ]
  },
  {
   "cell_type": "code",
   "execution_count": null,
   "id": "hollywood-twelve",
   "metadata": {},
   "outputs": [],
   "source": [
    "user_x = user_id_map['u3']\n",
    "n_users, n_items = interactions.shape # no of users * no of items\n",
    "model.predict(user_x, np.arange(n_items)) # means predict for all"
   ]
  },
  {
   "cell_type": "markdown",
   "id": "ambient-strategy",
   "metadata": {},
   "source": [
    "##### Unknown Users"
   ]
  },
  {
   "cell_type": "code",
   "execution_count": null,
   "id": "distinguished-joining",
   "metadata": {},
   "outputs": [],
   "source": [
    "user_feature_list = ['f1:1', 'f2:1', 'f3:0', 'loc:del']\n",
    "\n",
    "from scipy import sparse\n",
    "def format_newuser_input(user_feature_map, user_feature_list):\n",
    "  num_features = len(user_feature_list)\n",
    "  normalised_val = 1.0 \n",
    "  target_indices = []\n",
    "  for feature in user_feature_list:\n",
    "    try:\n",
    "        target_indices.append(user_feature_map[feature])\n",
    "    except KeyError:\n",
    "        print(\"new user feature encountered '{}'\".format(feature))\n",
    "        pass\n",
    "\n",
    "  new_user_features = np.zeros(len(user_feature_map.keys()))\n",
    "  for i in target_indices:\n",
    "    new_user_features[i] = normalised_val\n",
    "  new_user_features = sparse.csr_matrix(new_user_features)\n",
    "  return(new_user_features\n",
    "         \n",
    "\n",
    "new_user_features = format_newuser_input(user_feature_map, user_feature_list)\n",
    "model.predict(0, np.arange(n_items), user_features=new_user_features)"
   ]
  }
 ],
 "metadata": {
  "kernelspec": {
   "display_name": "Python 3",
   "language": "python",
   "name": "python3"
  },
  "language_info": {
   "codemirror_mode": {
    "name": "ipython",
    "version": 3
   },
   "file_extension": ".py",
   "mimetype": "text/x-python",
   "name": "python",
   "nbconvert_exporter": "python",
   "pygments_lexer": "ipython3",
   "version": "3.8.5"
  }
 },
 "nbformat": 4,
 "nbformat_minor": 5
}
