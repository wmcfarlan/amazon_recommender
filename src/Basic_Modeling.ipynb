{
 "cells": [
  {
   "cell_type": "code",
   "execution_count": 1,
   "id": "governmental-drain",
   "metadata": {},
   "outputs": [
    {
     "name": "stderr",
     "output_type": "stream",
     "text": [
      "C:\\Users\\walke\\anaconda3\\lib\\site-packages\\lightfm\\_lightfm_fast.py:9: UserWarning: LightFM was compiled without OpenMP support. Only a single thread will be used.\n",
      "  warnings.warn(\n"
     ]
    },
    {
     "data": {
      "text/html": [
       "        <script type=\"text/javascript\">\n",
       "        window.PlotlyConfig = {MathJaxConfig: 'local'};\n",
       "        if (window.MathJax) {MathJax.Hub.Config({SVG: {font: \"STIX-Web\"}});}\n",
       "        if (typeof require !== 'undefined') {\n",
       "        require.undef(\"plotly\");\n",
       "        requirejs.config({\n",
       "            paths: {\n",
       "                'plotly': ['https://cdn.plot.ly/plotly-latest.min']\n",
       "            }\n",
       "        });\n",
       "        require(['plotly'], function(Plotly) {\n",
       "            window._Plotly = Plotly;\n",
       "        });\n",
       "        }\n",
       "        </script>\n",
       "        "
      ]
     },
     "metadata": {},
     "output_type": "display_data"
    }
   ],
   "source": [
    "# general imports\n",
    "import pandas as pd\n",
    "import numpy as np\n",
    "import itertools\n",
    "from collections import defaultdict\n",
    "import pickle\n",
    "\n",
    "# display options\n",
    "pd.set_option('display.max_rows', 500)\n",
    "pd.set_option('display.max_columns', 500)\n",
    "pd.set_option('display.width', 1000)\n",
    "\n",
    "# visualization libraries\n",
    "import matplotlib.pyplot as plt\n",
    "import seaborn as sns\n",
    "import plotly.express as px\n",
    "import plotly.graph_objects as go\n",
    "\n",
    "# custom helper functions\n",
    "%load_ext autoreload\n",
    "%autoreload 2\n",
    "from helper.general_helper import *\n",
    "from helper.preprocess import *\n",
    "from helper.custom_recommender import *\n",
    "\n",
    "# keras\n",
    "from keras import Input, Model\n",
    "from keras.layers import Embedding, Reshape, Dot\n",
    "\n",
    "\n",
    "# sklearn\n",
    "from sklearn.metrics import mean_squared_error\n",
    "from sklearn.feature_extraction.text import TfidfVectorizer\n",
    "from sklearn.decomposition import NMF\n",
    "from sklearn.model_selection import train_test_split\n",
    "from sklearn.preprocessing import LabelEncoder\n",
    "from sklearn.ensemble import RandomForestRegressor\n",
    "\n",
    "# view plotly in jupyter \n",
    "from plotly.offline import download_plotlyjs, init_notebook_mode, plot, iplot\n",
    "init_notebook_mode(connected=True)\n",
    "\n",
    "# ignore warnings\n",
    "import warnings\n",
    "warnings.filterwarnings(\"ignore\")"
   ]
  },
  {
   "cell_type": "code",
   "execution_count": 2,
   "id": "broke-hacker",
   "metadata": {},
   "outputs": [],
   "source": [
    "df = pd.read_csv('../../merged_df.csv')"
   ]
  },
  {
   "cell_type": "code",
   "execution_count": 3,
   "id": "typical-partner",
   "metadata": {},
   "outputs": [],
   "source": [
    "\n",
    "df = df[df['title'].notna()]\n",
    "\n",
    "customers = df['reviewerID'].value_counts()\n",
    "products = df['asin'].value_counts()\n",
    "\n",
    "# filter by 10 reviews per product per customer, products with 20 or more reviews\n",
    "customers = customers[customers >= 10]\n",
    "products = products[products >= 20]\n",
    "\n",
    "# merge dataframe\n",
    "df = df.merge(pd.DataFrame({'reviewerID': customers.index})).merge(pd.DataFrame({'asin': products.index}))"
   ]
  },
  {
   "cell_type": "code",
   "execution_count": 4,
   "id": "choice-intelligence",
   "metadata": {},
   "outputs": [],
   "source": [
    "# select test size\n",
    "n = 39601\n",
    "\n",
    "# shuffle dataframe\n",
    "df = df.sample(frac=1).reset_index(drop=True)\n",
    "\n",
    "# split into train and test set\n",
    "df_train = df[:-n]\n",
    "df_test = df[-n:]"
   ]
  },
  {
   "cell_type": "markdown",
   "id": "beneficial-leave",
   "metadata": {},
   "source": [
    "#### Predicting rating based on mean category"
   ]
  },
  {
   "cell_type": "code",
   "execution_count": 5,
   "id": "tribal-speech",
   "metadata": {},
   "outputs": [],
   "source": [
    "total_mean = df.overall.mean()"
   ]
  },
  {
   "cell_type": "code",
   "execution_count": 6,
   "id": "stuck-hostel",
   "metadata": {},
   "outputs": [
    {
     "data": {
      "text/plain": [
       "1.014438712052939"
      ]
     },
     "execution_count": 6,
     "metadata": {},
     "output_type": "execute_result"
    }
   ],
   "source": [
    "# fill nan categories\n",
    "df_train[['categories']] = df_train[['categories']].fillna(value='unspecified')\n",
    "\n",
    "# populate dictionary with cataegory and mean product rating\n",
    "cat_rating_dict = dict(df_train.groupby('categories').mean()['overall'])\n",
    "\n",
    "# apply the ratings to categories\n",
    "df_train['cat_rat'] = df_train['categories'].apply(lambda x: cat_rating_dict[x])\n",
    "\n",
    "\n",
    "# fill asin dict with asin and rating\n",
    "asin_rating_dict = dict(df_train.groupby('asin').mean()['cat_rat'])\n",
    "\n",
    "# apply rating per asin\n",
    "df_train['asin_rating'] = df_train['asin'].apply(lambda x: asin_rating_dict[x])\n",
    "\n",
    "\n",
    "# select testing dataframe\n",
    "x = df_train[['reviewerID', 'overall', 'asin_rating']]\n",
    "\n",
    "# calculate loss\n",
    "rmse = np.sqrt(mean_squared_error(x['overall'], x['asin_rating']))\n",
    "rmse"
   ]
  },
  {
   "cell_type": "code",
   "execution_count": 7,
   "id": "christian-opinion",
   "metadata": {},
   "outputs": [
    {
     "data": {
      "text/plain": [
       "1.0242521616956877"
      ]
     },
     "execution_count": 7,
     "metadata": {},
     "output_type": "execute_result"
    }
   ],
   "source": [
    "test = df_test[['reviewerID', 'overall', 'asin']]\n",
    "test['asin_rating'] = test['asin'].apply(lambda x: asin_rating_dict.get(x, total_mean))\n",
    "\n",
    "rmse = np.sqrt(mean_squared_error(test['overall'], test['asin_rating']))\n",
    "rmse"
   ]
  },
  {
   "cell_type": "code",
   "execution_count": 9,
   "id": "instructional-activity",
   "metadata": {},
   "outputs": [
    {
     "data": {
      "text/plain": [
       "Text(0, 0.5, 'Count')"
      ]
     },
     "execution_count": 9,
     "metadata": {},
     "output_type": "execute_result"
    },
    {
     "data": {
      "image/png": "[encoded data removed]",
      "text/plain": [
       "<Figure size 842.4x595.44 with 1 Axes>"
      ]
     },
     "metadata": {},
     "output_type": "display_data"
    }
   ],
   "source": [
    "# lets look at the distribution of error\n",
    "error = abs(test['overall'] - test['asin_rating'])\n",
    "\n",
    "figure = sns.distplot(error, kde=True)\n",
    "plt.axvline(np.median(error),color='r', linestyle='--')\n",
    "plt.title('Distribution of Error: Mean Category', fontsize=18)\n",
    "sns.set(rc={'figure.figsize':(11.7,8.27)})\n",
    "plt.xlabel('Error', fontsize=16)\n",
    "plt.ylabel('Count', fontsize=16)\n",
    "# plt.savefig(r\"../images/mean_categories_error\");"
   ]
  },
  {
   "cell_type": "markdown",
   "id": "local-establishment",
   "metadata": {},
   "source": [
    "#### Rating prediction based on mean product rating\n",
    "* This will be my baseline to beat in modeling"
   ]
  },
  {
   "cell_type": "code",
   "execution_count": 8,
   "id": "raised-precipitation",
   "metadata": {},
   "outputs": [
    {
     "data": {
      "text/plain": [
       "0.9355252663730834"
      ]
     },
     "execution_count": 8,
     "metadata": {},
     "output_type": "execute_result"
    }
   ],
   "source": [
    "# populate dictionary with cataegory and mean product rating\n",
    "asin_rating_dict = dict(df_train.groupby('asin').mean()['overall'])\n",
    "\n",
    "# apply the ratings to categories\n",
    "df_train['asin_rating'] = df_train['asin'].apply(lambda x: asin_rating_dict[x])\n",
    "\n",
    "# select testing dataframe\n",
    "x = df_train[['reviewerID', 'overall', 'asin_rating']]\n",
    "\n",
    "# calculate loss\n",
    "rmse = np.sqrt(mean_squared_error(x['overall'], x['asin_rating']))\n",
    "rmse"
   ]
  },
  {
   "cell_type": "code",
   "execution_count": 9,
   "id": "random-negative",
   "metadata": {},
   "outputs": [
    {
     "data": {
      "text/plain": [
       "1.00421418659535"
      ]
     },
     "execution_count": 9,
     "metadata": {},
     "output_type": "execute_result"
    }
   ],
   "source": [
    "test = df_test[['reviewerID', 'overall', 'asin']]\n",
    "test['asin_rating'] = test['asin'].apply(lambda x: asin_rating_dict.get(x, total_mean))\n",
    "\n",
    "rmse = np.sqrt(mean_squared_error(test['overall'], test['asin_rating']))\n",
    "rmse"
   ]
  },
  {
   "cell_type": "code",
   "execution_count": 19,
   "id": "southeast-alberta",
   "metadata": {},
   "outputs": [
    {
     "data": {
      "text/plain": [
       "Text(0, 0.5, 'Count')"
      ]
     },
     "execution_count": 19,
     "metadata": {},
     "output_type": "execute_result"
    },
    {
     "data": {
      "image/png": "[encoded data removed]",
      "text/plain": [
       "<Figure size 432x288 with 1 Axes>"
      ]
     },
     "metadata": {
      "needs_background": "light"
     },
     "output_type": "display_data"
    }
   ],
   "source": [
    "# lets look at the distribution of error\n",
    "error = abs(test['overall'] - test['asin_rating'])\n",
    "\n",
    "figure = sns.distplot(error, kde=True)\n",
    "plt.axvline(np.median(error),color='r', linestyle='--')\n",
    "plt.title('Distribution of Error: Mean Product', fontsize=18)\n",
    "sns.set(rc={'figure.figsize':(11.7,8.27)})\n",
    "plt.xlabel('Error', fontsize=16)\n",
    "plt.ylabel('Count', fontsize=16)\n",
    "# plt.savefig(r\"../images/mean_product_error\");"
   ]
  },
  {
   "cell_type": "markdown",
   "id": "color-fence",
   "metadata": {},
   "source": [
    "##### train test split and set pivot table "
   ]
  },
  {
   "cell_type": "code",
   "execution_count": 30,
   "id": "smoking-johnson",
   "metadata": {},
   "outputs": [],
   "source": [
    "# create pivot table for correct reviewers and products\n",
    "pivot_df = df.pivot_table(index='reviewerID', columns='asin', values='overall')"
   ]
  },
  {
   "cell_type": "markdown",
   "id": "unnecessary-forth",
   "metadata": {},
   "source": [
    "#### Recomender based on weighted averages\n",
    "* This will be the baseline predictive model"
   ]
  },
  {
   "cell_type": "code",
   "execution_count": 31,
   "id": "activated-range",
   "metadata": {},
   "outputs": [],
   "source": [
    "# https://math.stackexchange.com/questions/169032/understanding-the-imdb-weighted-rating-function-for-usage-on-my-own-website\n",
    "# min number of votes for weight (regularization)\n",
    "min_number_of_votes = 20\n",
    "\n",
    "\n",
    "# mean ratings of all products\n",
    "mean_rating_all_products = pivot_df.stack().mean()\n",
    "\n",
    "\n",
    "# mean rating per product\n",
    "mean_rating_per_product = pivot_df.mean(axis=0).values\n",
    "\n",
    "\n",
    "# rating cout for all products\n",
    "rating_count_for_all_products = pivot_df.count().values\n",
    "\n",
    "\n",
    "\n",
    "weighted_score = (rating_count_for_all_products / (rating_count_for_all_products + min_number_of_votes) * mean_rating_per_product) + \\\n",
    "(min_number_of_votes / (rating_count_for_all_products + min_number_of_votes) * mean_rating_all_products) "
   ]
  },
  {
   "cell_type": "code",
   "execution_count": 32,
   "id": "loose-institute",
   "metadata": {},
   "outputs": [
    {
     "data": {
      "text/plain": [
       "array([3765, 4004, 1472, ..., 3250, 2466,  727], dtype=int64)"
      ]
     },
     "execution_count": 32,
     "metadata": {},
     "output_type": "execute_result"
    }
   ],
   "source": [
    "weighted_rankings = np.argsort(weighted_score)[::-1]\n",
    "weighted_rankings"
   ]
  },
  {
   "cell_type": "code",
   "execution_count": 33,
   "id": "under-rogers",
   "metadata": {},
   "outputs": [
    {
     "data": {
      "text/plain": [
       "array([4.7636734 , 4.74536593, 4.73946801, ..., 2.78292698, 2.56928449,\n",
       "       2.4109227 ])"
      ]
     },
     "execution_count": 33,
     "metadata": {},
     "output_type": "execute_result"
    }
   ],
   "source": [
    "weighted_score = np.sort(weighted_score)[::-1]\n",
    "weighted_score"
   ]
  },
  {
   "cell_type": "code",
   "execution_count": 34,
   "id": "mathematical-devon",
   "metadata": {},
   "outputs": [],
   "source": [
    "weighted_product_ids = pivot_df.columns[weighted_rankings]"
   ]
  },
  {
   "cell_type": "code",
   "execution_count": 35,
   "id": "floppy-hierarchy",
   "metadata": {},
   "outputs": [],
   "source": [
    "product_df = df[['asin', 'imUrl']]"
   ]
  },
  {
   "cell_type": "code",
   "execution_count": 36,
   "id": "documentary-closer",
   "metadata": {},
   "outputs": [
    {
     "data": {
      "text/html": [
       "<div>\n",
       "<style scoped>\n",
       "    .dataframe tbody tr th:only-of-type {\n",
       "        vertical-align: middle;\n",
       "    }\n",
       "\n",
       "    .dataframe tbody tr th {\n",
       "        vertical-align: top;\n",
       "    }\n",
       "\n",
       "    .dataframe thead th {\n",
       "        text-align: right;\n",
       "    }\n",
       "</style>\n",
       "<table border=\"1\" class=\"dataframe\">\n",
       "  <thead>\n",
       "    <tr style=\"text-align: right;\">\n",
       "      <th></th>\n",
       "      <th>asin</th>\n",
       "      <th>imUrl</th>\n",
       "    </tr>\n",
       "  </thead>\n",
       "  <tbody>\n",
       "    <tr>\n",
       "      <th>0</th>\n",
       "      <td>B000HQ0L2E</td>\n",
       "      <td>http://ecx.images-amazon.com/images/I/313vMmXv...</td>\n",
       "    </tr>\n",
       "    <tr>\n",
       "      <th>1</th>\n",
       "      <td>B003FULBQ4</td>\n",
       "      <td>http://ecx.images-amazon.com/images/I/511Jshnt...</td>\n",
       "    </tr>\n",
       "    <tr>\n",
       "      <th>2</th>\n",
       "      <td>B0075X0Z46</td>\n",
       "      <td>http://ecx.images-amazon.com/images/I/31QsVepA...</td>\n",
       "    </tr>\n",
       "    <tr>\n",
       "      <th>3</th>\n",
       "      <td>B003UKM9CO</td>\n",
       "      <td>http://ecx.images-amazon.com/images/I/41ZOeb%2...</td>\n",
       "    </tr>\n",
       "    <tr>\n",
       "      <th>4</th>\n",
       "      <td>B004Q7CK4W</td>\n",
       "      <td>http://ecx.images-amazon.com/images/I/41fh85S0...</td>\n",
       "    </tr>\n",
       "    <tr>\n",
       "      <th>...</th>\n",
       "      <td>...</td>\n",
       "      <td>...</td>\n",
       "    </tr>\n",
       "    <tr>\n",
       "      <th>112905</th>\n",
       "      <td>B000Z8Z93K</td>\n",
       "      <td>http://ecx.images-amazon.com/images/I/5153EiTE...</td>\n",
       "    </tr>\n",
       "    <tr>\n",
       "      <th>112906</th>\n",
       "      <td>B00004YK10</td>\n",
       "      <td>http://ecx.images-amazon.com/images/I/41ptdc6T...</td>\n",
       "    </tr>\n",
       "    <tr>\n",
       "      <th>112907</th>\n",
       "      <td>B004VK5ON8</td>\n",
       "      <td>http://ecx.images-amazon.com/images/I/41eUU%2B...</td>\n",
       "    </tr>\n",
       "    <tr>\n",
       "      <th>112908</th>\n",
       "      <td>B001UNXE8G</td>\n",
       "      <td>http://ecx.images-amazon.com/images/I/41X9CgPt...</td>\n",
       "    </tr>\n",
       "    <tr>\n",
       "      <th>112909</th>\n",
       "      <td>B003SP4QAE</td>\n",
       "      <td>http://ecx.images-amazon.com/images/I/515dgxL5...</td>\n",
       "    </tr>\n",
       "  </tbody>\n",
       "</table>\n",
       "<p>112910 rows × 2 columns</p>\n",
       "</div>"
      ],
      "text/plain": [
       "              asin                                              imUrl\n",
       "0       B000HQ0L2E  http://ecx.images-amazon.com/images/I/313vMmXv...\n",
       "1       B003FULBQ4  http://ecx.images-amazon.com/images/I/511Jshnt...\n",
       "2       B0075X0Z46  http://ecx.images-amazon.com/images/I/31QsVepA...\n",
       "3       B003UKM9CO  http://ecx.images-amazon.com/images/I/41ZOeb%2...\n",
       "4       B004Q7CK4W  http://ecx.images-amazon.com/images/I/41fh85S0...\n",
       "...            ...                                                ...\n",
       "112905  B000Z8Z93K  http://ecx.images-amazon.com/images/I/5153EiTE...\n",
       "112906  B00004YK10  http://ecx.images-amazon.com/images/I/41ptdc6T...\n",
       "112907  B004VK5ON8  http://ecx.images-amazon.com/images/I/41eUU%2B...\n",
       "112908  B001UNXE8G  http://ecx.images-amazon.com/images/I/41X9CgPt...\n",
       "112909  B003SP4QAE  http://ecx.images-amazon.com/images/I/515dgxL5...\n",
       "\n",
       "[112910 rows x 2 columns]"
      ]
     },
     "execution_count": 36,
     "metadata": {},
     "output_type": "execute_result"
    }
   ],
   "source": [
    "product_df"
   ]
  },
  {
   "cell_type": "code",
   "execution_count": 37,
   "id": "united-nerve",
   "metadata": {},
   "outputs": [
    {
     "data": {
      "text/plain": [
       "Index(['B00AYE5EU8', 'B00DP5VX58', 'B001B13PC2', 'B0010JLMO8', 'B00GYSP2L4', 'B00HDPZCH6', 'B00JHKSKZQ', 'B00DGCWPAC', 'B00IT40BDA', 'B002EA99HE',\n",
       "       ...\n",
       "       'B005DDCKHK', 'B0087TNBUC', 'B00AW6YQVQ', 'B0096J28Z6', 'B00GY9DJCC', 'B0021AF9GC', 'B00AN5LADI', 'B006JKY3X0', 'B003KVO0GQ', 'B000GP1O4U'], dtype='object', name='asin', length=4342)"
      ]
     },
     "execution_count": 37,
     "metadata": {},
     "output_type": "execute_result"
    }
   ],
   "source": [
    "weighted_product_ids"
   ]
  },
  {
   "cell_type": "code",
   "execution_count": 38,
   "id": "upset-charge",
   "metadata": {},
   "outputs": [],
   "source": [
    "top_10 = weighted_product_ids[:10]"
   ]
  },
  {
   "cell_type": "code",
   "execution_count": 39,
   "id": "arranged-discretion",
   "metadata": {},
   "outputs": [],
   "source": [
    "cold_dict = defaultdict(list)\n",
    "for url in product_df[product_df.asin.isin(top_10)].drop_duplicates()['imUrl']:\n",
    "    cold_dict['products'].append(url)"
   ]
  },
  {
   "cell_type": "code",
   "execution_count": 40,
   "id": "verbal-video",
   "metadata": {},
   "outputs": [],
   "source": [
    "with open('cold_start.pickle', 'wb') as handle:\n",
    "    pickle.dump(cold_dict, handle)"
   ]
  },
  {
   "cell_type": "code",
   "execution_count": 41,
   "id": "military-capability",
   "metadata": {},
   "outputs": [],
   "source": [
    "cold = open(\"cold_dict.pkl\", \"wb\")\n",
    "pickle.dump(cold_dict, cold)\n",
    "cold.close()"
   ]
  },
  {
   "cell_type": "code",
   "execution_count": 42,
   "id": "capable-republican",
   "metadata": {},
   "outputs": [
    {
     "data": {
      "text/plain": [
       "defaultdict(list,\n",
       "            {'products': ['http://ecx.images-amazon.com/images/I/31-lnE%2B7duL._SY300_.jpg',\n",
       "              'http://ecx.images-amazon.com/images/I/41s5lXeFSUL._SX300_.jpg',\n",
       "              'http://ecx.images-amazon.com/images/I/31rcxRGbhaL._SY300_.jpg',\n",
       "              'http://ecx.images-amazon.com/images/I/41LrBoYpDNL._SY300_.jpg',\n",
       "              'http://ecx.images-amazon.com/images/I/51goAhM0gOL._SY300_.jpg',\n",
       "              'http://ecx.images-amazon.com/images/I/51wFa40jnSL._SX300_.jpg',\n",
       "              'http://ecx.images-amazon.com/images/I/511-6ozJKHL._SY300_.jpg',\n",
       "              'http://ecx.images-amazon.com/images/I/41IueSdjiML._SY300_.jpg',\n",
       "              'http://ecx.images-amazon.com/images/I/41h%2BaXBoi1L._SY300_.jpg',\n",
       "              'http://ecx.images-amazon.com/images/I/41hY7%2B2ZJuL._SY300_.jpg']})"
      ]
     },
     "execution_count": 42,
     "metadata": {},
     "output_type": "execute_result"
    }
   ],
   "source": [
    "cold_dict"
   ]
  },
  {
   "cell_type": "code",
   "execution_count": 9,
   "id": "regular-photography",
   "metadata": {},
   "outputs": [
    {
     "data": {
      "text/plain": [
       "(4342,)"
      ]
     },
     "execution_count": 9,
     "metadata": {},
     "output_type": "execute_result"
    }
   ],
   "source": [
    "weighted_product_ids.shape"
   ]
  },
  {
   "cell_type": "code",
   "execution_count": 12,
   "id": "orange-pension",
   "metadata": {},
   "outputs": [],
   "source": [
    "df_preds = df_test.set_index('asin').join(pd.DataFrame(\n",
    "    weighted_score, index=weighted_product_ids , columns=['Prediction'])\n",
    "                                         )[['overall', 'Prediction']]"
   ]
  },
  {
   "cell_type": "code",
   "execution_count": 14,
   "id": "fresh-alignment",
   "metadata": {},
   "outputs": [],
   "source": [
    "y_true = df_preds['overall']\n",
    "y_pred = df_preds['Prediction']\n",
    "\n",
    "y_pred.fillna(value=1, inplace=True)"
   ]
  },
  {
   "cell_type": "code",
   "execution_count": 15,
   "id": "confident-porter",
   "metadata": {},
   "outputs": [
    {
     "data": {
      "text/plain": [
       "1.007397682125784"
      ]
     },
     "execution_count": 15,
     "metadata": {},
     "output_type": "execute_result"
    }
   ],
   "source": [
    "rmse = np.sqrt(mean_squared_error(y_true, y_pred))\n",
    "rmse"
   ]
  },
  {
   "cell_type": "code",
   "execution_count": 20,
   "id": "sealed-longitude",
   "metadata": {},
   "outputs": [
    {
     "data": {
      "text/plain": [
       "Text(0, 0.5, 'Count')"
      ]
     },
     "execution_count": 20,
     "metadata": {},
     "output_type": "execute_result"
    },
    {
     "data": {
      "image/png": "[encoded data removed]",
      "text/plain": [
       "<Figure size 842.4x595.44 with 1 Axes>"
      ]
     },
     "metadata": {},
     "output_type": "display_data"
    }
   ],
   "source": [
    "# lets look at the distribution of error\n",
    "error = abs(df_preds['overall'] - df_preds['Prediction'])\n",
    "\n",
    "figure = sns.distplot(error, kde=True)\n",
    "plt.axvline(np.median(error),color='r', linestyle='--')\n",
    "plt.title('Distribution of Error: Weighted Averages', fontsize=18)\n",
    "sns.set(rc={'figure.figsize':(11.7,8.27)})\n",
    "plt.xlabel('Error', fontsize=16)\n",
    "plt.ylabel('Count', fontsize=16)\n",
    "# plt.savefig(r\"../images/weighted_average_error\");"
   ]
  },
  {
   "cell_type": "markdown",
   "id": "black-highlight",
   "metadata": {},
   "source": [
    "#### What are my top 10 cold start recommendations?"
   ]
  },
  {
   "cell_type": "code",
   "execution_count": 96,
   "id": "employed-railway",
   "metadata": {},
   "outputs": [
    {
     "data": {
      "image/png": "[encoded data removed]",
      "text/plain": [
       "<Figure size 842.4x595.44 with 1 Axes>"
      ]
     },
     "metadata": {},
     "output_type": "display_data"
    }
   ],
   "source": [
    "top_10 = weighted_score[:10]\n",
    "\n",
    "top_10_reviewed_products = ['Blender Bottle', 'Energizer Max Alkaline AAA', 'Dixie Ultra Disposable Plates', 'Lysol Disinfecting Wipes', 'Eastmart Digital Scale',\n",
    "                                 'NOW Foods Vitamin D3', 'Eklund Omega Fish Oil', 'Bounty Huge Roll', \n",
    "                                 'Panasonic Battery Storage Cases', 'Ettore 49036 Grip n Grab']\n",
    "\n",
    "# idx_list = top_10_reviewed_apps.index.tolist()\n",
    "figure = sns.barplot(x=top_10, y=top_10_reviewed_products)\n",
    "plt.title('Top 10 Cold Start Products', fontsize=18)\n",
    "sns.set(rc={'figure.figsize':(11.7,8.27)})\n",
    "plt.xlabel('Weighted Score', fontsize=16)\n",
    "plt.ylabel('Product Name', fontsize=16)\n",
    "# plt.savefig(r\"../images/top_10_coldstart\");"
   ]
  },
  {
   "cell_type": "markdown",
   "id": "successful-magnitude",
   "metadata": {},
   "source": [
    "##### Random Forest Product Recommender\n",
    "* Building per item recommender with user NLP features"
   ]
  },
  {
   "cell_type": "code",
   "execution_count": 25,
   "id": "constant-elimination",
   "metadata": {},
   "outputs": [],
   "source": [
    "df = pd.read_csv('../../merged_df.csv')"
   ]
  },
  {
   "cell_type": "code",
   "execution_count": 26,
   "id": "automotive-monitor",
   "metadata": {},
   "outputs": [],
   "source": [
    "df = df[df['title'].notna()]\n",
    "\n",
    "# select reviewer and product values\n",
    "customers = df['reviewerID'].value_counts()\n",
    "products = df['asin'].value_counts()\n",
    "\n",
    "# filter by 10 reviews per product per customer, products with 20 or more reviews\n",
    "customers = customers[customers >= 10]\n",
    "products = products[products >= 20]\n",
    "\n",
    "# merge dataframe\n",
    "df = df.merge(pd.DataFrame({'reviewerID': customers.index})).merge(pd.DataFrame({'asin': products.index}))"
   ]
  },
  {
   "cell_type": "code",
   "execution_count": 27,
   "id": "subsequent-cigarette",
   "metadata": {},
   "outputs": [],
   "source": [
    "model = custom_predictor(df)"
   ]
  },
  {
   "cell_type": "code",
   "execution_count": 28,
   "id": "vertical-europe",
   "metadata": {},
   "outputs": [],
   "source": [
    "model.fit(text_columns = ['summary'])"
   ]
  },
  {
   "cell_type": "code",
   "execution_count": 38,
   "id": "polyphonic-geneva",
   "metadata": {},
   "outputs": [
    {
     "name": "stdout",
     "output_type": "stream",
     "text": [
      "0.6516666666666667\n"
     ]
    }
   ],
   "source": [
    "preds = model.predict_one(model = RandomForestRegressor(), product='159985130X')"
   ]
  },
  {
   "cell_type": "code",
   "execution_count": 1,
   "id": "realistic-bobby",
   "metadata": {},
   "outputs": [],
   "source": [
    "# preds = model.predict_all(model = RandomForestRegressor())"
   ]
  }
 ],
 "metadata": {
  "kernelspec": {
   "display_name": "Python 3",
   "language": "python",
   "name": "python3"
  },
  "language_info": {
   "codemirror_mode": {
    "name": "ipython",
    "version": 3
   },
   "file_extension": ".py",
   "mimetype": "text/x-python",
   "name": "python",
   "nbconvert_exporter": "python",
   "pygments_lexer": "ipython3",
   "version": "3.8.5"
  }
 },
 "nbformat": 4,
 "nbformat_minor": 5
}
