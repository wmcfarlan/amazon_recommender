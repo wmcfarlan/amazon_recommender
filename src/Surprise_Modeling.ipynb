{
 "cells": [
  {
   "cell_type": "code",
   "execution_count": 2,
   "id": "sized-moscow",
   "metadata": {},
   "outputs": [
    {
     "name": "stdout",
     "output_type": "stream",
     "text": [
      "The autoreload extension is already loaded. To reload it, use:\n",
      "  %reload_ext autoreload\n"
     ]
    },
    {
     "data": {
      "text/html": [
       "        <script type=\"text/javascript\">\n",
       "        window.PlotlyConfig = {MathJaxConfig: 'local'};\n",
       "        if (window.MathJax) {MathJax.Hub.Config({SVG: {font: \"STIX-Web\"}});}\n",
       "        if (typeof require !== 'undefined') {\n",
       "        require.undef(\"plotly\");\n",
       "        requirejs.config({\n",
       "            paths: {\n",
       "                'plotly': ['https://cdn.plot.ly/plotly-latest.min']\n",
       "            }\n",
       "        });\n",
       "        require(['plotly'], function(Plotly) {\n",
       "            window._Plotly = Plotly;\n",
       "        });\n",
       "        }\n",
       "        </script>\n",
       "        "
      ]
     },
     "metadata": {},
     "output_type": "display_data"
    }
   ],
   "source": [
    "import pandas as pd\n",
    "import numpy as np\n",
    "import itertools\n",
    "import sklearn.model_selection\n",
    "from collections import defaultdict\n",
    "\n",
    "# display options\n",
    "pd.set_option('display.max_rows', 500)\n",
    "pd.set_option('display.max_columns', 500)\n",
    "pd.set_option('display.width', 1000)\n",
    "\n",
    "# visualization libraries\n",
    "import matplotlib.pyplot as plt\n",
    "import seaborn as sns\n",
    "import plotly.express as px\n",
    "import plotly.graph_objects as go\n",
    "\n",
    "# custom helper functions\n",
    "%load_ext autoreload\n",
    "%autoreload 2\n",
    "from helper.general_helper import *\n",
    "\n",
    "# surprise imorts\n",
    "from surprise import Reader, Dataset\n",
    "from surprise.model_selection import cross_validate\n",
    "from surprise.prediction_algorithms import SVD, NormalPredictor, SlopeOne, CoClustering, NMF\n",
    "from surprise.prediction_algorithms import KNNWithMeans, KNNBasic, KNNBaseline\n",
    "from surprise.model_selection import GridSearchCV\n",
    "from surprise.model_selection import train_test_split\n",
    "from surprise import accuracy\n",
    "from surprise.prediction_algorithms.baseline_only import BaselineOnly\n",
    "\n",
    "\n",
    "# view plotly in jupyter \n",
    "from plotly.offline import download_plotlyjs, init_notebook_mode, plot, iplot\n",
    "init_notebook_mode(connected=True)\n",
    "\n",
    "# ignore warnings\n",
    "import warnings\n",
    "warnings.filterwarnings(\"ignore\")"
   ]
  },
  {
   "cell_type": "code",
   "execution_count": 4,
   "id": "suspected-estonia",
   "metadata": {},
   "outputs": [],
   "source": [
    "df = pd.read_csv('../../merged_df.csv')\n",
    "\n",
    "df = df[df['title'].notna()]\n",
    "\n",
    "# select reviewer and product values\n",
    "customers = df['reviewerID'].value_counts()\n",
    "products = df['asin'].value_counts()\n",
    "\n",
    "# filter by 10 reviews per product per customer, products with 20 or more reviews\n",
    "customers = customers[customers >= 10]\n",
    "products = products[products >= 20]\n",
    "\n",
    "# merge dataframe\n",
    "df = df.merge(pd.DataFrame({'reviewerID': customers.index})).merge(pd.DataFrame({'asin': products.index}))\n",
    "\n",
    "\n",
    "# shuffle dataframe\n",
    "df = df.sample(frac=1, random_state=42).reset_index(drop=True)\n",
    "\n",
    "df = df[['reviewerID', 'asin', 'overall']]\n"
   ]
  },
  {
   "cell_type": "code",
   "execution_count": 6,
   "id": "bronze-insulin",
   "metadata": {},
   "outputs": [],
   "source": [
    "# load into correct format\n",
    "reader = Reader(rating_scale=(1, 5))\n",
    "\n",
    "# create testing data and holdout data into surprise formatting\n",
    "data = Dataset.load_from_df(df, reader)"
   ]
  },
  {
   "cell_type": "markdown",
   "id": "color-milwaukee",
   "metadata": {},
   "source": [
    "#### model selection and testing"
   ]
  },
  {
   "cell_type": "code",
   "execution_count": 7,
   "id": "little-hypothesis",
   "metadata": {},
   "outputs": [
    {
     "data": {
      "text/html": [
       "<div>\n",
       "<style scoped>\n",
       "    .dataframe tbody tr th:only-of-type {\n",
       "        vertical-align: middle;\n",
       "    }\n",
       "\n",
       "    .dataframe tbody tr th {\n",
       "        vertical-align: top;\n",
       "    }\n",
       "\n",
       "    .dataframe thead th {\n",
       "        text-align: right;\n",
       "    }\n",
       "</style>\n",
       "<table border=\"1\" class=\"dataframe\">\n",
       "  <thead>\n",
       "    <tr style=\"text-align: right;\">\n",
       "      <th></th>\n",
       "      <th>test_rmse</th>\n",
       "      <th>fit_time</th>\n",
       "      <th>test_time</th>\n",
       "    </tr>\n",
       "    <tr>\n",
       "      <th>Model</th>\n",
       "      <th></th>\n",
       "      <th></th>\n",
       "      <th></th>\n",
       "    </tr>\n",
       "  </thead>\n",
       "  <tbody>\n",
       "    <tr>\n",
       "      <th>SVD</th>\n",
       "      <td>0.951335</td>\n",
       "      <td>3.863344</td>\n",
       "      <td>0.237908</td>\n",
       "    </tr>\n",
       "    <tr>\n",
       "      <th>CoClustering</th>\n",
       "      <td>1.010012</td>\n",
       "      <td>2.729985</td>\n",
       "      <td>0.240903</td>\n",
       "    </tr>\n",
       "    <tr>\n",
       "      <th>SlopeOne</th>\n",
       "      <td>1.062582</td>\n",
       "      <td>0.542593</td>\n",
       "      <td>0.701739</td>\n",
       "    </tr>\n",
       "    <tr>\n",
       "      <th>NMF</th>\n",
       "      <td>1.090333</td>\n",
       "      <td>4.881558</td>\n",
       "      <td>0.219475</td>\n",
       "    </tr>\n",
       "    <tr>\n",
       "      <th>NormalPredictor</th>\n",
       "      <td>1.361589</td>\n",
       "      <td>0.116777</td>\n",
       "      <td>0.230014</td>\n",
       "    </tr>\n",
       "  </tbody>\n",
       "</table>\n",
       "</div>"
      ],
      "text/plain": [
       "                 test_rmse  fit_time  test_time\n",
       "Model                                          \n",
       "SVD               0.951335  3.863344   0.237908\n",
       "CoClustering      1.010012  2.729985   0.240903\n",
       "SlopeOne          1.062582  0.542593   0.701739\n",
       "NMF               1.090333  4.881558   0.219475\n",
       "NormalPredictor   1.361589  0.116777   0.230014"
      ]
     },
     "execution_count": 7,
     "metadata": {},
     "output_type": "execute_result"
    }
   ],
   "source": [
    "# check general untuned performance\n",
    "benchmark = []\n",
    "for model in [SVD(), NormalPredictor(), SlopeOne(), CoClustering(), NMF()]:\n",
    "    cv_score = cross_validate(model, data, measures=['RMSE'], cv=3, verbose=False)\n",
    "    \n",
    "    tmp = pd.DataFrame.from_dict(cv_score).mean(axis=0)\n",
    "    tmp = tmp.append(pd.Series([str(model).split(' ')[0].split('.')[-1]], index=['Model']))\n",
    "    benchmark.append(tmp)\n",
    "    \n",
    "pd.DataFrame(benchmark).set_index('Model').sort_values('test_rmse')  "
   ]
  },
  {
   "cell_type": "code",
   "execution_count": 9,
   "id": "sunrise-presentation",
   "metadata": {},
   "outputs": [],
   "source": [
    "param_grid = {'n_epochs': [5, 10, 40, 80], 'lr_all': [0.002, 0.005],\n",
    "              'reg_all': [0.4, 0.6]}"
   ]
  },
  {
   "cell_type": "code",
   "execution_count": 13,
   "id": "previous-valentine",
   "metadata": {},
   "outputs": [
    {
     "name": "stderr",
     "output_type": "stream",
     "text": [
      "[Parallel(n_jobs=-1)]: Using backend LokyBackend with 12 concurrent workers.\n",
      "[Parallel(n_jobs=-1)]: Done   8 tasks      | elapsed:    6.5s\n",
      "[Parallel(n_jobs=-1)]: Done 104 tasks      | elapsed:   49.8s\n",
      "[Parallel(n_jobs=-1)]: Done 240 out of 240 | elapsed:  3.6min finished\n"
     ]
    }
   ],
   "source": [
    "# SVD looks like the winner, lets tune the model and see how we can do\n",
    "param_grid = {'n_factors':[10, 30, 80], 'n_epochs': [5, 10, 40, 80], 'lr_all': [0.002, 0.005],\n",
    "              'reg_all': [0.4, 0.6]}\n",
    "\n",
    "# set grid_search\n",
    "gs_model = GridSearchCV(\n",
    "    algo_class = SVD,\n",
    "    param_grid = param_grid,\n",
    "    n_jobs = -1,\n",
    "    joblib_verbose = 3)\n",
    "\n",
    "# fit data\n",
    "gs_model.fit(data)"
   ]
  },
  {
   "cell_type": "code",
   "execution_count": 15,
   "id": "rural-porter",
   "metadata": {},
   "outputs": [
    {
     "name": "stdout",
     "output_type": "stream",
     "text": [
      "0.9419016436941277\n",
      "{'n_factors': 10, 'n_epochs': 80, 'lr_all': 0.002, 'reg_all': 0.4}\n"
     ]
    }
   ],
   "source": [
    "print(gs_model.best_score['rmse'])\n",
    "print(gs_model.best_params['rmse'])"
   ]
  },
  {
   "cell_type": "code",
   "execution_count": 16,
   "id": "blond-davis",
   "metadata": {},
   "outputs": [
    {
     "name": "stdout",
     "output_type": "stream",
     "text": [
      "RMSE: 0.9481\n"
     ]
    },
    {
     "data": {
      "text/plain": [
       "0.9481030011055485"
      ]
     },
     "execution_count": 16,
     "metadata": {},
     "output_type": "execute_result"
    }
   ],
   "source": [
    "trainset, testset = train_test_split(data, test_size=0.25)\n",
    "algo = SVD(n_factors=10, n_epochs=80, lr_all=0.002, reg_all=0.4)\n",
    "predictions = algo.fit(trainset).test(testset)\n",
    "accuracy.rmse(predictions)"
   ]
  },
  {
   "cell_type": "code",
   "execution_count": null,
   "id": "variable-envelope",
   "metadata": {},
   "outputs": [],
   "source": []
  },
  {
   "cell_type": "code",
   "execution_count": 17,
   "id": "covered-universe",
   "metadata": {},
   "outputs": [],
   "source": [
    "def get_Iu(uid):\n",
    "    \"\"\" return the number of items rated by given user\n",
    "    args: \n",
    "      uid: the id of the user\n",
    "    returns: \n",
    "      the number of items rated by the user\n",
    "    \"\"\"\n",
    "    try:\n",
    "        return len(trainset.ur[trainset.to_inner_uid(uid)])\n",
    "    except ValueError: # user was not part of the trainset\n",
    "        return 0\n",
    "    \n",
    "def get_Ui(iid):\n",
    "    \"\"\" return number of users that have rated given item\n",
    "    args:\n",
    "      iid: the raw id of the item\n",
    "    returns:\n",
    "      the number of users that have rated the item.\n",
    "    \"\"\"\n",
    "    try: \n",
    "        return len(trainset.ir[trainset.to_inner_iid(iid)])\n",
    "    except ValueError:\n",
    "        return 0\n",
    "    \n",
    "df = pd.DataFrame(predictions, columns=['uid', 'iid', 'rui', 'est', 'details'])\n",
    "df['Iu'] = df.uid.apply(get_Iu)\n",
    "df['Ui'] = df.iid.apply(get_Ui)\n",
    "df['err'] = abs(df.est - df.rui)\n",
    "best_predictions = df.sort_values(by='err')[:10]\n",
    "worst_predictions = df.sort_values(by='err')[-10:]"
   ]
  },
  {
   "cell_type": "code",
   "execution_count": 18,
   "id": "welsh-drinking",
   "metadata": {},
   "outputs": [],
   "source": [
    "df['rounded est'] = round(df.est)\n",
    "df['rounded_err'] = abs(df['rounded est'] - df.rui)"
   ]
  },
  {
   "cell_type": "markdown",
   "id": "smaller-thomson",
   "metadata": {},
   "source": [
    "##### How is our model doing?"
   ]
  },
  {
   "cell_type": "code",
   "execution_count": 23,
   "id": "liquid-rochester",
   "metadata": {},
   "outputs": [
    {
     "data": {
      "image/png": "[encoded data removed]",
      "text/plain": [
       "<Figure size 842.4x595.44 with 1 Axes>"
      ]
     },
     "metadata": {},
     "output_type": "display_data"
    }
   ],
   "source": [
    "error = df.rounded_err.values\n",
    "plt.hist(error);"
   ]
  },
  {
   "cell_type": "code",
   "execution_count": 21,
   "id": "danish-particular",
   "metadata": {},
   "outputs": [
    {
     "data": {
      "text/plain": [
       "Text(0, 0.5, 'Count')"
      ]
     },
     "execution_count": 21,
     "metadata": {},
     "output_type": "execute_result"
    },
    {
     "data": {
      "image/png": "[encoded data removed]",
      "text/plain": [
       "<Figure size 842.4x595.44 with 1 Axes>"
      ]
     },
     "metadata": {},
     "output_type": "display_data"
    }
   ],
   "source": [
    "figure = sns.distplot(df.err, kde=True)\n",
    "plt.axvline(np.median(error),color='r', linestyle='--')\n",
    "plt.title('Distribution of Error: Weighted Averages', fontsize=18)\n",
    "sns.set(rc={'figure.figsize':(11.7,8.27)})\n",
    "plt.xlabel('Error', fontsize=16)\n",
    "plt.ylabel('Count', fontsize=16)\n",
    "# plt.savefig(r\"../images/svd_error\");"
   ]
  },
  {
   "cell_type": "code",
   "execution_count": 22,
   "id": "generic-upgrade",
   "metadata": {},
   "outputs": [
    {
     "name": "stdout",
     "output_type": "stream",
     "text": [
      "0.7739093575290991\n",
      "0.7417506807724228\n",
      "0.7710721868365182\n",
      "0.7305213348611287\n",
      "0.760565968393973\n",
      "0.7303130073294746\n",
      "0.7686221669430626\n",
      "0.7344992288532434\n",
      "0.7656821963394347\n",
      "0.7324396024434504\n"
     ]
    }
   ],
   "source": [
    "from surprise.model_selection import KFold\n",
    "\n",
    "\n",
    "def precision_recall_at_k(predictions, k=10, threshold=3.5):\n",
    "    \"\"\"Return precision and recall at k metrics for each user\"\"\"\n",
    "\n",
    "    # First map the predictions to each user.\n",
    "    user_est_true = defaultdict(list)\n",
    "    for uid, _, true_r, est, _ in predictions:\n",
    "        user_est_true[uid].append((est, true_r))\n",
    "\n",
    "    precisions = dict()\n",
    "    recalls = dict()\n",
    "    for uid, user_ratings in user_est_true.items():\n",
    "\n",
    "        # Sort user ratings by estimated value\n",
    "        user_ratings.sort(key=lambda x: x[0], reverse=True)\n",
    "\n",
    "        # Number of relevant items\n",
    "        n_rel = sum((true_r >= threshold) for (_, true_r) in user_ratings)\n",
    "\n",
    "        # Number of recommended items in top k\n",
    "        n_rec_k = sum((est >= threshold) for (est, _) in user_ratings[:k])\n",
    "\n",
    "        # Number of relevant and recommended items in top k\n",
    "        n_rel_and_rec_k = sum(((true_r >= threshold) and (est >= threshold))\n",
    "                              for (est, true_r) in user_ratings[:k])\n",
    "\n",
    "        # Precision@K: Proportion of recommended items that are relevant\n",
    "        # When n_rec_k is 0, Precision is undefined. We here set it to 0.\n",
    "\n",
    "        precisions[uid] = n_rel_and_rec_k / n_rec_k if n_rec_k != 0 else 0\n",
    "\n",
    "        # Recall@K: Proportion of relevant items that are recommended\n",
    "        # When n_rel is 0, Recall is undefined. We here set it to 0.\n",
    "\n",
    "        recalls[uid] = n_rel_and_rec_k / n_rel if n_rel != 0 else 0\n",
    "\n",
    "    return precisions, recalls\n",
    "\n",
    "\n",
    "\n",
    "kf = KFold(n_splits=5)\n",
    "algo = SVD(n_factors=10, n_epochs=80, lr_all=0.002, reg_all=0.4)\n",
    "\n",
    "for trainset, testset in kf.split(data):\n",
    "    algo.fit(trainset)\n",
    "    predictions = algo.test(testset)\n",
    "    precisions, recalls = precision_recall_at_k(predictions, k=5, threshold=4)\n",
    "\n",
    "    # Precision and recall can then be averaged over all users\n",
    "    print(sum(prec for prec in precisions.values()) / len(precisions))\n",
    "    print(sum(rec for rec in recalls.values()) / len(recalls))"
   ]
  },
  {
   "cell_type": "code",
   "execution_count": null,
   "id": "fatty-healing",
   "metadata": {},
   "outputs": [],
   "source": []
  }
 ],
 "metadata": {
  "kernelspec": {
   "display_name": "Python 3",
   "language": "python",
   "name": "python3"
  },
  "language_info": {
   "codemirror_mode": {
    "name": "ipython",
    "version": 3
   },
   "file_extension": ".py",
   "mimetype": "text/x-python",
   "name": "python",
   "nbconvert_exporter": "python",
   "pygments_lexer": "ipython3",
   "version": "3.8.5"
  }
 },
 "nbformat": 4,
 "nbformat_minor": 5
}
