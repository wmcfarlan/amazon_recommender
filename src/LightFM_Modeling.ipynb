{
 "cells": [
  {
   "cell_type": "code",
   "execution_count": 2,
   "id": "psychological-logistics",
   "metadata": {},
   "outputs": [
    {
     "name": "stderr",
     "output_type": "stream",
     "text": [
      "C:\\Users\\walke\\anaconda3\\lib\\site-packages\\lightfm\\_lightfm_fast.py:9: UserWarning: LightFM was compiled without OpenMP support. Only a single thread will be used.\n",
      "  warnings.warn(\n"
     ]
    },
    {
     "data": {
      "text/html": [
       "        <script type=\"text/javascript\">\n",
       "        window.PlotlyConfig = {MathJaxConfig: 'local'};\n",
       "        if (window.MathJax) {MathJax.Hub.Config({SVG: {font: \"STIX-Web\"}});}\n",
       "        if (typeof require !== 'undefined') {\n",
       "        require.undef(\"plotly\");\n",
       "        requirejs.config({\n",
       "            paths: {\n",
       "                'plotly': ['https://cdn.plot.ly/plotly-latest.min']\n",
       "            }\n",
       "        });\n",
       "        require(['plotly'], function(Plotly) {\n",
       "            window._Plotly = Plotly;\n",
       "        });\n",
       "        }\n",
       "        </script>\n",
       "        "
      ]
     },
     "metadata": {},
     "output_type": "display_data"
    }
   ],
   "source": [
    "import pandas as pd\n",
    "import numpy as np\n",
    "import itertools\n",
    "import pickle\n",
    "from collections import defaultdict\n",
    "\n",
    "# display options\n",
    "pd.set_option('display.max_rows', 500)\n",
    "pd.set_option('display.max_columns', 500)\n",
    "pd.set_option('display.width', 1000)\n",
    "\n",
    "# visualization libraries\n",
    "import matplotlib.pyplot as plt\n",
    "import seaborn as sns\n",
    "import plotly.express as px\n",
    "import plotly.graph_objects as go\n",
    "\n",
    "# custom helper functions\n",
    "%load_ext autoreload\n",
    "%autoreload 2\n",
    "from helper.general_helper import *\n",
    "\n",
    "# lightfm\n",
    "from lightfm.data import Dataset\n",
    "from lightfm import LightFM\n",
    "from lightfm.cross_validation import random_train_test_split\n",
    "from lightfm.evaluation import auc_score\n",
    "\n",
    "\n",
    "# view plotly in jupyter \n",
    "from plotly.offline import download_plotlyjs, init_notebook_mode, plot, iplot\n",
    "init_notebook_mode(connected=True)\n",
    "\n",
    "# ignore warnings\n",
    "import warnings\n",
    "warnings.filterwarnings(\"ignore\")"
   ]
  },
  {
   "cell_type": "code",
   "execution_count": 3,
   "id": "unauthorized-citizen",
   "metadata": {},
   "outputs": [],
   "source": [
    "df = pd.read_csv('../../merged_df.csv')"
   ]
  },
  {
   "cell_type": "code",
   "execution_count": 4,
   "id": "destroyed-membership",
   "metadata": {},
   "outputs": [
    {
     "data": {
      "text/html": [
       "<div>\n",
       "<style scoped>\n",
       "    .dataframe tbody tr th:only-of-type {\n",
       "        vertical-align: middle;\n",
       "    }\n",
       "\n",
       "    .dataframe tbody tr th {\n",
       "        vertical-align: top;\n",
       "    }\n",
       "\n",
       "    .dataframe thead th {\n",
       "        text-align: right;\n",
       "    }\n",
       "</style>\n",
       "<table border=\"1\" class=\"dataframe\">\n",
       "  <thead>\n",
       "    <tr style=\"text-align: right;\">\n",
       "      <th></th>\n",
       "      <th>reviewerID</th>\n",
       "      <th>asin</th>\n",
       "      <th>reviewerName</th>\n",
       "      <th>helpful</th>\n",
       "      <th>reviewText</th>\n",
       "      <th>overall</th>\n",
       "      <th>summary</th>\n",
       "      <th>unixReviewTime</th>\n",
       "      <th>reviewTime</th>\n",
       "      <th>description</th>\n",
       "      <th>title</th>\n",
       "      <th>imUrl</th>\n",
       "      <th>related</th>\n",
       "      <th>salesRank</th>\n",
       "      <th>categories</th>\n",
       "      <th>price</th>\n",
       "      <th>brand</th>\n",
       "      <th>prod_review_counts</th>\n",
       "      <th>review_count</th>\n",
       "      <th>reviewer_cat</th>\n",
       "    </tr>\n",
       "  </thead>\n",
       "  <tbody>\n",
       "    <tr>\n",
       "      <th>0</th>\n",
       "      <td>ALC5GH8CAMAI7</td>\n",
       "      <td>159985130X</td>\n",
       "      <td>AnnN</td>\n",
       "      <td>[1, 1]</td>\n",
       "      <td>This is a great little gadget to have around. ...</td>\n",
       "      <td>5.0</td>\n",
       "      <td>Handy little gadget</td>\n",
       "      <td>1294185600</td>\n",
       "      <td>01 5, 2011</td>\n",
       "      <td>The Pocket Magnifier is so popular, we are hav...</td>\n",
       "      <td>Lightwedge Lighted Pocket Magnifier, Plum</td>\n",
       "      <td>http://ecx.images-amazon.com/images/I/31eVZtZ%...</td>\n",
       "      <td>{'also_bought': ['B002DGPUM2', 'B00524H8MC', '...</td>\n",
       "      <td>0.0</td>\n",
       "      <td>living-equipment-aids-supplies-visual-impairme...</td>\n",
       "      <td>24.95</td>\n",
       "      <td>NaN</td>\n",
       "      <td>medium</td>\n",
       "      <td>1</td>\n",
       "      <td>alergy</td>\n",
       "    </tr>\n",
       "    <tr>\n",
       "      <th>1</th>\n",
       "      <td>AHKSURW85PJUE</td>\n",
       "      <td>159985130X</td>\n",
       "      <td>AZ buyer \"AZ buyer\"</td>\n",
       "      <td>[1, 1]</td>\n",
       "      <td>I would recommend this for a travel magnifier ...</td>\n",
       "      <td>4.0</td>\n",
       "      <td>Small &amp; may need to encourage battery</td>\n",
       "      <td>1329523200</td>\n",
       "      <td>02 18, 2012</td>\n",
       "      <td>The Pocket Magnifier is so popular, we are hav...</td>\n",
       "      <td>Lightwedge Lighted Pocket Magnifier, Plum</td>\n",
       "      <td>http://ecx.images-amazon.com/images/I/31eVZtZ%...</td>\n",
       "      <td>{'also_bought': ['B002DGPUM2', 'B00524H8MC', '...</td>\n",
       "      <td>0.0</td>\n",
       "      <td>living-equipment-aids-supplies-visual-impairme...</td>\n",
       "      <td>24.95</td>\n",
       "      <td>NaN</td>\n",
       "      <td>medium</td>\n",
       "      <td>1</td>\n",
       "      <td>alergy</td>\n",
       "    </tr>\n",
       "    <tr>\n",
       "      <th>2</th>\n",
       "      <td>A38RMU1Y5TDP9</td>\n",
       "      <td>159985130X</td>\n",
       "      <td>Bob Tobias \"Robert Tobias\"</td>\n",
       "      <td>[75, 77]</td>\n",
       "      <td>What I liked was the quality of the lens and t...</td>\n",
       "      <td>4.0</td>\n",
       "      <td>Very good but not great</td>\n",
       "      <td>1275955200</td>\n",
       "      <td>06 8, 2010</td>\n",
       "      <td>The Pocket Magnifier is so popular, we are hav...</td>\n",
       "      <td>Lightwedge Lighted Pocket Magnifier, Plum</td>\n",
       "      <td>http://ecx.images-amazon.com/images/I/31eVZtZ%...</td>\n",
       "      <td>{'also_bought': ['B002DGPUM2', 'B00524H8MC', '...</td>\n",
       "      <td>0.0</td>\n",
       "      <td>living-equipment-aids-supplies-visual-impairme...</td>\n",
       "      <td>24.95</td>\n",
       "      <td>NaN</td>\n",
       "      <td>medium</td>\n",
       "      <td>1</td>\n",
       "      <td>scale</td>\n",
       "    </tr>\n",
       "    <tr>\n",
       "      <th>3</th>\n",
       "      <td>A1XZUG7DFXXOS4</td>\n",
       "      <td>159985130X</td>\n",
       "      <td>Cat lover</td>\n",
       "      <td>[56, 60]</td>\n",
       "      <td>Love the Great point light pocket magnifier!  ...</td>\n",
       "      <td>4.0</td>\n",
       "      <td>great addition to your purse</td>\n",
       "      <td>1202428800</td>\n",
       "      <td>02 8, 2008</td>\n",
       "      <td>The Pocket Magnifier is so popular, we are hav...</td>\n",
       "      <td>Lightwedge Lighted Pocket Magnifier, Plum</td>\n",
       "      <td>http://ecx.images-amazon.com/images/I/31eVZtZ%...</td>\n",
       "      <td>{'also_bought': ['B002DGPUM2', 'B00524H8MC', '...</td>\n",
       "      <td>0.0</td>\n",
       "      <td>living-equipment-aids-supplies-visual-impairme...</td>\n",
       "      <td>24.95</td>\n",
       "      <td>NaN</td>\n",
       "      <td>medium</td>\n",
       "      <td>1</td>\n",
       "      <td>scale</td>\n",
       "    </tr>\n",
       "    <tr>\n",
       "      <th>4</th>\n",
       "      <td>A1MS3M7M7AM13X</td>\n",
       "      <td>159985130X</td>\n",
       "      <td>Cricketoes</td>\n",
       "      <td>[1, 1]</td>\n",
       "      <td>This is very nice. You pull out on the magnifi...</td>\n",
       "      <td>5.0</td>\n",
       "      <td>Very nice and convenient.</td>\n",
       "      <td>1313452800</td>\n",
       "      <td>08 16, 2011</td>\n",
       "      <td>The Pocket Magnifier is so popular, we are hav...</td>\n",
       "      <td>Lightwedge Lighted Pocket Magnifier, Plum</td>\n",
       "      <td>http://ecx.images-amazon.com/images/I/31eVZtZ%...</td>\n",
       "      <td>{'also_bought': ['B002DGPUM2', 'B00524H8MC', '...</td>\n",
       "      <td>0.0</td>\n",
       "      <td>living-equipment-aids-supplies-visual-impairme...</td>\n",
       "      <td>24.95</td>\n",
       "      <td>NaN</td>\n",
       "      <td>medium</td>\n",
       "      <td>1</td>\n",
       "      <td>massage</td>\n",
       "    </tr>\n",
       "  </tbody>\n",
       "</table>\n",
       "</div>"
      ],
      "text/plain": [
       "       reviewerID        asin                reviewerName   helpful                                         reviewText  overall                                summary  unixReviewTime   reviewTime                                        description                                      title                                              imUrl                                            related  salesRank                                         categories  price brand prod_review_counts  review_count reviewer_cat\n",
       "0   ALC5GH8CAMAI7  159985130X                        AnnN    [1, 1]  This is a great little gadget to have around. ...      5.0                    Handy little gadget      1294185600   01 5, 2011  The Pocket Magnifier is so popular, we are hav...  Lightwedge Lighted Pocket Magnifier, Plum  http://ecx.images-amazon.com/images/I/31eVZtZ%...  {'also_bought': ['B002DGPUM2', 'B00524H8MC', '...        0.0  living-equipment-aids-supplies-visual-impairme...  24.95   NaN             medium             1       alergy\n",
       "1   AHKSURW85PJUE  159985130X         AZ buyer \"AZ buyer\"    [1, 1]  I would recommend this for a travel magnifier ...      4.0  Small & may need to encourage battery      1329523200  02 18, 2012  The Pocket Magnifier is so popular, we are hav...  Lightwedge Lighted Pocket Magnifier, Plum  http://ecx.images-amazon.com/images/I/31eVZtZ%...  {'also_bought': ['B002DGPUM2', 'B00524H8MC', '...        0.0  living-equipment-aids-supplies-visual-impairme...  24.95   NaN             medium             1       alergy\n",
       "2   A38RMU1Y5TDP9  159985130X  Bob Tobias \"Robert Tobias\"  [75, 77]  What I liked was the quality of the lens and t...      4.0                Very good but not great      1275955200   06 8, 2010  The Pocket Magnifier is so popular, we are hav...  Lightwedge Lighted Pocket Magnifier, Plum  http://ecx.images-amazon.com/images/I/31eVZtZ%...  {'also_bought': ['B002DGPUM2', 'B00524H8MC', '...        0.0  living-equipment-aids-supplies-visual-impairme...  24.95   NaN             medium             1        scale\n",
       "3  A1XZUG7DFXXOS4  159985130X                   Cat lover  [56, 60]  Love the Great point light pocket magnifier!  ...      4.0           great addition to your purse      1202428800   02 8, 2008  The Pocket Magnifier is so popular, we are hav...  Lightwedge Lighted Pocket Magnifier, Plum  http://ecx.images-amazon.com/images/I/31eVZtZ%...  {'also_bought': ['B002DGPUM2', 'B00524H8MC', '...        0.0  living-equipment-aids-supplies-visual-impairme...  24.95   NaN             medium             1        scale\n",
       "4  A1MS3M7M7AM13X  159985130X                  Cricketoes    [1, 1]  This is very nice. You pull out on the magnifi...      5.0              Very nice and convenient.      1313452800  08 16, 2011  The Pocket Magnifier is so popular, we are hav...  Lightwedge Lighted Pocket Magnifier, Plum  http://ecx.images-amazon.com/images/I/31eVZtZ%...  {'also_bought': ['B002DGPUM2', 'B00524H8MC', '...        0.0  living-equipment-aids-supplies-visual-impairme...  24.95   NaN             medium             1      massage"
      ]
     },
     "execution_count": 4,
     "metadata": {},
     "output_type": "execute_result"
    }
   ],
   "source": [
    "df.head()"
   ]
  },
  {
   "cell_type": "markdown",
   "id": "urban-tomato",
   "metadata": {},
   "source": [
    "##### Create Usier/Item/Review dataset plus item dataset"
   ]
  },
  {
   "cell_type": "code",
   "execution_count": 5,
   "id": "electric-telescope",
   "metadata": {},
   "outputs": [],
   "source": [
    "def generate_int_id(dataframe, id_col_name):\n",
    "    \"\"\"\n",
    "    Generate unique integer id for users, questions and answers\n",
    "\n",
    "    Parameters\n",
    "    ----------\n",
    "    dataframe: Dataframe\n",
    "        Pandas Dataframe for Users or Q&A. \n",
    "    id_col_name : String \n",
    "        New integer id's column name.\n",
    "        \n",
    "    Returns\n",
    "    -------\n",
    "    Dataframe\n",
    "        Updated dataframe containing new id column \n",
    "    \"\"\"\n",
    "    new_dataframe=dataframe.assign(\n",
    "        int_id_col_name=np.arange(len(dataframe))\n",
    "        ).reset_index(drop=True)\n",
    "    return new_dataframe.rename(columns={'int_id_col_name': 'int_id'})"
   ]
  },
  {
   "cell_type": "code",
   "execution_count": 6,
   "id": "material-university",
   "metadata": {},
   "outputs": [],
   "source": [
    "df = generate_int_id(df, 'reviewerID')"
   ]
  },
  {
   "cell_type": "code",
   "execution_count": 7,
   "id": "solar-symposium",
   "metadata": {},
   "outputs": [],
   "source": [
    "idx_dict = defaultdict(str)\n",
    "for real_id, num_id in zip(df.reviewerID, df.int_id):\n",
    "    idx_dict[num_id] = real_id"
   ]
  },
  {
   "cell_type": "code",
   "execution_count": 8,
   "id": "stretch-butter",
   "metadata": {},
   "outputs": [],
   "source": [
    "cut_down = df.groupby('reviewerID').filter(lambda x: len(x) >= 15)\n",
    "cut_down = df.groupby('asin').filter(lambda x: len(x)> 15)"
   ]
  },
  {
   "cell_type": "markdown",
   "id": "undefined-trial",
   "metadata": {},
   "source": [
    "##### set user ids as integers"
   ]
  },
  {
   "cell_type": "code",
   "execution_count": 9,
   "id": "toxic-phoenix",
   "metadata": {},
   "outputs": [],
   "source": [
    "# pass 1\n",
    "cut_down['related'] = cut_down.related.apply(lambda x: x.split()[1:13] if isinstance(x, str) else 'unknown')\n",
    "\n",
    "# pass 2\n",
    "cut_down['related'] = cut_down.related.apply(lambda x: \" \".join(x).strip('[,'))\n",
    "\n",
    "# final pass\n",
    "cut_down['related'] = cut_down.related.apply(lambda x: \" \".join(sorted(x.split(','))))"
   ]
  },
  {
   "cell_type": "code",
   "execution_count": 10,
   "id": "heated-banks",
   "metadata": {},
   "outputs": [],
   "source": [
    "df_uir = cut_down[['int_id', 'asin', 'overall']]"
   ]
  },
  {
   "cell_type": "code",
   "execution_count": 11,
   "id": "median-blond",
   "metadata": {},
   "outputs": [
    {
     "data": {
      "text/html": [
       "<div>\n",
       "<style scoped>\n",
       "    .dataframe tbody tr th:only-of-type {\n",
       "        vertical-align: middle;\n",
       "    }\n",
       "\n",
       "    .dataframe tbody tr th {\n",
       "        vertical-align: top;\n",
       "    }\n",
       "\n",
       "    .dataframe thead th {\n",
       "        text-align: right;\n",
       "    }\n",
       "</style>\n",
       "<table border=\"1\" class=\"dataframe\">\n",
       "  <thead>\n",
       "    <tr style=\"text-align: right;\">\n",
       "      <th></th>\n",
       "      <th>int_id</th>\n",
       "      <th>asin</th>\n",
       "      <th>overall</th>\n",
       "    </tr>\n",
       "  </thead>\n",
       "  <tbody>\n",
       "    <tr>\n",
       "      <th>0</th>\n",
       "      <td>0</td>\n",
       "      <td>159985130X</td>\n",
       "      <td>5.0</td>\n",
       "    </tr>\n",
       "    <tr>\n",
       "      <th>1</th>\n",
       "      <td>1</td>\n",
       "      <td>159985130X</td>\n",
       "      <td>4.0</td>\n",
       "    </tr>\n",
       "    <tr>\n",
       "      <th>2</th>\n",
       "      <td>2</td>\n",
       "      <td>159985130X</td>\n",
       "      <td>4.0</td>\n",
       "    </tr>\n",
       "    <tr>\n",
       "      <th>3</th>\n",
       "      <td>3</td>\n",
       "      <td>159985130X</td>\n",
       "      <td>4.0</td>\n",
       "    </tr>\n",
       "    <tr>\n",
       "      <th>4</th>\n",
       "      <td>4</td>\n",
       "      <td>159985130X</td>\n",
       "      <td>5.0</td>\n",
       "    </tr>\n",
       "  </tbody>\n",
       "</table>\n",
       "</div>"
      ],
      "text/plain": [
       "   int_id        asin  overall\n",
       "0       0  159985130X      5.0\n",
       "1       1  159985130X      4.0\n",
       "2       2  159985130X      4.0\n",
       "3       3  159985130X      4.0\n",
       "4       4  159985130X      5.0"
      ]
     },
     "execution_count": 11,
     "metadata": {},
     "output_type": "execute_result"
    }
   ],
   "source": [
    "df_uir.head()"
   ]
  },
  {
   "cell_type": "code",
   "execution_count": 12,
   "id": "overhead-unknown",
   "metadata": {},
   "outputs": [],
   "source": [
    "df_uf = cut_down[['int_id','reviewer_cat']]"
   ]
  },
  {
   "cell_type": "code",
   "execution_count": 13,
   "id": "czech-bride",
   "metadata": {},
   "outputs": [
    {
     "data": {
      "text/html": [
       "<div>\n",
       "<style scoped>\n",
       "    .dataframe tbody tr th:only-of-type {\n",
       "        vertical-align: middle;\n",
       "    }\n",
       "\n",
       "    .dataframe tbody tr th {\n",
       "        vertical-align: top;\n",
       "    }\n",
       "\n",
       "    .dataframe thead th {\n",
       "        text-align: right;\n",
       "    }\n",
       "</style>\n",
       "<table border=\"1\" class=\"dataframe\">\n",
       "  <thead>\n",
       "    <tr style=\"text-align: right;\">\n",
       "      <th></th>\n",
       "      <th>int_id</th>\n",
       "      <th>reviewer_cat</th>\n",
       "    </tr>\n",
       "  </thead>\n",
       "  <tbody>\n",
       "    <tr>\n",
       "      <th>0</th>\n",
       "      <td>0</td>\n",
       "      <td>alergy</td>\n",
       "    </tr>\n",
       "    <tr>\n",
       "      <th>1</th>\n",
       "      <td>1</td>\n",
       "      <td>alergy</td>\n",
       "    </tr>\n",
       "    <tr>\n",
       "      <th>2</th>\n",
       "      <td>2</td>\n",
       "      <td>scale</td>\n",
       "    </tr>\n",
       "    <tr>\n",
       "      <th>3</th>\n",
       "      <td>3</td>\n",
       "      <td>scale</td>\n",
       "    </tr>\n",
       "    <tr>\n",
       "      <th>4</th>\n",
       "      <td>4</td>\n",
       "      <td>massage</td>\n",
       "    </tr>\n",
       "  </tbody>\n",
       "</table>\n",
       "</div>"
      ],
      "text/plain": [
       "   int_id reviewer_cat\n",
       "0       0       alergy\n",
       "1       1       alergy\n",
       "2       2        scale\n",
       "3       3        scale\n",
       "4       4      massage"
      ]
     },
     "execution_count": 13,
     "metadata": {},
     "output_type": "execute_result"
    }
   ],
   "source": [
    "df_uf.head()"
   ]
  },
  {
   "cell_type": "code",
   "execution_count": 16,
   "id": "extra-phoenix",
   "metadata": {},
   "outputs": [],
   "source": [
    "df_if =  cut_down[['asin', 'prod_review_counts']]"
   ]
  },
  {
   "cell_type": "code",
   "execution_count": 17,
   "id": "conventional-developer",
   "metadata": {},
   "outputs": [
    {
     "data": {
      "text/html": [
       "<div>\n",
       "<style scoped>\n",
       "    .dataframe tbody tr th:only-of-type {\n",
       "        vertical-align: middle;\n",
       "    }\n",
       "\n",
       "    .dataframe tbody tr th {\n",
       "        vertical-align: top;\n",
       "    }\n",
       "\n",
       "    .dataframe thead th {\n",
       "        text-align: right;\n",
       "    }\n",
       "</style>\n",
       "<table border=\"1\" class=\"dataframe\">\n",
       "  <thead>\n",
       "    <tr style=\"text-align: right;\">\n",
       "      <th></th>\n",
       "      <th>asin</th>\n",
       "      <th>prod_review_counts</th>\n",
       "    </tr>\n",
       "  </thead>\n",
       "  <tbody>\n",
       "    <tr>\n",
       "      <th>0</th>\n",
       "      <td>159985130X</td>\n",
       "      <td>medium</td>\n",
       "    </tr>\n",
       "    <tr>\n",
       "      <th>1</th>\n",
       "      <td>159985130X</td>\n",
       "      <td>medium</td>\n",
       "    </tr>\n",
       "    <tr>\n",
       "      <th>2</th>\n",
       "      <td>159985130X</td>\n",
       "      <td>medium</td>\n",
       "    </tr>\n",
       "    <tr>\n",
       "      <th>3</th>\n",
       "      <td>159985130X</td>\n",
       "      <td>medium</td>\n",
       "    </tr>\n",
       "    <tr>\n",
       "      <th>4</th>\n",
       "      <td>159985130X</td>\n",
       "      <td>medium</td>\n",
       "    </tr>\n",
       "  </tbody>\n",
       "</table>\n",
       "</div>"
      ],
      "text/plain": [
       "         asin prod_review_counts\n",
       "0  159985130X             medium\n",
       "1  159985130X             medium\n",
       "2  159985130X             medium\n",
       "3  159985130X             medium\n",
       "4  159985130X             medium"
      ]
     },
     "execution_count": 17,
     "metadata": {},
     "output_type": "execute_result"
    }
   ],
   "source": [
    "df_if.head()"
   ]
  },
  {
   "cell_type": "markdown",
   "id": "confidential-vitamin",
   "metadata": {},
   "source": [
    "##### generating feature to unique values lists"
   ]
  },
  {
   "cell_type": "code",
   "execution_count": null,
   "id": "tired-bachelor",
   "metadata": {},
   "outputs": [],
   "source": [
    "item_feature_list = []\n",
    "\n",
    "# format should be 'feature:value'\n",
    "\n",
    "# selecting unique values\n",
    "prod_lst = [f\"prod_review_counts:{cat}\" for cat in df_if.prod_review_counts.unique()]\n",
    "rank_lst = [f\"salesRank:{num}\" for num in df_if.salesRank.unique()]\n",
    "price_lst = [f\"price:{num}\" for num in df_if.price.unique()]\n",
    "\n",
    "# appending list\n",
    "for cat in prod_lst:\n",
    "    item_feature_list.append(cat)\n",
    "for cat in rank_lst:\n",
    "    item_feature_list.append(cat)\n",
    "for cat in price_lst:\n",
    "    item_feature_list.append(cat)\n",
    "\n"
   ]
  },
  {
   "cell_type": "code",
   "execution_count": 24,
   "id": "healthy-defendant",
   "metadata": {},
   "outputs": [],
   "source": [
    "\n",
    "# user feature list\n",
    "user_feature_list = []\n",
    "\n",
    "rev_cat_lst = [f\"reviewer_cat:{cat}\" for cat in df_uf.reviewer_cat.unique()]\n",
    "\n",
    "\n",
    "\n",
    "for cat in rev_cat_lst:\n",
    "    user_feature_list.append(cat)"
   ]
  },
  {
   "cell_type": "markdown",
   "id": "incoming-pierce",
   "metadata": {},
   "source": [
    "##### setting LightFM dataset correctly"
   ]
  },
  {
   "cell_type": "code",
   "execution_count": 36,
   "id": "future-publicity",
   "metadata": {},
   "outputs": [],
   "source": [
    "dataset = Dataset()\n",
    "dataset.fit(cut_down['int_id'].unique(),\n",
    "            cut_down['asin'].unique())\n",
    "#             item_features = item_feature_list)"
   ]
  },
  {
   "cell_type": "markdown",
   "id": "conservative-mirror",
   "metadata": {},
   "source": [
    "##### set weights and build interactions"
   ]
  },
  {
   "cell_type": "code",
   "execution_count": 134,
   "id": "dressed-warner",
   "metadata": {},
   "outputs": [],
   "source": [
    "\n",
    "weight_dictionary = dict(df.groupby('asin').count()['reviewerID'].apply(lambda x: 1 / x))"
   ]
  },
  {
   "cell_type": "code",
   "execution_count": 135,
   "id": "integrated-garbage",
   "metadata": {},
   "outputs": [],
   "source": [
    "df_uir['weights'] = df_uir['asin'].apply(lambda x: weight_dictionary[x])"
   ]
  },
  {
   "cell_type": "code",
   "execution_count": 37,
   "id": "reliable-waste",
   "metadata": {},
   "outputs": [],
   "source": [
    "(interactions, weights) = dataset.build_interactions([(x[0], x[1], x[2]) for x in df_uir.values])"
   ]
  },
  {
   "cell_type": "markdown",
   "id": "intense-particle",
   "metadata": {},
   "source": [
    "##### building interactions"
   ]
  },
  {
   "cell_type": "code",
   "execution_count": 20,
   "id": "cleared-calculation",
   "metadata": {},
   "outputs": [
    {
     "data": {
      "text/html": [
       "<div>\n",
       "<style scoped>\n",
       "    .dataframe tbody tr th:only-of-type {\n",
       "        vertical-align: middle;\n",
       "    }\n",
       "\n",
       "    .dataframe tbody tr th {\n",
       "        vertical-align: top;\n",
       "    }\n",
       "\n",
       "    .dataframe thead th {\n",
       "        text-align: right;\n",
       "    }\n",
       "</style>\n",
       "<table border=\"1\" class=\"dataframe\">\n",
       "  <thead>\n",
       "    <tr style=\"text-align: right;\">\n",
       "      <th></th>\n",
       "      <th>asin</th>\n",
       "      <th>prod_review_counts</th>\n",
       "    </tr>\n",
       "  </thead>\n",
       "  <tbody>\n",
       "    <tr>\n",
       "      <th>0</th>\n",
       "      <td>159985130X</td>\n",
       "      <td>medium</td>\n",
       "    </tr>\n",
       "    <tr>\n",
       "      <th>1</th>\n",
       "      <td>159985130X</td>\n",
       "      <td>medium</td>\n",
       "    </tr>\n",
       "  </tbody>\n",
       "</table>\n",
       "</div>"
      ],
      "text/plain": [
       "         asin prod_review_counts\n",
       "0  159985130X             medium\n",
       "1  159985130X             medium"
      ]
     },
     "execution_count": 20,
     "metadata": {},
     "output_type": "execute_result"
    }
   ],
   "source": [
    "df_if.head(2)"
   ]
  },
  {
   "cell_type": "code",
   "execution_count": 138,
   "id": "federal-corrections",
   "metadata": {},
   "outputs": [
    {
     "data": {
      "text/html": [
       "<div>\n",
       "<style scoped>\n",
       "    .dataframe tbody tr th:only-of-type {\n",
       "        vertical-align: middle;\n",
       "    }\n",
       "\n",
       "    .dataframe tbody tr th {\n",
       "        vertical-align: top;\n",
       "    }\n",
       "\n",
       "    .dataframe thead th {\n",
       "        text-align: right;\n",
       "    }\n",
       "</style>\n",
       "<table border=\"1\" class=\"dataframe\">\n",
       "  <thead>\n",
       "    <tr style=\"text-align: right;\">\n",
       "      <th></th>\n",
       "      <th>int_id</th>\n",
       "      <th>reviewer_cat</th>\n",
       "    </tr>\n",
       "  </thead>\n",
       "  <tbody>\n",
       "    <tr>\n",
       "      <th>0</th>\n",
       "      <td>0</td>\n",
       "      <td>alergy</td>\n",
       "    </tr>\n",
       "    <tr>\n",
       "      <th>1</th>\n",
       "      <td>1</td>\n",
       "      <td>alergy</td>\n",
       "    </tr>\n",
       "  </tbody>\n",
       "</table>\n",
       "</div>"
      ],
      "text/plain": [
       "   int_id reviewer_cat\n",
       "0       0       alergy\n",
       "1       1       alergy"
      ]
     },
     "execution_count": 138,
     "metadata": {},
     "output_type": "execute_result"
    }
   ],
   "source": [
    "df_uf.head(2)"
   ]
  },
  {
   "cell_type": "markdown",
   "id": "hindu-paper",
   "metadata": {},
   "source": [
    "##### build item_feature for lightfm"
   ]
  },
  {
   "cell_type": "code",
   "execution_count": 139,
   "id": "changed-transportation",
   "metadata": {},
   "outputs": [
    {
     "name": "stdout",
     "output_type": "stream",
     "text": [
      "Final output: [['prod_review_counts:medium', 'salesRank:0.0', 'price:24.95'], ['prod_review_counts:medium', 'salesRank:0.0', 'price:24.95']]\n"
     ]
    }
   ],
   "source": [
    "# map each item category and values to app\n",
    "ad_subset = df_if[['prod_review_counts', 'salesRank', 'price']] \n",
    "ad_list = [list(x) for x in ad_subset.values]\n",
    "\n",
    "# helper function\n",
    "def feature_colon_value(my_list):\n",
    "    \"\"\"\n",
    "    Takes as input a list and prepends the columns names to respective values in the list.\n",
    "    For example: if my_list = [1,1,0,'del'],\n",
    "    resultant output = ['f1:1', 'f2:1', 'f3:0', 'loc:del']\n",
    "   \n",
    "    \"\"\"\n",
    "    result = []\n",
    "    ll = ['prod_review_counts:', 'salesRank:', 'price:']\n",
    "    aa = my_list\n",
    "    for x, y in zip(ll, aa):\n",
    "        res = str(x) +\"\"+ str(y)\n",
    "        result.append(res)\n",
    "    return result\n",
    "\n",
    "feature_list = []\n",
    "for item in ad_list:\n",
    "    feature_list.append(feature_colon_value(item))\n",
    "print(f'Final output: {feature_list[:2]}')"
   ]
  },
  {
   "cell_type": "code",
   "execution_count": 140,
   "id": "endless-minute",
   "metadata": {},
   "outputs": [],
   "source": [
    "# combining product with each distinct feature subset\n",
    "item_tuple = list(zip(df_if['asin'], feature_list))\n",
    "item_features = dataset.build_item_features(item_tuple, normalize=False)"
   ]
  },
  {
   "cell_type": "markdown",
   "id": "funky-mechanism",
   "metadata": {},
   "source": [
    "##### build user feature for lightfm"
   ]
  },
  {
   "cell_type": "code",
   "execution_count": 27,
   "id": "bearing-mistake",
   "metadata": {},
   "outputs": [
    {
     "name": "stdout",
     "output_type": "stream",
     "text": [
      "Final output: [['reviewer_cat:alergy'], ['reviewer_cat:alergy'], ['reviewer_cat:scale'], ['reviewer_cat:scale'], ['reviewer_cat:massage']]\n"
     ]
    }
   ],
   "source": [
    "ad_subset = df_uf[['reviewer_cat']] \n",
    "ad_list = [list(x) for x in ad_subset.values]\n",
    "\n",
    "# helper function\n",
    "def feature_colon_value(my_list):\n",
    "    \"\"\"\n",
    "    Takes as input a list and prepends the columns names to respective values in the list.\n",
    "    For example: if my_list = [1,1,0,'del'],\n",
    "    resultant output = ['f1:1', 'f2:1', 'f3:0', 'loc:del']\n",
    "   \n",
    "    \"\"\"\n",
    "    result = []\n",
    "    ll = ['reviewer_cat:']\n",
    "    aa = my_list\n",
    "    for x, y in zip(ll, aa):\n",
    "        res = str(x) +\"\"+ str(y)\n",
    "        result.append(res)\n",
    "    return result\n",
    "\n",
    "feature_list = []\n",
    "for item in ad_list:\n",
    "    feature_list.append(feature_colon_value(item))\n",
    "print(f'Final output: {feature_list[:5]}')"
   ]
  },
  {
   "cell_type": "code",
   "execution_count": 28,
   "id": "english-logistics",
   "metadata": {},
   "outputs": [],
   "source": [
    "user_tuple = list(zip(df_uf['int_id'], feature_list))\n",
    "user_features = dataset.build_user_features(user_tuple, normalize=False)"
   ]
  },
  {
   "cell_type": "markdown",
   "id": "collected-concept",
   "metadata": {},
   "source": [
    "##### model validation with hyperparameter tuning"
   ]
  },
  {
   "cell_type": "code",
   "execution_count": 38,
   "id": "enormous-ceramic",
   "metadata": {},
   "outputs": [],
   "source": [
    "train, test = random_train_test_split(interactions)"
   ]
  },
  {
   "cell_type": "code",
   "execution_count": 39,
   "id": "recognized-awareness",
   "metadata": {},
   "outputs": [
    {
     "data": {
      "text/plain": [
       "<lightfm.lightfm.LightFM at 0x2457e566bb0>"
      ]
     },
     "execution_count": 39,
     "metadata": {},
     "output_type": "execute_result"
    }
   ],
   "source": [
    "model = LightFM(loss='warp', no_components=20)\n",
    "model.fit(train, epochs=20, num_threads=1)"
   ]
  },
  {
   "cell_type": "code",
   "execution_count": 33,
   "id": "rural-niger",
   "metadata": {},
   "outputs": [],
   "source": [
    "from lightfm.evaluation import precision_at_k"
   ]
  },
  {
   "cell_type": "code",
   "execution_count": 40,
   "id": "waiting-grant",
   "metadata": {},
   "outputs": [
    {
     "name": "stdout",
     "output_type": "stream",
     "text": [
      "Train precision at k=20:\t0.0500\n",
      "Test precision at k=20:\t\t0.0019\n"
     ]
    }
   ],
   "source": [
    "k = 20\n",
    "print('Train precision at k={}:\\t{:.4f}'.format(k, precision_at_k(model, train, k=k).mean()))\n",
    "print('Test precision at k={}:\\t\\t{:.4f}'.format(k, precision_at_k(model, test, k=k).mean()))"
   ]
  },
  {
   "cell_type": "code",
   "execution_count": 144,
   "id": "premium-spare",
   "metadata": {},
   "outputs": [],
   "source": [
    "def sample_hyperparameters():\n",
    "    \"\"\"\n",
    "    Yield possible hyperparameter choices.\n",
    "    \"\"\"\n",
    "\n",
    "    while True:\n",
    "        yield {\n",
    "            \"no_components\": np.random.randint(10, 100),\n",
    "            \"learning_schedule\": np.random.choice([\"adagrad\", \"adadelta\"]),\n",
    "            \"loss\": np.random.choice([\"bpr\", \"warp\", \"warp-kos\"]),\n",
    "            \"learning_rate\": np.random.exponential(0.05),\n",
    "            \"item_alpha\": np.random.exponential(1e-8),\n",
    "            \"max_sampled\": np.random.randint(5, 15),\n",
    "            \"num_epochs\": np.random.randint(5, 100),\n",
    "        }\n",
    "        \n",
    "def random_search(train, test, num_samples=10):\n",
    "    \"\"\"\n",
    "    Sample random hyperparameters, fit a LightFM model, and evaluate it\n",
    "    on the test set.\n",
    "\n",
    "    Parameters\n",
    "    ----------\n",
    "\n",
    "    train: np.float32 coo_matrix of shape [n_users, n_items]\n",
    "        Training data.\n",
    "    test: np.float32 coo_matrix of shape [n_users, n_items]\n",
    "        Test data.\n",
    "    num_samples: int, optional\n",
    "        Number of hyperparameter choices to evaluate.\n",
    "\n",
    "\n",
    "    Returns\n",
    "    -------\n",
    "\n",
    "    generator of (auc_score, hyperparameter dict, fitted model)\n",
    "\n",
    "    \"\"\"\n",
    "\n",
    "    for hyperparams in itertools.islice(sample_hyperparameters(), num_samples):\n",
    "        num_epochs = hyperparams.pop(\"num_epochs\")\n",
    "\n",
    "        model = LightFM(**hyperparams)\n",
    "        model.fit(train, epochs=num_epochs, user_features=user_features, item_features= item_features)\n",
    "\n",
    "        score = auc_score(model,\n",
    "                      test, train_interactions=train,\n",
    "                      user_features=user_features,\n",
    "                      item_features=item_features\n",
    "                     ).mean()\n",
    "\n",
    "        hyperparams[\"num_epochs\"] = num_epochs\n",
    "\n",
    "        yield (score, hyperparams, model)"
   ]
  },
  {
   "cell_type": "code",
   "execution_count": null,
   "id": "facial-revision",
   "metadata": {},
   "outputs": [],
   "source": []
  },
  {
   "cell_type": "code",
   "execution_count": 145,
   "id": "compressed-environment",
   "metadata": {},
   "outputs": [],
   "source": [
    "(score, hyperparams, model) = max(random_search(train, test), key=lambda x: x[0])"
   ]
  },
  {
   "cell_type": "code",
   "execution_count": null,
   "id": "close-logistics",
   "metadata": {},
   "outputs": [],
   "source": [
    "optimized auc: 0.7297078967094421\n",
    "hyperparameters: {'no_components': 16, 'learning_schedule': 'adadelta', 'loss': 'warp', 'learning_rate': 0.004692430910889622, 'item_alpha': 1.0857673877772748e-08, 'max_sampled': 10, 'num_epochs': 25"
   ]
  },
  {
   "cell_type": "code",
   "execution_count": 57,
   "id": "revised-damages",
   "metadata": {},
   "outputs": [],
   "source": [
    "# with open('../../lightfm_cut.pickle', 'wb') as fle:\n",
    "#     pickle.dump(model, fle)"
   ]
  },
  {
   "cell_type": "markdown",
   "id": "united-safety",
   "metadata": {},
   "source": [
    "##### Known User Prediction"
   ]
  },
  {
   "cell_type": "code",
   "execution_count": null,
   "id": "medieval-government",
   "metadata": {},
   "outputs": [],
   "source": [
    "user_x = user_id_map['u3']\n",
    "n_users, n_items = interactions.shape # no of users * no of items\n",
    "model.predict(user_x, np.arange(n_items)) # means predict for all"
   ]
  },
  {
   "cell_type": "markdown",
   "id": "closing-majority",
   "metadata": {},
   "source": [
    "##### Unknown Users"
   ]
  },
  {
   "cell_type": "code",
   "execution_count": null,
   "id": "beautiful-coaching",
   "metadata": {},
   "outputs": [],
   "source": [
    "\n",
    "from scipy import sparse\n",
    "def format_newuser_input(user_feature_map, user_feature_list):\n",
    "  num_features = len(user_feature_list)\n",
    "  normalised_val = 1.0 \n",
    "  target_indices = []\n",
    "  for feature in user_feature_list:\n",
    "    try:\n",
    "        target_indices.append(user_feature_map[feature])\n",
    "    except KeyError:\n",
    "        print(\"new user feature encountered '{}'\".format(feature))\n",
    "        pass\n",
    "\n",
    "  new_user_features = np.zeros(len(user_feature_map.keys()))\n",
    "  for i in target_indices:\n",
    "    new_user_features[i] = normalised_val\n",
    "  new_user_features = sparse.csr_matrix(new_user_features)\n",
    "  return(new_user_features\n",
    "         \n",
    "\n",
    "new_user_features = format_newuser_input(user_feature_map, user_feature_list)\n",
    "model.predict(0, np.arange(n_items), user_features=new_user_features)"
   ]
  }
 ],
 "metadata": {
  "kernelspec": {
   "display_name": "Python 3",
   "language": "python",
   "name": "python3"
  },
  "language_info": {
   "codemirror_mode": {
    "name": "ipython",
    "version": 3
   },
   "file_extension": ".py",
   "mimetype": "text/x-python",
   "name": "python",
   "nbconvert_exporter": "python",
   "pygments_lexer": "ipython3",
   "version": "3.8.5"
  }
 },
 "nbformat": 4,
 "nbformat_minor": 5
}
