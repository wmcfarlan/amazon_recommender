{
 "cells": [
  {
   "cell_type": "code",
   "execution_count": 4,
   "id": "logical-ceramic",
   "metadata": {},
   "outputs": [
    {
     "name": "stdout",
     "output_type": "stream",
     "text": [
      "The autoreload extension is already loaded. To reload it, use:\n",
      "  %reload_ext autoreload\n"
     ]
    },
    {
     "data": {
      "text/html": [
       "        <script type=\"text/javascript\">\n",
       "        window.PlotlyConfig = {MathJaxConfig: 'local'};\n",
       "        if (window.MathJax) {MathJax.Hub.Config({SVG: {font: \"STIX-Web\"}});}\n",
       "        if (typeof require !== 'undefined') {\n",
       "        require.undef(\"plotly\");\n",
       "        requirejs.config({\n",
       "            paths: {\n",
       "                'plotly': ['https://cdn.plot.ly/plotly-latest.min']\n",
       "            }\n",
       "        });\n",
       "        require(['plotly'], function(Plotly) {\n",
       "            window._Plotly = Plotly;\n",
       "        });\n",
       "        }\n",
       "        </script>\n",
       "        "
      ]
     },
     "metadata": {},
     "output_type": "display_data"
    }
   ],
   "source": [
    "import pandas as pd\n",
    "import numpy as np\n",
    "import itertools\n",
    "from collections import defaultdict\n",
    "\n",
    "# display options\n",
    "pd.set_option('display.max_rows', 500)\n",
    "pd.set_option('display.max_columns', 500)\n",
    "pd.set_option('display.width', 1000)\n",
    "\n",
    "# visualization libraries\n",
    "import matplotlib.pyplot as plt\n",
    "import seaborn as sns\n",
    "import plotly.express as px\n",
    "import plotly.graph_objects as go\n",
    "\n",
    "# custom helper functions\n",
    "%load_ext autoreload\n",
    "%autoreload 2\n",
    "# from helper.general_helper import *\n",
    "# from helper.keras_predictions import *\n",
    "\n",
    "# sklearn\n",
    "from sklearn.model_selection import train_test_split\n",
    "from sklearn.cluster import KMeans\n",
    "from sklearn.metrics import mean_squared_error\n",
    "from sklearn.cluster import AgglomerativeClustering\n",
    "from sklearn.feature_extraction.text import TfidfVectorizer\n",
    "\n",
    "# view plotly in jupyter \n",
    "from plotly.offline import download_plotlyjs, init_notebook_mode, plot, iplot\n",
    "init_notebook_mode(connected=True)\n",
    "\n",
    "# ignore warnings\n",
    "import warnings\n",
    "warnings.filterwarnings(\"ignore\")"
   ]
  },
  {
   "cell_type": "markdown",
   "id": "partial-chancellor",
   "metadata": {},
   "source": [
    "#### Reduce Sparcity"
   ]
  },
  {
   "cell_type": "code",
   "execution_count": 8,
   "id": "informed-consolidation",
   "metadata": {},
   "outputs": [],
   "source": [
    "df = pd.read_csv(\"../../merged_df.csv\")"
   ]
  },
  {
   "cell_type": "code",
   "execution_count": 9,
   "id": "advisory-employee",
   "metadata": {},
   "outputs": [],
   "source": [
    "df = df[df['title'].notna()]\n",
    "\n",
    "# select reviewer and product values\n",
    "customers = df['reviewerID'].value_counts()\n",
    "products = df['asin'].value_counts()\n",
    "\n",
    "# filter by 10 reviews per product per customer, products with 20 or more reviews\n",
    "customers = customers[customers >= 10]\n",
    "products = products[products >= 20]\n",
    "\n",
    "# merge dataframe\n",
    "df = df.merge(pd.DataFrame({'reviewerID': customers.index})).merge(pd.DataFrame({'asin': products.index}))\n",
    "\n",
    "\n",
    "# select test size\n",
    "n = 39601\n",
    "\n",
    "# shuffle dataframe\n",
    "df = df.sample(frac=1).reset_index(drop=True)\n",
    "\n",
    "# split into train and test set\n",
    "df_train = df[:-n]\n",
    "df_test = df[-n:]"
   ]
  },
  {
   "cell_type": "markdown",
   "id": "rapid-grain",
   "metadata": {},
   "source": [
    "#### Recommending off KMeans"
   ]
  },
  {
   "cell_type": "code",
   "execution_count": 10,
   "id": "improving-store",
   "metadata": {},
   "outputs": [],
   "source": [
    "# create user product privot table\n",
    "pivot_df = df.pivot_table(index='reviewerID', columns='asin', values='overall', fill_value=0)\n",
    "\n",
    "# set cluster at 100\n",
    "kmeans = KMeans(n_clusters=100, random_state=0).fit(pivot_df)\n",
    "\n",
    "# redict users belonging to clusters\n",
    "preds = kmeans.predict(pivot_df)\n",
    "\n",
    "# create a dictionary with user id and their predicted class for mapping\n",
    "user_pred_dict = defaultdict(int)\n",
    "for user, pred in zip(pivot_df.index, preds):\n",
    "    user_pred_dict[user] = pred\n",
    "    \n",
    "    \n",
    "# create class column for users based on kmeans    \n",
    "df['class'] = df.reviewerID.apply(lambda x: user_pred_dict[x])\n",
    "\n",
    "# find overall mean per cluster for recommendations\n",
    "pred_dict = dict(df.groupby('class').mean().overall)\n",
    "\n",
    "# create a predicted column for each user\n",
    "df['preds'] = df['class'].apply(lambda x: pred_dict[x])"
   ]
  },
  {
   "cell_type": "code",
   "execution_count": 11,
   "id": "liquid-origin",
   "metadata": {},
   "outputs": [
    {
     "data": {
      "text/plain": [
       "1.0403417066684297"
      ]
     },
     "execution_count": 11,
     "metadata": {},
     "output_type": "execute_result"
    }
   ],
   "source": [
    "\n",
    "# testing RMSE\n",
    "test_values = df[['overall', 'preds']]\n",
    "\n",
    "\n",
    "rmse = np.sqrt(mean_squared_error(test_values['overall'], test_values['preds']))\n",
    "rmse"
   ]
  },
  {
   "cell_type": "code",
   "execution_count": null,
   "id": "experimental-wrist",
   "metadata": {},
   "outputs": [],
   "source": [
    "# plot the distribution of error\n",
    "error = abs(df['overall'] - df['preds'])\n",
    "\n",
    "figure = sns.distplot(error, kde=True)\n",
    "plt.axvline(np.median(error),color='r', linestyle='--')\n",
    "plt.title('Distribution of Error: KMeans', fontsize=18)\n",
    "sns.set(rc={'figure.figsize':(11.7,8.27)})\n",
    "plt.xlabel('Error', fontsize=16)\n",
    "plt.ylabel('Count', fontsize=16)\n",
    "# plt.savefig(r\"../images/kmeans_error\");"
   ]
  },
  {
   "cell_type": "markdown",
   "id": "informed-wrapping",
   "metadata": {},
   "source": [
    "##### Testing Agglomerative Clustering with Ward linkage"
   ]
  },
  {
   "cell_type": "code",
   "execution_count": 14,
   "id": "timely-credits",
   "metadata": {},
   "outputs": [],
   "source": [
    "# set clustering\n",
    "alg = AgglomerativeClustering(n_clusters=100)\n",
    "preds = alg.fit_predict(pivot_df)\n",
    "\n",
    "# create mapping dictionary\n",
    "user_pred_dict = defaultdict(int)\n",
    "for user, pred in zip(pivot_df.index, preds):\n",
    "    user_pred_dict[user] = pred\n",
    "    \n",
    "# asigning classes    \n",
    "df['class'] = df.reviewerID.apply(lambda x: user_pred_dict[x])\n",
    "\n",
    "# get user predictions\n",
    "pred_dict = dict(df.groupby('class').mean().overall)\n",
    "\n",
    "# set prediction column\n",
    "df['preds'] = df['class'].apply(lambda x: pred_dict[x])"
   ]
  },
  {
   "cell_type": "code",
   "execution_count": 15,
   "id": "colonial-principal",
   "metadata": {},
   "outputs": [
    {
     "data": {
      "text/plain": [
       "1.0342468254176373"
      ]
     },
     "execution_count": 15,
     "metadata": {},
     "output_type": "execute_result"
    }
   ],
   "source": [
    "test_values = df[['overall', 'preds']]\n",
    "\n",
    "rmse = np.sqrt(mean_squared_error(test_values['overall'], test_values['preds']))\n",
    "rmse"
   ]
  },
  {
   "cell_type": "code",
   "execution_count": 17,
   "id": "palestinian-terror",
   "metadata": {},
   "outputs": [
    {
     "data": {
      "text/plain": [
       "Text(0, 0.5, 'Count')"
      ]
     },
     "execution_count": 17,
     "metadata": {},
     "output_type": "execute_result"
    },
    {
     "data": {
      "image/png": "[encoded data removed]",
      "text/plain": [
       "<Figure size 842.4x595.44 with 1 Axes>"
      ]
     },
     "metadata": {},
     "output_type": "display_data"
    }
   ],
   "source": [
    "error = abs(df['overall'] - df['preds'])\n",
    "\n",
    "figure = sns.distplot(error, kde=True)\n",
    "plt.axvline(np.median(error),color='r', linestyle='--')\n",
    "plt.title('Distribution of Error: Agglomerative Clustering', fontsize=18)\n",
    "sns.set(rc={'figure.figsize':(11.7,8.27)})\n",
    "plt.xlabel('Error', fontsize=16)\n",
    "plt.ylabel('Count', fontsize=16)\n",
    "# plt.savefig(r\"../images/kmeans_error\");"
   ]
  }
 ],
 "metadata": {
  "kernelspec": {
   "display_name": "Python 3",
   "language": "python",
   "name": "python3"
  },
  "language_info": {
   "codemirror_mode": {
    "name": "ipython",
    "version": 3
   },
   "file_extension": ".py",
   "mimetype": "text/x-python",
   "name": "python",
   "nbconvert_exporter": "python",
   "pygments_lexer": "ipython3",
   "version": "3.8.5"
  }
 },
 "nbformat": 4,
 "nbformat_minor": 5
}
